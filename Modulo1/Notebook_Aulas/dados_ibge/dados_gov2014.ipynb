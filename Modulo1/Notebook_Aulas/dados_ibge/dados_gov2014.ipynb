{
 "cells": [
  {
   "cell_type": "code",
   "execution_count": 1,
   "id": "1e8a472f-4dd3-40b5-8757-156bf3bdb205",
   "metadata": {},
   "outputs": [],
   "source": [
    "import pandas as pd"
   ]
  },
  {
   "cell_type": "code",
   "execution_count": 2,
   "id": "f093b656-a266-44e6-99b5-b1f4855f5e4a",
   "metadata": {},
   "outputs": [
    {
     "data": {
      "text/html": [
       "<div>\n",
       "<style scoped>\n",
       "    .dataframe tbody tr th:only-of-type {\n",
       "        vertical-align: middle;\n",
       "    }\n",
       "\n",
       "    .dataframe tbody tr th {\n",
       "        vertical-align: top;\n",
       "    }\n",
       "\n",
       "    .dataframe thead th {\n",
       "        text-align: right;\n",
       "    }\n",
       "</style>\n",
       "<table border=\"1\" class=\"dataframe\">\n",
       "  <thead>\n",
       "    <tr style=\"text-align: right;\">\n",
       "      <th></th>\n",
       "      <th>Gestor</th>\n",
       "      <th>Canal de Origem</th>\n",
       "      <th>Região</th>\n",
       "      <th>UF</th>\n",
       "      <th>Cidade</th>\n",
       "      <th>Sexo</th>\n",
       "      <th>Faixa Etária</th>\n",
       "      <th>Ano Abertura</th>\n",
       "      <th>Mês Abertura</th>\n",
       "      <th>Data Abertura</th>\n",
       "      <th>...</th>\n",
       "      <th>Como Comprou Contratou</th>\n",
       "      <th>Procurou Empresa</th>\n",
       "      <th>Respondida</th>\n",
       "      <th>Situação</th>\n",
       "      <th>Avaliação Reclamação</th>\n",
       "      <th>Nota do Consumidor</th>\n",
       "      <th>Análise da Recusa</th>\n",
       "      <th>Edição de Conteúdo</th>\n",
       "      <th>Interação do Gestor</th>\n",
       "      <th>Total</th>\n",
       "    </tr>\n",
       "  </thead>\n",
       "  <tbody>\n",
       "    <tr>\n",
       "      <th>0</th>\n",
       "      <td>Secretaria Nacional do Consumidor</td>\n",
       "      <td>Não identificado</td>\n",
       "      <td>SE</td>\n",
       "      <td>RJ</td>\n",
       "      <td>Itaboraí</td>\n",
       "      <td>M</td>\n",
       "      <td>entre 31 a 40 anos</td>\n",
       "      <td>2014</td>\n",
       "      <td>6</td>\n",
       "      <td>27/06/2014</td>\n",
       "      <td>...</td>\n",
       "      <td>Não comprei / contratei</td>\n",
       "      <td>S</td>\n",
       "      <td>S</td>\n",
       "      <td>Finalizada não avaliada</td>\n",
       "      <td>Não Avaliada</td>\n",
       "      <td>NaN</td>\n",
       "      <td>NaN</td>\n",
       "      <td>N</td>\n",
       "      <td>N</td>\n",
       "      <td>1</td>\n",
       "    </tr>\n",
       "    <tr>\n",
       "      <th>1</th>\n",
       "      <td>Instituto Estadual de Proteção e Defesa do Con...</td>\n",
       "      <td>Não identificado</td>\n",
       "      <td>SE</td>\n",
       "      <td>ES</td>\n",
       "      <td>Serra</td>\n",
       "      <td>F</td>\n",
       "      <td>entre 31 a 40 anos</td>\n",
       "      <td>2014</td>\n",
       "      <td>6</td>\n",
       "      <td>11/06/2014</td>\n",
       "      <td>...</td>\n",
       "      <td>Internet</td>\n",
       "      <td>S</td>\n",
       "      <td>S</td>\n",
       "      <td>Finalizada avaliada</td>\n",
       "      <td>Não Resolvida</td>\n",
       "      <td>1.0</td>\n",
       "      <td>NaN</td>\n",
       "      <td>N</td>\n",
       "      <td>N</td>\n",
       "      <td>1</td>\n",
       "    </tr>\n",
       "    <tr>\n",
       "      <th>2</th>\n",
       "      <td>Secretaria Nacional do Consumidor</td>\n",
       "      <td>Não identificado</td>\n",
       "      <td>SE</td>\n",
       "      <td>RJ</td>\n",
       "      <td>Volta Redonda</td>\n",
       "      <td>M</td>\n",
       "      <td>entre 31 a 40 anos</td>\n",
       "      <td>2014</td>\n",
       "      <td>6</td>\n",
       "      <td>27/06/2014</td>\n",
       "      <td>...</td>\n",
       "      <td>Internet</td>\n",
       "      <td>S</td>\n",
       "      <td>S</td>\n",
       "      <td>Finalizada avaliada</td>\n",
       "      <td>Resolvida</td>\n",
       "      <td>5.0</td>\n",
       "      <td>NaN</td>\n",
       "      <td>N</td>\n",
       "      <td>N</td>\n",
       "      <td>1</td>\n",
       "    </tr>\n",
       "    <tr>\n",
       "      <th>3</th>\n",
       "      <td>Instituto de Promoção e Defesa do Cidadão e Co...</td>\n",
       "      <td>Não identificado</td>\n",
       "      <td>NE</td>\n",
       "      <td>MA</td>\n",
       "      <td>São Luís</td>\n",
       "      <td>F</td>\n",
       "      <td>entre 31 a 40 anos</td>\n",
       "      <td>2014</td>\n",
       "      <td>5</td>\n",
       "      <td>29/05/2014</td>\n",
       "      <td>...</td>\n",
       "      <td>Não comprei / contratei</td>\n",
       "      <td>S</td>\n",
       "      <td>S</td>\n",
       "      <td>Finalizada avaliada</td>\n",
       "      <td>Resolvida</td>\n",
       "      <td>5.0</td>\n",
       "      <td>NaN</td>\n",
       "      <td>N</td>\n",
       "      <td>N</td>\n",
       "      <td>1</td>\n",
       "    </tr>\n",
       "    <tr>\n",
       "      <th>4</th>\n",
       "      <td>Secretaria de Desenvolvimento Social e Direito...</td>\n",
       "      <td>Não identificado</td>\n",
       "      <td>NE</td>\n",
       "      <td>PE</td>\n",
       "      <td>Recife</td>\n",
       "      <td>M</td>\n",
       "      <td>entre 21 a 30 anos</td>\n",
       "      <td>2014</td>\n",
       "      <td>6</td>\n",
       "      <td>30/06/2014</td>\n",
       "      <td>...</td>\n",
       "      <td>Internet</td>\n",
       "      <td>S</td>\n",
       "      <td>S</td>\n",
       "      <td>Finalizada não avaliada</td>\n",
       "      <td>Não Avaliada</td>\n",
       "      <td>NaN</td>\n",
       "      <td>NaN</td>\n",
       "      <td>N</td>\n",
       "      <td>N</td>\n",
       "      <td>1</td>\n",
       "    </tr>\n",
       "  </tbody>\n",
       "</table>\n",
       "<p>5 rows × 38 columns</p>\n",
       "</div>"
      ],
      "text/plain": [
       "                                              Gestor   Canal de Origem Região  \\\n",
       "0                  Secretaria Nacional do Consumidor  Não identificado     SE   \n",
       "1  Instituto Estadual de Proteção e Defesa do Con...  Não identificado     SE   \n",
       "2                  Secretaria Nacional do Consumidor  Não identificado     SE   \n",
       "3  Instituto de Promoção e Defesa do Cidadão e Co...  Não identificado     NE   \n",
       "4  Secretaria de Desenvolvimento Social e Direito...  Não identificado     NE   \n",
       "\n",
       "   UF         Cidade Sexo        Faixa Etária  Ano Abertura  Mês Abertura  \\\n",
       "0  RJ       Itaboraí    M  entre 31 a 40 anos          2014             6   \n",
       "1  ES          Serra    F  entre 31 a 40 anos          2014             6   \n",
       "2  RJ  Volta Redonda    M  entre 31 a 40 anos          2014             6   \n",
       "3  MA       São Luís    F  entre 31 a 40 anos          2014             5   \n",
       "4  PE         Recife    M  entre 21 a 30 anos          2014             6   \n",
       "\n",
       "  Data Abertura  ...   Como Comprou Contratou Procurou Empresa Respondida  \\\n",
       "0    27/06/2014  ...  Não comprei / contratei                S          S   \n",
       "1    11/06/2014  ...                 Internet                S          S   \n",
       "2    27/06/2014  ...                 Internet                S          S   \n",
       "3    29/05/2014  ...  Não comprei / contratei                S          S   \n",
       "4    30/06/2014  ...                 Internet                S          S   \n",
       "\n",
       "                  Situação Avaliação Reclamação Nota do Consumidor  \\\n",
       "0  Finalizada não avaliada         Não Avaliada                NaN   \n",
       "1      Finalizada avaliada        Não Resolvida                1.0   \n",
       "2      Finalizada avaliada            Resolvida                5.0   \n",
       "3      Finalizada avaliada            Resolvida                5.0   \n",
       "4  Finalizada não avaliada         Não Avaliada                NaN   \n",
       "\n",
       "  Análise da Recusa Edição de Conteúdo Interação do Gestor Total  \n",
       "0               NaN                  N                   N     1  \n",
       "1               NaN                  N                   N     1  \n",
       "2               NaN                  N                   N     1  \n",
       "3               NaN                  N                   N     1  \n",
       "4               NaN                  N                   N     1  \n",
       "\n",
       "[5 rows x 38 columns]"
      ]
     },
     "execution_count": 2,
     "metadata": {},
     "output_type": "execute_result"
    }
   ],
   "source": [
    "df = pd.read_csv('dadosgovbr2014.csv', delimiter=\";\")\n",
    "df.head()"
   ]
  },
  {
   "cell_type": "code",
   "execution_count": 3,
   "id": "188c9505-6829-4435-9534-9d570776e5dc",
   "metadata": {},
   "outputs": [
    {
     "data": {
      "text/html": [
       "<div>\n",
       "<style scoped>\n",
       "    .dataframe tbody tr th:only-of-type {\n",
       "        vertical-align: middle;\n",
       "    }\n",
       "\n",
       "    .dataframe tbody tr th {\n",
       "        vertical-align: top;\n",
       "    }\n",
       "\n",
       "    .dataframe thead th {\n",
       "        text-align: right;\n",
       "    }\n",
       "</style>\n",
       "<table border=\"1\" class=\"dataframe\">\n",
       "  <thead>\n",
       "    <tr style=\"text-align: right;\">\n",
       "      <th></th>\n",
       "      <th>Gestor</th>\n",
       "      <th>Canal de Origem</th>\n",
       "      <th>Região</th>\n",
       "      <th>UF</th>\n",
       "      <th>Cidade</th>\n",
       "      <th>Sexo</th>\n",
       "      <th>Faixa Etária</th>\n",
       "      <th>Ano Abertura</th>\n",
       "      <th>Mês Abertura</th>\n",
       "      <th>Data Abertura</th>\n",
       "      <th>...</th>\n",
       "      <th>Como Comprou Contratou</th>\n",
       "      <th>Procurou Empresa</th>\n",
       "      <th>Respondida</th>\n",
       "      <th>Situação</th>\n",
       "      <th>Avaliação Reclamação</th>\n",
       "      <th>Nota do Consumidor</th>\n",
       "      <th>Análise da Recusa</th>\n",
       "      <th>Edição de Conteúdo</th>\n",
       "      <th>Interação do Gestor</th>\n",
       "      <th>Total</th>\n",
       "    </tr>\n",
       "  </thead>\n",
       "  <tbody>\n",
       "    <tr>\n",
       "      <th>43982</th>\n",
       "      <td>Instituto de Defesa do Consumidor - Procon</td>\n",
       "      <td>Plataforma Web</td>\n",
       "      <td>CO</td>\n",
       "      <td>DF</td>\n",
       "      <td>Brasília</td>\n",
       "      <td>M</td>\n",
       "      <td>entre 31 a 40 anos</td>\n",
       "      <td>2014</td>\n",
       "      <td>12</td>\n",
       "      <td>01/12/2014</td>\n",
       "      <td>...</td>\n",
       "      <td>Internet</td>\n",
       "      <td>S</td>\n",
       "      <td>S</td>\n",
       "      <td>Finalizada não avaliada</td>\n",
       "      <td>Não Avaliada</td>\n",
       "      <td>NaN</td>\n",
       "      <td>NaN</td>\n",
       "      <td>N</td>\n",
       "      <td>N</td>\n",
       "      <td>1</td>\n",
       "    </tr>\n",
       "    <tr>\n",
       "      <th>43983</th>\n",
       "      <td>Fundação de Proteção e Defesa do Consumidor</td>\n",
       "      <td>Plataforma Web</td>\n",
       "      <td>SE</td>\n",
       "      <td>SP</td>\n",
       "      <td>São Bernardo do Campo</td>\n",
       "      <td>M</td>\n",
       "      <td>entre 31 a 40 anos</td>\n",
       "      <td>2014</td>\n",
       "      <td>11</td>\n",
       "      <td>30/11/2014</td>\n",
       "      <td>...</td>\n",
       "      <td>Internet</td>\n",
       "      <td>S</td>\n",
       "      <td>S</td>\n",
       "      <td>Finalizada avaliada</td>\n",
       "      <td>Não Resolvida</td>\n",
       "      <td>1.0</td>\n",
       "      <td>NaN</td>\n",
       "      <td>N</td>\n",
       "      <td>N</td>\n",
       "      <td>1</td>\n",
       "    </tr>\n",
       "    <tr>\n",
       "      <th>43984</th>\n",
       "      <td>Fundação de Proteção e Defesa do Consumidor</td>\n",
       "      <td>Plataforma Web</td>\n",
       "      <td>SE</td>\n",
       "      <td>SP</td>\n",
       "      <td>São Paulo</td>\n",
       "      <td>M</td>\n",
       "      <td>entre 31 a 40 anos</td>\n",
       "      <td>2014</td>\n",
       "      <td>12</td>\n",
       "      <td>26/12/2014</td>\n",
       "      <td>...</td>\n",
       "      <td>Internet</td>\n",
       "      <td>S</td>\n",
       "      <td>S</td>\n",
       "      <td>Finalizada avaliada</td>\n",
       "      <td>Não Resolvida</td>\n",
       "      <td>1.0</td>\n",
       "      <td>NaN</td>\n",
       "      <td>N</td>\n",
       "      <td>N</td>\n",
       "      <td>1</td>\n",
       "    </tr>\n",
       "    <tr>\n",
       "      <th>43985</th>\n",
       "      <td>Departamento de Proteção e Defesa do Consumido...</td>\n",
       "      <td>Plataforma Web</td>\n",
       "      <td>S</td>\n",
       "      <td>RS</td>\n",
       "      <td>Dona Francisca</td>\n",
       "      <td>M</td>\n",
       "      <td>mais de 70 anos</td>\n",
       "      <td>2014</td>\n",
       "      <td>12</td>\n",
       "      <td>09/12/2014</td>\n",
       "      <td>...</td>\n",
       "      <td>Loja física</td>\n",
       "      <td>S</td>\n",
       "      <td>S</td>\n",
       "      <td>Finalizada não avaliada</td>\n",
       "      <td>Não Avaliada</td>\n",
       "      <td>NaN</td>\n",
       "      <td>NaN</td>\n",
       "      <td>N</td>\n",
       "      <td>N</td>\n",
       "      <td>1</td>\n",
       "    </tr>\n",
       "    <tr>\n",
       "      <th>43986</th>\n",
       "      <td>Fundação de Proteção e Defesa do Consumidor</td>\n",
       "      <td>Plataforma Web</td>\n",
       "      <td>SE</td>\n",
       "      <td>SP</td>\n",
       "      <td>Santos</td>\n",
       "      <td>F</td>\n",
       "      <td>entre 31 a 40 anos</td>\n",
       "      <td>2014</td>\n",
       "      <td>12</td>\n",
       "      <td>02/12/2014</td>\n",
       "      <td>...</td>\n",
       "      <td>Telefone</td>\n",
       "      <td>N</td>\n",
       "      <td>S</td>\n",
       "      <td>Finalizada avaliada</td>\n",
       "      <td>Resolvida</td>\n",
       "      <td>3.0</td>\n",
       "      <td>NaN</td>\n",
       "      <td>N</td>\n",
       "      <td>N</td>\n",
       "      <td>1</td>\n",
       "    </tr>\n",
       "  </tbody>\n",
       "</table>\n",
       "<p>5 rows × 38 columns</p>\n",
       "</div>"
      ],
      "text/plain": [
       "                                                  Gestor Canal de Origem  \\\n",
       "43982         Instituto de Defesa do Consumidor - Procon  Plataforma Web   \n",
       "43983        Fundação de Proteção e Defesa do Consumidor  Plataforma Web   \n",
       "43984        Fundação de Proteção e Defesa do Consumidor  Plataforma Web   \n",
       "43985  Departamento de Proteção e Defesa do Consumido...  Plataforma Web   \n",
       "43986        Fundação de Proteção e Defesa do Consumidor  Plataforma Web   \n",
       "\n",
       "      Região  UF                 Cidade Sexo        Faixa Etária  \\\n",
       "43982     CO  DF               Brasília    M  entre 31 a 40 anos   \n",
       "43983     SE  SP  São Bernardo do Campo    M  entre 31 a 40 anos   \n",
       "43984     SE  SP              São Paulo    M  entre 31 a 40 anos   \n",
       "43985     S   RS         Dona Francisca    M     mais de 70 anos   \n",
       "43986     SE  SP                 Santos    F  entre 31 a 40 anos   \n",
       "\n",
       "       Ano Abertura  Mês Abertura Data Abertura  ... Como Comprou Contratou  \\\n",
       "43982          2014            12    01/12/2014  ...               Internet   \n",
       "43983          2014            11    30/11/2014  ...               Internet   \n",
       "43984          2014            12    26/12/2014  ...               Internet   \n",
       "43985          2014            12    09/12/2014  ...            Loja física   \n",
       "43986          2014            12    02/12/2014  ...               Telefone   \n",
       "\n",
       "      Procurou Empresa Respondida                 Situação  \\\n",
       "43982                S          S  Finalizada não avaliada   \n",
       "43983                S          S      Finalizada avaliada   \n",
       "43984                S          S      Finalizada avaliada   \n",
       "43985                S          S  Finalizada não avaliada   \n",
       "43986                N          S      Finalizada avaliada   \n",
       "\n",
       "      Avaliação Reclamação Nota do Consumidor Análise da Recusa  \\\n",
       "43982         Não Avaliada                NaN               NaN   \n",
       "43983        Não Resolvida                1.0               NaN   \n",
       "43984        Não Resolvida                1.0               NaN   \n",
       "43985         Não Avaliada                NaN               NaN   \n",
       "43986            Resolvida                3.0               NaN   \n",
       "\n",
       "      Edição de Conteúdo Interação do Gestor Total  \n",
       "43982                  N                   N     1  \n",
       "43983                  N                   N     1  \n",
       "43984                  N                   N     1  \n",
       "43985                  N                   N     1  \n",
       "43986                  N                   N     1  \n",
       "\n",
       "[5 rows x 38 columns]"
      ]
     },
     "execution_count": 3,
     "metadata": {},
     "output_type": "execute_result"
    }
   ],
   "source": [
    "df.tail()"
   ]
  },
  {
   "cell_type": "code",
   "execution_count": 11,
   "id": "1b62b525-5bfd-4e3e-92f3-998999774e3a",
   "metadata": {},
   "outputs": [
    {
     "data": {
      "text/plain": [
       "Index(['Gestor', 'Canal de Origem', 'Região', 'UF', 'Cidade', 'Sexo',\n",
       "       'Faixa Etária', 'Ano Abertura', 'Mês Abertura', 'Data Abertura',\n",
       "       'Hora Abertura', 'Data Resposta', 'Hora Resposta', 'Data Análise',\n",
       "       'Hora Análise', 'Data Recusa', 'Hora Recusa', 'Data Finalização',\n",
       "       'Hora Finalização', 'Prazo Resposta', 'Prazo Analise Gestor',\n",
       "       'Tempo Resposta', 'Nome Fantasia', 'Segmento de Mercado', 'Área',\n",
       "       'Assunto', 'Grupo Problema', 'Problema', 'Como Comprou Contratou',\n",
       "       'Procurou Empresa', 'Respondida', 'Situação', 'Avaliação Reclamação',\n",
       "       'Nota do Consumidor', 'Análise da Recusa', 'Edição de Conteúdo',\n",
       "       'Interação do Gestor', 'Total'],\n",
       "      dtype='object')"
      ]
     },
     "execution_count": 11,
     "metadata": {},
     "output_type": "execute_result"
    }
   ],
   "source": [
    "columns_list = df.columns\n",
    "columns_list"
   ]
  },
  {
   "cell_type": "code",
   "execution_count": 12,
   "id": "2aeee71a-5643-4fe9-acfc-326625695777",
   "metadata": {},
   "outputs": [
    {
     "data": {
      "text/plain": [
       "43987"
      ]
     },
     "execution_count": 12,
     "metadata": {},
     "output_type": "execute_result"
    }
   ],
   "source": [
    "n_reclamacoes = len(df)\n",
    "n_reclamacoes"
   ]
  },
  {
   "cell_type": "code",
   "execution_count": 14,
   "id": "dac0e2eb-4d38-44c2-b4a4-58c8f767e6fb",
   "metadata": {},
   "outputs": [
    {
     "data": {
      "text/plain": [
       "1    43987\n",
       "Name: Total, dtype: int64"
      ]
     },
     "execution_count": 14,
     "metadata": {},
     "output_type": "execute_result"
    }
   ],
   "source": [
    "df['Total'].value_counts()"
   ]
  },
  {
   "cell_type": "code",
   "execution_count": 25,
   "id": "da74a74e-60f4-41e0-9cde-708e923442aa",
   "metadata": {},
   "outputs": [
    {
     "data": {
      "text/plain": [
       "Tempo Resposta    1.0\n",
       "dtype: float64"
      ]
     },
     "execution_count": 25,
     "metadata": {},
     "output_type": "execute_result"
    }
   ],
   "source": [
    "df.loc[df['Tempo Resposta'] > 0, ['Tempo Resposta']].min()"
   ]
  },
  {
   "cell_type": "code",
   "execution_count": 18,
   "id": "a64d94f6-cfdb-4341-ad5b-67dc233ec1c1",
   "metadata": {},
   "outputs": [
    {
     "data": {
      "text/plain": [
       "13.0"
      ]
     },
     "execution_count": 18,
     "metadata": {},
     "output_type": "execute_result"
    }
   ],
   "source": [
    "df['Tempo Resposta'].max()"
   ]
  },
  {
   "cell_type": "code",
   "execution_count": 26,
   "id": "e9f13786-02c9-4705-9f94-b638f81821be",
   "metadata": {},
   "outputs": [
    {
     "data": {
      "text/plain": [
       "5.0"
      ]
     },
     "execution_count": 26,
     "metadata": {},
     "output_type": "execute_result"
    }
   ],
   "source": [
    "df['Nota do Consumidor'].max()"
   ]
  },
  {
   "cell_type": "code",
   "execution_count": 27,
   "id": "135cf0ee-2615-4dde-83f8-4c9a423c498d",
   "metadata": {},
   "outputs": [
    {
     "data": {
      "text/plain": [
       "1.0"
      ]
     },
     "execution_count": 27,
     "metadata": {},
     "output_type": "execute_result"
    }
   ],
   "source": [
    "df['Nota do Consumidor'].min()"
   ]
  },
  {
   "cell_type": "code",
   "execution_count": 28,
   "id": "11a49680-2174-4e4b-854f-97426a816c2e",
   "metadata": {},
   "outputs": [
    {
     "data": {
      "text/plain": [
       "3.007021343486918"
      ]
     },
     "execution_count": 28,
     "metadata": {},
     "output_type": "execute_result"
    }
   ],
   "source": [
    "df['Nota do Consumidor'].mean()"
   ]
  },
  {
   "cell_type": "code",
   "execution_count": 32,
   "id": "5dac513f-8b01-4583-87be-ce7c5f28f6c1",
   "metadata": {},
   "outputs": [
    {
     "data": {
      "text/plain": [
       "Sexo    27895\n",
       "dtype: int64"
      ]
     },
     "execution_count": 32,
     "metadata": {},
     "output_type": "execute_result"
    }
   ],
   "source": [
    "df.loc[df['Sexo'] == 'M', ['Sexo']].count()"
   ]
  },
  {
   "cell_type": "code",
   "execution_count": 33,
   "id": "94a826c9-57e2-42c5-9c1a-e53718907565",
   "metadata": {},
   "outputs": [
    {
     "data": {
      "text/plain": [
       "Sexo    16092\n",
       "dtype: int64"
      ]
     },
     "execution_count": 33,
     "metadata": {},
     "output_type": "execute_result"
    }
   ],
   "source": [
    "df.loc[df['Sexo'] == 'F', ['Sexo']].count()"
   ]
  },
  {
   "cell_type": "code",
   "execution_count": 34,
   "id": "6b0e6a9c-369f-464d-b5be-37a53da0fb9f",
   "metadata": {},
   "outputs": [
    {
     "data": {
      "text/html": [
       "<div>\n",
       "<style scoped>\n",
       "    .dataframe tbody tr th:only-of-type {\n",
       "        vertical-align: middle;\n",
       "    }\n",
       "\n",
       "    .dataframe tbody tr th {\n",
       "        vertical-align: top;\n",
       "    }\n",
       "\n",
       "    .dataframe thead th {\n",
       "        text-align: right;\n",
       "    }\n",
       "</style>\n",
       "<table border=\"1\" class=\"dataframe\">\n",
       "  <thead>\n",
       "    <tr style=\"text-align: right;\">\n",
       "      <th></th>\n",
       "      <th>Ano Abertura</th>\n",
       "      <th>Mês Abertura</th>\n",
       "      <th>Prazo Analise Gestor</th>\n",
       "      <th>Tempo Resposta</th>\n",
       "      <th>Nota do Consumidor</th>\n",
       "      <th>Total</th>\n",
       "    </tr>\n",
       "  </thead>\n",
       "  <tbody>\n",
       "    <tr>\n",
       "      <th>count</th>\n",
       "      <td>43987.0</td>\n",
       "      <td>43987.000000</td>\n",
       "      <td>1953.000000</td>\n",
       "      <td>41961.000000</td>\n",
       "      <td>28627.000000</td>\n",
       "      <td>43987.0</td>\n",
       "    </tr>\n",
       "    <tr>\n",
       "      <th>mean</th>\n",
       "      <td>2014.0</td>\n",
       "      <td>9.550435</td>\n",
       "      <td>4.768049</td>\n",
       "      <td>6.667572</td>\n",
       "      <td>3.007021</td>\n",
       "      <td>1.0</td>\n",
       "    </tr>\n",
       "    <tr>\n",
       "      <th>std</th>\n",
       "      <td>0.0</td>\n",
       "      <td>1.898572</td>\n",
       "      <td>4.395177</td>\n",
       "      <td>3.066805</td>\n",
       "      <td>1.681700</td>\n",
       "      <td>0.0</td>\n",
       "    </tr>\n",
       "    <tr>\n",
       "      <th>min</th>\n",
       "      <td>2014.0</td>\n",
       "      <td>5.000000</td>\n",
       "      <td>0.000000</td>\n",
       "      <td>0.000000</td>\n",
       "      <td>1.000000</td>\n",
       "      <td>1.0</td>\n",
       "    </tr>\n",
       "    <tr>\n",
       "      <th>25%</th>\n",
       "      <td>2014.0</td>\n",
       "      <td>8.000000</td>\n",
       "      <td>1.000000</td>\n",
       "      <td>4.000000</td>\n",
       "      <td>1.000000</td>\n",
       "      <td>1.0</td>\n",
       "    </tr>\n",
       "    <tr>\n",
       "      <th>50%</th>\n",
       "      <td>2014.0</td>\n",
       "      <td>10.000000</td>\n",
       "      <td>4.000000</td>\n",
       "      <td>8.000000</td>\n",
       "      <td>3.000000</td>\n",
       "      <td>1.0</td>\n",
       "    </tr>\n",
       "    <tr>\n",
       "      <th>75%</th>\n",
       "      <td>2014.0</td>\n",
       "      <td>11.000000</td>\n",
       "      <td>8.000000</td>\n",
       "      <td>9.000000</td>\n",
       "      <td>5.000000</td>\n",
       "      <td>1.0</td>\n",
       "    </tr>\n",
       "    <tr>\n",
       "      <th>max</th>\n",
       "      <td>2014.0</td>\n",
       "      <td>12.000000</td>\n",
       "      <td>15.000000</td>\n",
       "      <td>13.000000</td>\n",
       "      <td>5.000000</td>\n",
       "      <td>1.0</td>\n",
       "    </tr>\n",
       "  </tbody>\n",
       "</table>\n",
       "</div>"
      ],
      "text/plain": [
       "       Ano Abertura  Mês Abertura  Prazo Analise Gestor  Tempo Resposta  \\\n",
       "count       43987.0  43987.000000           1953.000000    41961.000000   \n",
       "mean         2014.0      9.550435              4.768049        6.667572   \n",
       "std             0.0      1.898572              4.395177        3.066805   \n",
       "min          2014.0      5.000000              0.000000        0.000000   \n",
       "25%          2014.0      8.000000              1.000000        4.000000   \n",
       "50%          2014.0     10.000000              4.000000        8.000000   \n",
       "75%          2014.0     11.000000              8.000000        9.000000   \n",
       "max          2014.0     12.000000             15.000000       13.000000   \n",
       "\n",
       "       Nota do Consumidor    Total  \n",
       "count        28627.000000  43987.0  \n",
       "mean             3.007021      1.0  \n",
       "std              1.681700      0.0  \n",
       "min              1.000000      1.0  \n",
       "25%              1.000000      1.0  \n",
       "50%              3.000000      1.0  \n",
       "75%              5.000000      1.0  \n",
       "max              5.000000      1.0  "
      ]
     },
     "execution_count": 34,
     "metadata": {},
     "output_type": "execute_result"
    }
   ],
   "source": [
    "df.describe()"
   ]
  },
  {
   "cell_type": "code",
   "execution_count": 35,
   "id": "c42f6556-065a-41f1-bca0-18f5ddbd5787",
   "metadata": {},
   "outputs": [
    {
     "name": "stdout",
     "output_type": "stream",
     "text": [
      "<class 'pandas.core.frame.DataFrame'>\n",
      "RangeIndex: 43987 entries, 0 to 43986\n",
      "Data columns (total 38 columns):\n",
      " #   Column                  Non-Null Count  Dtype  \n",
      "---  ------                  --------------  -----  \n",
      " 0   Gestor                  43987 non-null  object \n",
      " 1   Canal de Origem         43987 non-null  object \n",
      " 2   Região                  43987 non-null  object \n",
      " 3   UF                      43987 non-null  object \n",
      " 4   Cidade                  43987 non-null  object \n",
      " 5   Sexo                    43987 non-null  object \n",
      " 6   Faixa Etária            43987 non-null  object \n",
      " 7   Ano Abertura            43987 non-null  int64  \n",
      " 8   Mês Abertura            43987 non-null  int64  \n",
      " 9   Data Abertura           43987 non-null  object \n",
      " 10  Hora Abertura           43987 non-null  object \n",
      " 11  Data Resposta           41961 non-null  object \n",
      " 12  Hora Resposta           41961 non-null  object \n",
      " 13  Data Análise            1953 non-null   object \n",
      " 14  Hora Análise            1953 non-null   object \n",
      " 15  Data Recusa             2066 non-null   object \n",
      " 16  Hora Recusa             2066 non-null   object \n",
      " 17  Data Finalização        43987 non-null  object \n",
      " 18  Hora Finalização        43987 non-null  object \n",
      " 19  Prazo Resposta          43987 non-null  object \n",
      " 20  Prazo Analise Gestor    1953 non-null   float64\n",
      " 21  Tempo Resposta          41961 non-null  float64\n",
      " 22  Nome Fantasia           43987 non-null  object \n",
      " 23  Segmento de Mercado     43987 non-null  object \n",
      " 24  Área                    43987 non-null  object \n",
      " 25  Assunto                 43987 non-null  object \n",
      " 26  Grupo Problema          43987 non-null  object \n",
      " 27  Problema                43987 non-null  object \n",
      " 28  Como Comprou Contratou  43987 non-null  object \n",
      " 29  Procurou Empresa        43987 non-null  object \n",
      " 30  Respondida              43987 non-null  object \n",
      " 31  Situação                43987 non-null  object \n",
      " 32  Avaliação Reclamação    42153 non-null  object \n",
      " 33  Nota do Consumidor      28627 non-null  float64\n",
      " 34  Análise da Recusa       2046 non-null   object \n",
      " 35  Edição de Conteúdo      43987 non-null  object \n",
      " 36  Interação do Gestor     43987 non-null  object \n",
      " 37  Total                   43987 non-null  int64  \n",
      "dtypes: float64(3), int64(3), object(32)\n",
      "memory usage: 12.8+ MB\n"
     ]
    }
   ],
   "source": [
    "df.info()"
   ]
  },
  {
   "cell_type": "code",
   "execution_count": 36,
   "id": "1a74d4e5-e4cc-41a6-95ec-04df30cd8f6d",
   "metadata": {},
   "outputs": [
    {
     "data": {
      "text/plain": [
       "array(['M', 'F'], dtype=object)"
      ]
     },
     "execution_count": 36,
     "metadata": {},
     "output_type": "execute_result"
    }
   ],
   "source": [
    "df.Sexo.unique()"
   ]
  },
  {
   "cell_type": "code",
   "execution_count": 37,
   "id": "caa59c86-2494-4549-b6bc-bdea3c538075",
   "metadata": {},
   "outputs": [
    {
     "data": {
      "text/plain": [
       "array(['RJ', 'ES', 'MA', 'PE', 'MT', 'SP', 'SC', 'AM', 'PR', 'MG', 'AC',\n",
       "       'DF', 'BA', 'PA', 'SE', 'MS', 'RS', 'PB', 'GO', 'CE', 'RN', 'AL',\n",
       "       'RO', 'PI', 'TO', 'AP', 'RR'], dtype=object)"
      ]
     },
     "execution_count": 37,
     "metadata": {},
     "output_type": "execute_result"
    }
   ],
   "source": [
    "df.UF.unique()"
   ]
  },
  {
   "cell_type": "code",
   "execution_count": 52,
   "id": "9328d292-ce28-41a7-992d-3d86833248fb",
   "metadata": {},
   "outputs": [
    {
     "name": "stdout",
     "output_type": "stream",
     "text": [
      "RJ: Total    4907\n",
      "dtype: int64\n",
      "ES: Total    1081\n",
      "dtype: int64\n",
      "MA: Total    1082\n",
      "dtype: int64\n",
      "PE: Total    1626\n",
      "dtype: int64\n",
      "MT: Total    1012\n",
      "dtype: int64\n",
      "SP: Total    11882\n",
      "dtype: int64\n",
      "SC: Total    1458\n",
      "dtype: int64\n",
      "AM: Total    291\n",
      "dtype: int64\n",
      "PR: Total    6140\n",
      "dtype: int64\n",
      "MG: Total    4186\n",
      "dtype: int64\n",
      "AC: Total    449\n",
      "dtype: int64\n",
      "DF: Total    1805\n",
      "dtype: int64\n",
      "BA: Total    2443\n",
      "dtype: int64\n",
      "PA: Total    211\n",
      "dtype: int64\n",
      "SE: Total    97\n",
      "dtype: int64\n",
      "MS: Total    531\n",
      "dtype: int64\n",
      "RS: Total    1941\n",
      "dtype: int64\n",
      "PB: Total    343\n",
      "dtype: int64\n",
      "GO: Total    886\n",
      "dtype: int64\n",
      "CE: Total    1068\n",
      "dtype: int64\n",
      "RN: Total    160\n",
      "dtype: int64\n",
      "AL: Total    104\n",
      "dtype: int64\n",
      "RO: Total    119\n",
      "dtype: int64\n",
      "PI: Total    77\n",
      "dtype: int64\n",
      "TO: Total    46\n",
      "dtype: int64\n",
      "AP: Total    18\n",
      "dtype: int64\n",
      "RR: Total    24\n",
      "dtype: int64\n"
     ]
    }
   ],
   "source": [
    "UF_list = df.UF.unique()\n",
    "for uf in UF_list:\n",
    "    reclamacao_estado = df.loc[df['UF'] == uf, ['Total']].count()\n",
    "    print(f'{uf}: {reclamacao_estado}')"
   ]
  },
  {
   "cell_type": "code",
   "execution_count": 54,
   "id": "daa52b25-c001-4069-9c45-06259b313cf3",
   "metadata": {},
   "outputs": [
    {
     "data": {
      "text/plain": [
       "array(['S', 'N'], dtype=object)"
      ]
     },
     "execution_count": 54,
     "metadata": {},
     "output_type": "execute_result"
    }
   ],
   "source": [
    "df.Respondida.unique()"
   ]
  }
 ],
 "metadata": {
  "kernelspec": {
   "display_name": "Python 3 (ipykernel)",
   "language": "python",
   "name": "python3"
  },
  "language_info": {
   "codemirror_mode": {
    "name": "ipython",
    "version": 3
   },
   "file_extension": ".py",
   "mimetype": "text/x-python",
   "name": "python",
   "nbconvert_exporter": "python",
   "pygments_lexer": "ipython3",
   "version": "3.8.10"
  }
 },
 "nbformat": 4,
 "nbformat_minor": 5
}
