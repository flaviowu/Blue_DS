{
 "cells": [
  {
   "cell_type": "markdown",
   "id": "89bbdbd4-c936-4187-8bb5-18e3348fa029",
   "metadata": {},
   "source": [
    "# KNN sobre músicas"
   ]
  },
  {
   "cell_type": "code",
   "execution_count": 1,
   "id": "80a0cbe0-82e2-495c-9150-e4efdfa43ce2",
   "metadata": {},
   "outputs": [],
   "source": [
    "musicas = [\n",
    "    ['Open','Yellow Claw',0.522,0.8600],\n",
    "    ['Outlines','AlunaGeorge',0.741,0.4490],\n",
    "    ['Step','Vampire Weekend',0.624,0.7240],\n",
    "    ['Dont Threaten Me With A Good Time','Panic! At The Disco',0.559,0.8950],\n",
    "    ['Kissing Strangers','DNCE',0.776,0.7410],\n",
    "    ['Satellite','SALTNPAPER',0.385,0.4040],\n",
    "    ['The Devils Den','Skrillex',0.616,0.9460],\n",
    "    ['Sleepwalk','Santo & Johnny',0.444,0.4120],\n",
    "    ['We Dem Boyz','Wiz Khalifa',0.717,0.8620],\n",
    "    ['Pyramids','Frank Ocean',0.405,0.6470],\n",
    "    ['Hannah Hunt','Vampire Weekend',0.345,0.3130],\n",
    "    ['Save the World','Swedish House Mafia',0.654,0.7340],\n",
    "    ['Im in LOVE With GO-GO Dance','Trendsetter',0.510,0.6030],\n",
    "    ['Spacer Woman - Vocal','Charlie',0.742,0.9650],\n",
    "    ['Where or When','Wynton Marsalis',0.326,0.0575],\n",
    "    ['dance alot','Various Artists',0.466,0.9430],\n",
    "    ['GOT IT GOOD','KAYTRANADA',0.606,0.5030],\n",
    "    ['Agadoo - original','Black Lace',0.618,0.9600],\n",
    "    ['Truths & Rights','Johnny Osbourne',0.770,0.4090],\n",
    "    ['White Iverson','Post Malone',0.676,0.5280]\n",
    "]"
   ]
  },
  {
   "cell_type": "markdown",
   "id": "17734972-1a3d-460c-a9c3-5b4d5e172934",
   "metadata": {},
   "source": [
    "## Tratamento dos dados:\n",
    "Colocando tudo em python dict\n",
    "\n",
    "Calcula-se um \"joy_vect\" com o objetivo de calcular a distância em que a música se encontra, levando com consideraçao um plano danceability x energy, sendo  0<=danceability<=1 e 0<=energy<=1.\n",
    "\n",
    "A música mais triste seria (0,0) e a mais alegre (1,1).\n",
    "\n",
    "O \"joy_vect\" seria o vetor em relação a (0,0) "
   ]
  },
  {
   "cell_type": "code",
   "execution_count": 2,
   "id": "d3c3684b-1a92-475e-97cd-a77355bfd0a9",
   "metadata": {},
   "outputs": [],
   "source": [
    "music_list = [] # tratamento dos dados: colocando as músicas em dicionários\n",
    "for m in musicas:\n",
    "    m_dict = {\n",
    "        \"song_title\": m[0],\n",
    "        \"artist\": m[1],\n",
    "        \"danceability\": m[2],\n",
    "        \"energy\": m[3],\n",
    "        \"joy_vect\": (m[2]*m[2] + m[3]*m[3])**(0.5)\n",
    "    }\n",
    "    music_list.append(m_dict)"
   ]
  },
  {
   "cell_type": "markdown",
   "id": "4264eba0-b284-4341-b457-1c15324065c9",
   "metadata": {},
   "source": [
    "## Ordenando as músicas usando o \"joy_vect\" como parametro."
   ]
  },
  {
   "cell_type": "code",
   "execution_count": 3,
   "id": "73ecf115-9d4e-49fc-b89f-1c2140cb1fe3",
   "metadata": {},
   "outputs": [],
   "source": [
    "musics_list = sorted(music_list, key=lambda k: k['joy_vect'])"
   ]
  },
  {
   "cell_type": "markdown",
   "id": "e2a1e628-6476-48be-9586-29f6d641ac8e",
   "metadata": {},
   "source": [
    "## Imprimindo o resultado"
   ]
  },
  {
   "cell_type": "code",
   "execution_count": 4,
   "id": "0685809e-d7a1-4f1b-98eb-e742d8e3d75f",
   "metadata": {},
   "outputs": [
    {
     "name": "stdout",
     "output_type": "stream",
     "text": [
      "A música mais triste é \"Open\" de Yellow Claw.\n",
      "A música mais alegre é \"White Iverson\" de Post Malone.\n"
     ]
    }
   ],
   "source": [
    "print(f'A música mais triste é \"{music_list[0][\"song_title\"]}\" de {music_list[0][\"artist\"]}.')\n",
    "print(f'A música mais alegre é \"{music_list[-1][\"song_title\"]}\" de {music_list[-1][\"artist\"]}.')"
   ]
  },
  {
   "cell_type": "markdown",
   "id": "434d8eda-c998-42cb-bdaf-5f2ffd435e76",
   "metadata": {},
   "source": [
    "> \"Where or When\": https://www.youtube.com/watch?v=9hKnP1WfsjE\n",
    "\n",
    "> \"Spacer Woman\":  https://www.youtube.com/watch?v=nZDPCjEoIMI"
   ]
  },
  {
   "cell_type": "markdown",
   "id": "ba872f0c-45a4-4806-b118-000beca312b4",
   "metadata": {},
   "source": [
    "## Com Pandas e MatplotLib\n",
    "Para explorar os dados mais um pouquinho"
   ]
  },
  {
   "cell_type": "markdown",
   "id": "eaaab07e-4e21-49c3-a15a-c2c3e698c709",
   "metadata": {},
   "source": [
    "## Importando as bibliotecas Pandas e MatplotLib"
   ]
  },
  {
   "cell_type": "code",
   "execution_count": 5,
   "id": "7ba6bd1b-c395-40ba-9f48-d3388205b39b",
   "metadata": {},
   "outputs": [],
   "source": [
    "import pandas as pd\n",
    "import matplotlib.pyplot as plt"
   ]
  },
  {
   "cell_type": "markdown",
   "id": "4779c8a4-5d89-4a46-aea2-7823a2c97c98",
   "metadata": {},
   "source": [
    "## Data Frame"
   ]
  },
  {
   "cell_type": "code",
   "execution_count": 6,
   "id": "548676e9-3640-433d-a881-d86fa3f3fe28",
   "metadata": {},
   "outputs": [
    {
     "data": {
      "text/html": [
       "<div>\n",
       "<style scoped>\n",
       "    .dataframe tbody tr th:only-of-type {\n",
       "        vertical-align: middle;\n",
       "    }\n",
       "\n",
       "    .dataframe tbody tr th {\n",
       "        vertical-align: top;\n",
       "    }\n",
       "\n",
       "    .dataframe thead th {\n",
       "        text-align: right;\n",
       "    }\n",
       "</style>\n",
       "<table border=\"1\" class=\"dataframe\">\n",
       "  <thead>\n",
       "    <tr style=\"text-align: right;\">\n",
       "      <th></th>\n",
       "      <th>song_title</th>\n",
       "      <th>artist</th>\n",
       "      <th>danceability</th>\n",
       "      <th>energy</th>\n",
       "      <th>joy_vect</th>\n",
       "    </tr>\n",
       "  </thead>\n",
       "  <tbody>\n",
       "    <tr>\n",
       "      <th>0</th>\n",
       "      <td>Open</td>\n",
       "      <td>Yellow Claw</td>\n",
       "      <td>0.522</td>\n",
       "      <td>0.8600</td>\n",
       "      <td>1.006024</td>\n",
       "    </tr>\n",
       "    <tr>\n",
       "      <th>1</th>\n",
       "      <td>Outlines</td>\n",
       "      <td>AlunaGeorge</td>\n",
       "      <td>0.741</td>\n",
       "      <td>0.4490</td>\n",
       "      <td>0.866419</td>\n",
       "    </tr>\n",
       "    <tr>\n",
       "      <th>2</th>\n",
       "      <td>Step</td>\n",
       "      <td>Vampire Weekend</td>\n",
       "      <td>0.624</td>\n",
       "      <td>0.7240</td>\n",
       "      <td>0.955799</td>\n",
       "    </tr>\n",
       "    <tr>\n",
       "      <th>3</th>\n",
       "      <td>Dont Threaten Me With A Good Time</td>\n",
       "      <td>Panic! At The Disco</td>\n",
       "      <td>0.559</td>\n",
       "      <td>0.8950</td>\n",
       "      <td>1.055228</td>\n",
       "    </tr>\n",
       "    <tr>\n",
       "      <th>4</th>\n",
       "      <td>Kissing Strangers</td>\n",
       "      <td>DNCE</td>\n",
       "      <td>0.776</td>\n",
       "      <td>0.7410</td>\n",
       "      <td>1.072966</td>\n",
       "    </tr>\n",
       "    <tr>\n",
       "      <th>5</th>\n",
       "      <td>Satellite</td>\n",
       "      <td>SALTNPAPER</td>\n",
       "      <td>0.385</td>\n",
       "      <td>0.4040</td>\n",
       "      <td>0.558069</td>\n",
       "    </tr>\n",
       "    <tr>\n",
       "      <th>6</th>\n",
       "      <td>The Devils Den</td>\n",
       "      <td>Skrillex</td>\n",
       "      <td>0.616</td>\n",
       "      <td>0.9460</td>\n",
       "      <td>1.128881</td>\n",
       "    </tr>\n",
       "    <tr>\n",
       "      <th>7</th>\n",
       "      <td>Sleepwalk</td>\n",
       "      <td>Santo &amp; Johnny</td>\n",
       "      <td>0.444</td>\n",
       "      <td>0.4120</td>\n",
       "      <td>0.605706</td>\n",
       "    </tr>\n",
       "    <tr>\n",
       "      <th>8</th>\n",
       "      <td>We Dem Boyz</td>\n",
       "      <td>Wiz Khalifa</td>\n",
       "      <td>0.717</td>\n",
       "      <td>0.8620</td>\n",
       "      <td>1.121219</td>\n",
       "    </tr>\n",
       "    <tr>\n",
       "      <th>9</th>\n",
       "      <td>Pyramids</td>\n",
       "      <td>Frank Ocean</td>\n",
       "      <td>0.405</td>\n",
       "      <td>0.6470</td>\n",
       "      <td>0.763305</td>\n",
       "    </tr>\n",
       "    <tr>\n",
       "      <th>10</th>\n",
       "      <td>Hannah Hunt</td>\n",
       "      <td>Vampire Weekend</td>\n",
       "      <td>0.345</td>\n",
       "      <td>0.3130</td>\n",
       "      <td>0.465826</td>\n",
       "    </tr>\n",
       "    <tr>\n",
       "      <th>11</th>\n",
       "      <td>Save the World</td>\n",
       "      <td>Swedish House Mafia</td>\n",
       "      <td>0.654</td>\n",
       "      <td>0.7340</td>\n",
       "      <td>0.983093</td>\n",
       "    </tr>\n",
       "    <tr>\n",
       "      <th>12</th>\n",
       "      <td>Im in LOVE With GO-GO Dance</td>\n",
       "      <td>Trendsetter</td>\n",
       "      <td>0.510</td>\n",
       "      <td>0.6030</td>\n",
       "      <td>0.789752</td>\n",
       "    </tr>\n",
       "    <tr>\n",
       "      <th>13</th>\n",
       "      <td>Spacer Woman - Vocal</td>\n",
       "      <td>Charlie</td>\n",
       "      <td>0.742</td>\n",
       "      <td>0.9650</td>\n",
       "      <td>1.217288</td>\n",
       "    </tr>\n",
       "    <tr>\n",
       "      <th>14</th>\n",
       "      <td>Where or When</td>\n",
       "      <td>Wynton Marsalis</td>\n",
       "      <td>0.326</td>\n",
       "      <td>0.0575</td>\n",
       "      <td>0.331032</td>\n",
       "    </tr>\n",
       "    <tr>\n",
       "      <th>15</th>\n",
       "      <td>dance alot</td>\n",
       "      <td>Various Artists</td>\n",
       "      <td>0.466</td>\n",
       "      <td>0.9430</td>\n",
       "      <td>1.051858</td>\n",
       "    </tr>\n",
       "    <tr>\n",
       "      <th>16</th>\n",
       "      <td>GOT IT GOOD</td>\n",
       "      <td>KAYTRANADA</td>\n",
       "      <td>0.606</td>\n",
       "      <td>0.5030</td>\n",
       "      <td>0.787556</td>\n",
       "    </tr>\n",
       "    <tr>\n",
       "      <th>17</th>\n",
       "      <td>Agadoo - original</td>\n",
       "      <td>Black Lace</td>\n",
       "      <td>0.618</td>\n",
       "      <td>0.9600</td>\n",
       "      <td>1.141720</td>\n",
       "    </tr>\n",
       "    <tr>\n",
       "      <th>18</th>\n",
       "      <td>Truths &amp; Rights</td>\n",
       "      <td>Johnny Osbourne</td>\n",
       "      <td>0.770</td>\n",
       "      <td>0.4090</td>\n",
       "      <td>0.871884</td>\n",
       "    </tr>\n",
       "    <tr>\n",
       "      <th>19</th>\n",
       "      <td>White Iverson</td>\n",
       "      <td>Post Malone</td>\n",
       "      <td>0.676</td>\n",
       "      <td>0.5280</td>\n",
       "      <td>0.857765</td>\n",
       "    </tr>\n",
       "  </tbody>\n",
       "</table>\n",
       "</div>"
      ],
      "text/plain": [
       "                           song_title               artist  danceability  \\\n",
       "0                                Open          Yellow Claw         0.522   \n",
       "1                            Outlines          AlunaGeorge         0.741   \n",
       "2                                Step      Vampire Weekend         0.624   \n",
       "3   Dont Threaten Me With A Good Time  Panic! At The Disco         0.559   \n",
       "4                   Kissing Strangers                 DNCE         0.776   \n",
       "5                           Satellite           SALTNPAPER         0.385   \n",
       "6                      The Devils Den             Skrillex         0.616   \n",
       "7                           Sleepwalk       Santo & Johnny         0.444   \n",
       "8                         We Dem Boyz          Wiz Khalifa         0.717   \n",
       "9                            Pyramids          Frank Ocean         0.405   \n",
       "10                        Hannah Hunt      Vampire Weekend         0.345   \n",
       "11                     Save the World  Swedish House Mafia         0.654   \n",
       "12        Im in LOVE With GO-GO Dance          Trendsetter         0.510   \n",
       "13               Spacer Woman - Vocal              Charlie         0.742   \n",
       "14                      Where or When      Wynton Marsalis         0.326   \n",
       "15                         dance alot      Various Artists         0.466   \n",
       "16                        GOT IT GOOD           KAYTRANADA         0.606   \n",
       "17                  Agadoo - original           Black Lace         0.618   \n",
       "18                    Truths & Rights      Johnny Osbourne         0.770   \n",
       "19                      White Iverson          Post Malone         0.676   \n",
       "\n",
       "    energy  joy_vect  \n",
       "0   0.8600  1.006024  \n",
       "1   0.4490  0.866419  \n",
       "2   0.7240  0.955799  \n",
       "3   0.8950  1.055228  \n",
       "4   0.7410  1.072966  \n",
       "5   0.4040  0.558069  \n",
       "6   0.9460  1.128881  \n",
       "7   0.4120  0.605706  \n",
       "8   0.8620  1.121219  \n",
       "9   0.6470  0.763305  \n",
       "10  0.3130  0.465826  \n",
       "11  0.7340  0.983093  \n",
       "12  0.6030  0.789752  \n",
       "13  0.9650  1.217288  \n",
       "14  0.0575  0.331032  \n",
       "15  0.9430  1.051858  \n",
       "16  0.5030  0.787556  \n",
       "17  0.9600  1.141720  \n",
       "18  0.4090  0.871884  \n",
       "19  0.5280  0.857765  "
      ]
     },
     "execution_count": 6,
     "metadata": {},
     "output_type": "execute_result"
    }
   ],
   "source": [
    "df_musics = pd.DataFrame(music_list)\n",
    "df_musics"
   ]
  },
  {
   "cell_type": "markdown",
   "id": "91a692e3-c217-4eed-b880-e31a9b8adb81",
   "metadata": {},
   "source": [
    "## Obtendo dados estatísticos"
   ]
  },
  {
   "cell_type": "code",
   "execution_count": 7,
   "id": "27329075-6cb3-45e6-b86f-0ffb1c1c6290",
   "metadata": {},
   "outputs": [
    {
     "data": {
      "text/html": [
       "<div>\n",
       "<style scoped>\n",
       "    .dataframe tbody tr th:only-of-type {\n",
       "        vertical-align: middle;\n",
       "    }\n",
       "\n",
       "    .dataframe tbody tr th {\n",
       "        vertical-align: top;\n",
       "    }\n",
       "\n",
       "    .dataframe thead th {\n",
       "        text-align: right;\n",
       "    }\n",
       "</style>\n",
       "<table border=\"1\" class=\"dataframe\">\n",
       "  <thead>\n",
       "    <tr style=\"text-align: right;\">\n",
       "      <th></th>\n",
       "      <th>danceability</th>\n",
       "      <th>energy</th>\n",
       "      <th>joy_vect</th>\n",
       "    </tr>\n",
       "  </thead>\n",
       "  <tbody>\n",
       "    <tr>\n",
       "      <th>count</th>\n",
       "      <td>20.00000</td>\n",
       "      <td>20.000000</td>\n",
       "      <td>20.000000</td>\n",
       "    </tr>\n",
       "    <tr>\n",
       "      <th>mean</th>\n",
       "      <td>0.57510</td>\n",
       "      <td>0.647775</td>\n",
       "      <td>0.881570</td>\n",
       "    </tr>\n",
       "    <tr>\n",
       "      <th>std</th>\n",
       "      <td>0.14393</td>\n",
       "      <td>0.257268</td>\n",
       "      <td>0.242238</td>\n",
       "    </tr>\n",
       "    <tr>\n",
       "      <th>min</th>\n",
       "      <td>0.32600</td>\n",
       "      <td>0.057500</td>\n",
       "      <td>0.331032</td>\n",
       "    </tr>\n",
       "    <tr>\n",
       "      <th>25%</th>\n",
       "      <td>0.46050</td>\n",
       "      <td>0.439750</td>\n",
       "      <td>0.781493</td>\n",
       "    </tr>\n",
       "    <tr>\n",
       "      <th>50%</th>\n",
       "      <td>0.61100</td>\n",
       "      <td>0.685500</td>\n",
       "      <td>0.913841</td>\n",
       "    </tr>\n",
       "    <tr>\n",
       "      <th>75%</th>\n",
       "      <td>0.68625</td>\n",
       "      <td>0.870250</td>\n",
       "      <td>1.059663</td>\n",
       "    </tr>\n",
       "    <tr>\n",
       "      <th>max</th>\n",
       "      <td>0.77600</td>\n",
       "      <td>0.965000</td>\n",
       "      <td>1.217288</td>\n",
       "    </tr>\n",
       "  </tbody>\n",
       "</table>\n",
       "</div>"
      ],
      "text/plain": [
       "       danceability     energy   joy_vect\n",
       "count      20.00000  20.000000  20.000000\n",
       "mean        0.57510   0.647775   0.881570\n",
       "std         0.14393   0.257268   0.242238\n",
       "min         0.32600   0.057500   0.331032\n",
       "25%         0.46050   0.439750   0.781493\n",
       "50%         0.61100   0.685500   0.913841\n",
       "75%         0.68625   0.870250   1.059663\n",
       "max         0.77600   0.965000   1.217288"
      ]
     },
     "execution_count": 7,
     "metadata": {},
     "output_type": "execute_result"
    }
   ],
   "source": [
    "df_musics.describe()"
   ]
  },
  {
   "cell_type": "markdown",
   "id": "1fc560c3-ed35-42da-80be-b7d672915bcb",
   "metadata": {},
   "source": [
    "### Música mais alegre\n",
    "Máximo do joy_vect.\n",
    "\n",
    "Interessante notar que danceabilidade e energia tem valores altos."
   ]
  },
  {
   "cell_type": "code",
   "execution_count": 8,
   "id": "1e28e19a-8ed0-4f35-9600-9e447ba535a8",
   "metadata": {},
   "outputs": [
    {
     "data": {
      "text/html": [
       "<div>\n",
       "<style scoped>\n",
       "    .dataframe tbody tr th:only-of-type {\n",
       "        vertical-align: middle;\n",
       "    }\n",
       "\n",
       "    .dataframe tbody tr th {\n",
       "        vertical-align: top;\n",
       "    }\n",
       "\n",
       "    .dataframe thead th {\n",
       "        text-align: right;\n",
       "    }\n",
       "</style>\n",
       "<table border=\"1\" class=\"dataframe\">\n",
       "  <thead>\n",
       "    <tr style=\"text-align: right;\">\n",
       "      <th></th>\n",
       "      <th>song_title</th>\n",
       "      <th>artist</th>\n",
       "      <th>danceability</th>\n",
       "      <th>energy</th>\n",
       "      <th>joy_vect</th>\n",
       "    </tr>\n",
       "  </thead>\n",
       "  <tbody>\n",
       "    <tr>\n",
       "      <th>13</th>\n",
       "      <td>Spacer Woman - Vocal</td>\n",
       "      <td>Charlie</td>\n",
       "      <td>0.742</td>\n",
       "      <td>0.965</td>\n",
       "      <td>1.217288</td>\n",
       "    </tr>\n",
       "  </tbody>\n",
       "</table>\n",
       "</div>"
      ],
      "text/plain": [
       "              song_title   artist  danceability  energy  joy_vect\n",
       "13  Spacer Woman - Vocal  Charlie         0.742   0.965  1.217288"
      ]
     },
     "execution_count": 8,
     "metadata": {},
     "output_type": "execute_result"
    }
   ],
   "source": [
    "df_musics[df_musics.joy_vect == df_musics.joy_vect.max()]"
   ]
  },
  {
   "cell_type": "markdown",
   "id": "0c206380-9232-47df-9cbd-a64542c7cec5",
   "metadata": {},
   "source": [
    "### Música mais Triste\n",
    "Valor mínimo do joy_vect\n",
    "\n",
    "Como esperado, danceabilidade baixa e energia muitíssimo baixa."
   ]
  },
  {
   "cell_type": "code",
   "execution_count": 9,
   "id": "04966287-7085-4c0c-8098-00d85ba30732",
   "metadata": {},
   "outputs": [
    {
     "data": {
      "text/html": [
       "<div>\n",
       "<style scoped>\n",
       "    .dataframe tbody tr th:only-of-type {\n",
       "        vertical-align: middle;\n",
       "    }\n",
       "\n",
       "    .dataframe tbody tr th {\n",
       "        vertical-align: top;\n",
       "    }\n",
       "\n",
       "    .dataframe thead th {\n",
       "        text-align: right;\n",
       "    }\n",
       "</style>\n",
       "<table border=\"1\" class=\"dataframe\">\n",
       "  <thead>\n",
       "    <tr style=\"text-align: right;\">\n",
       "      <th></th>\n",
       "      <th>song_title</th>\n",
       "      <th>artist</th>\n",
       "      <th>danceability</th>\n",
       "      <th>energy</th>\n",
       "      <th>joy_vect</th>\n",
       "    </tr>\n",
       "  </thead>\n",
       "  <tbody>\n",
       "    <tr>\n",
       "      <th>14</th>\n",
       "      <td>Where or When</td>\n",
       "      <td>Wynton Marsalis</td>\n",
       "      <td>0.326</td>\n",
       "      <td>0.0575</td>\n",
       "      <td>0.331032</td>\n",
       "    </tr>\n",
       "  </tbody>\n",
       "</table>\n",
       "</div>"
      ],
      "text/plain": [
       "       song_title           artist  danceability  energy  joy_vect\n",
       "14  Where or When  Wynton Marsalis         0.326  0.0575  0.331032"
      ]
     },
     "execution_count": 9,
     "metadata": {},
     "output_type": "execute_result"
    }
   ],
   "source": [
    "df_musics[df_musics.joy_vect == df_musics.joy_vect.min()]"
   ]
  },
  {
   "cell_type": "markdown",
   "id": "632a6231-3b83-4070-b511-8e6ab8b8075d",
   "metadata": {},
   "source": [
    "## Scatter Plot\n",
    "Para dar uma olhada em como as músicas estão distribuídas danceability x energy"
   ]
  },
  {
   "cell_type": "code",
   "execution_count": 10,
   "id": "2bece88f-3ea7-48a3-a2e9-047e601b9af0",
   "metadata": {},
   "outputs": [
    {
     "data": {
      "text/plain": [
       "<AxesSubplot:xlabel='danceability', ylabel='energy'>"
      ]
     },
     "execution_count": 10,
     "metadata": {},
     "output_type": "execute_result"
    },
    {
     "data": {
      "image/png": "[encoded data removed]",
      "text/plain": [
       "<Figure size 1152x576 with 1 Axes>"
      ]
     },
     "metadata": {
      "needs_background": "light"
     },
     "output_type": "display_data"
    }
   ],
   "source": [
    "df_musics.plot.scatter(x=\"danceability\", y=\"energy\", alpha=0.7, figsize=(16, 8), color=\"green\")"
   ]
  },
  {
   "cell_type": "markdown",
   "id": "0ca79978-f64a-429b-a9fb-0e20005d5801",
   "metadata": {},
   "source": [
    "## Boxplot\n",
    "Para visualizar os dados estatísticos graficamente"
   ]
  },
  {
   "cell_type": "code",
   "execution_count": 11,
   "id": "daa2f197-2313-4887-9871-b1a387b1f338",
   "metadata": {},
   "outputs": [
    {
     "data": {
      "text/plain": [
       "<AxesSubplot:>"
      ]
     },
     "execution_count": 11,
     "metadata": {},
     "output_type": "execute_result"
    },
    {
     "data": {
      "image/png": "[encoded data removed]",
      "text/plain": [
       "<Figure size 1152x576 with 1 Axes>"
      ]
     },
     "metadata": {
      "needs_background": "light"
     },
     "output_type": "display_data"
    }
   ],
   "source": [
    "df_musics.plot.box(figsize=(16, 8))"
   ]
  }
 ],
 "metadata": {
  "kernelspec": {
   "display_name": "Python 3 (ipykernel)",
   "language": "python",
   "name": "python3"
  },
  "language_info": {
   "codemirror_mode": {
    "name": "ipython",
    "version": 3
   },
   "file_extension": ".py",
   "mimetype": "text/x-python",
   "name": "python",
   "nbconvert_exporter": "python",
   "pygments_lexer": "ipython3",
   "version": "3.10.2"
  }
 },
 "nbformat": 4,
 "nbformat_minor": 5
}
