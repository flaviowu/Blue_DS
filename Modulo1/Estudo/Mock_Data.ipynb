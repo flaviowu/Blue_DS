{
 "cells": [
  {
   "cell_type": "code",
   "execution_count": 1,
   "id": "1b5f40ad-ad8c-4ab5-b81c-503bf49cfc81",
   "metadata": {},
   "outputs": [],
   "source": [
    "import pandas as pd\n",
    "import matplotlib.pyplot as plt "
   ]
  },
  {
   "cell_type": "code",
   "execution_count": 2,
   "id": "1e259e7f-59be-4647-8534-201b2b109a19",
   "metadata": {},
   "outputs": [],
   "source": [
    "data = pd.read_csv('./pandas/MOCK_DATA.csv')"
   ]
  },
  {
   "cell_type": "code",
   "execution_count": 3,
   "id": "06deb83a-e99f-492e-bee3-7ab612f44cfb",
   "metadata": {},
   "outputs": [
    {
     "data": {
      "text/html": [
       "<div>\n",
       "<style scoped>\n",
       "    .dataframe tbody tr th:only-of-type {\n",
       "        vertical-align: middle;\n",
       "    }\n",
       "\n",
       "    .dataframe tbody tr th {\n",
       "        vertical-align: top;\n",
       "    }\n",
       "\n",
       "    .dataframe thead th {\n",
       "        text-align: right;\n",
       "    }\n",
       "</style>\n",
       "<table border=\"1\" class=\"dataframe\">\n",
       "  <thead>\n",
       "    <tr style=\"text-align: right;\">\n",
       "      <th></th>\n",
       "      <th>first_name</th>\n",
       "      <th>last_name</th>\n",
       "      <th>gender</th>\n",
       "      <th>age</th>\n",
       "      <th>job</th>\n",
       "      <th>tea_or_coffee</th>\n",
       "      <th>rice_or_pasta</th>\n",
       "      <th>hot_dog_or_burger</th>\n",
       "      <th>cat_or_dog</th>\n",
       "    </tr>\n",
       "  </thead>\n",
       "  <tbody>\n",
       "    <tr>\n",
       "      <th>0</th>\n",
       "      <td>Aubree</td>\n",
       "      <td>Tidder</td>\n",
       "      <td>Female</td>\n",
       "      <td>67</td>\n",
       "      <td>Systems Administrator IV</td>\n",
       "      <td>tea</td>\n",
       "      <td>pasta</td>\n",
       "      <td>hot dog</td>\n",
       "      <td>cat</td>\n",
       "    </tr>\n",
       "    <tr>\n",
       "      <th>1</th>\n",
       "      <td>Agosto</td>\n",
       "      <td>Croot</td>\n",
       "      <td>Male</td>\n",
       "      <td>20</td>\n",
       "      <td>Actuary</td>\n",
       "      <td>coffee</td>\n",
       "      <td>pasta</td>\n",
       "      <td>burger</td>\n",
       "      <td>cat</td>\n",
       "    </tr>\n",
       "    <tr>\n",
       "      <th>2</th>\n",
       "      <td>Rube</td>\n",
       "      <td>Shurman</td>\n",
       "      <td>Genderfluid</td>\n",
       "      <td>36</td>\n",
       "      <td>Paralegal</td>\n",
       "      <td>coffee</td>\n",
       "      <td>pasta</td>\n",
       "      <td>burger</td>\n",
       "      <td>dog</td>\n",
       "    </tr>\n",
       "    <tr>\n",
       "      <th>3</th>\n",
       "      <td>Brook</td>\n",
       "      <td>Sarra</td>\n",
       "      <td>Male</td>\n",
       "      <td>39</td>\n",
       "      <td>Engineer I</td>\n",
       "      <td>tea</td>\n",
       "      <td>pasta</td>\n",
       "      <td>hot dog</td>\n",
       "      <td>cat</td>\n",
       "    </tr>\n",
       "    <tr>\n",
       "      <th>4</th>\n",
       "      <td>Curr</td>\n",
       "      <td>Penni</td>\n",
       "      <td>Male</td>\n",
       "      <td>44</td>\n",
       "      <td>Office Assistant II</td>\n",
       "      <td>coffee</td>\n",
       "      <td>rice</td>\n",
       "      <td>hot dog</td>\n",
       "      <td>cat</td>\n",
       "    </tr>\n",
       "  </tbody>\n",
       "</table>\n",
       "</div>"
      ],
      "text/plain": [
       "  first_name last_name       gender  age                       job  \\\n",
       "0     Aubree    Tidder       Female   67  Systems Administrator IV   \n",
       "1     Agosto     Croot         Male   20                   Actuary   \n",
       "2       Rube   Shurman  Genderfluid   36                 Paralegal   \n",
       "3      Brook     Sarra         Male   39                Engineer I   \n",
       "4       Curr     Penni         Male   44       Office Assistant II   \n",
       "\n",
       "  tea_or_coffee rice_or_pasta hot_dog_or_burger cat_or_dog  \n",
       "0           tea         pasta           hot dog        cat  \n",
       "1        coffee         pasta            burger        cat  \n",
       "2        coffee         pasta            burger        dog  \n",
       "3           tea         pasta           hot dog        cat  \n",
       "4        coffee          rice           hot dog        cat  "
      ]
     },
     "execution_count": 3,
     "metadata": {},
     "output_type": "execute_result"
    }
   ],
   "source": [
    "df = pd.DataFrame(data)\n",
    "df.head()"
   ]
  },
  {
   "cell_type": "code",
   "execution_count": 4,
   "id": "b824aeb5-a016-459d-a6f1-a067bbdd8caa",
   "metadata": {},
   "outputs": [
    {
     "data": {
      "text/html": [
       "<div>\n",
       "<style scoped>\n",
       "    .dataframe tbody tr th:only-of-type {\n",
       "        vertical-align: middle;\n",
       "    }\n",
       "\n",
       "    .dataframe tbody tr th {\n",
       "        vertical-align: top;\n",
       "    }\n",
       "\n",
       "    .dataframe thead th {\n",
       "        text-align: right;\n",
       "    }\n",
       "</style>\n",
       "<table border=\"1\" class=\"dataframe\">\n",
       "  <thead>\n",
       "    <tr style=\"text-align: right;\">\n",
       "      <th></th>\n",
       "      <th>first_name</th>\n",
       "      <th>last_name</th>\n",
       "      <th>gender</th>\n",
       "      <th>age</th>\n",
       "      <th>job</th>\n",
       "      <th>tea_or_coffee</th>\n",
       "      <th>rice_or_pasta</th>\n",
       "      <th>hot_dog_or_burger</th>\n",
       "      <th>cat_or_dog</th>\n",
       "    </tr>\n",
       "  </thead>\n",
       "  <tbody>\n",
       "    <tr>\n",
       "      <th>995</th>\n",
       "      <td>Belinda</td>\n",
       "      <td>Briscow</td>\n",
       "      <td>Female</td>\n",
       "      <td>84</td>\n",
       "      <td>VP Sales</td>\n",
       "      <td>coffee</td>\n",
       "      <td>rice</td>\n",
       "      <td>hot dog</td>\n",
       "      <td>dog</td>\n",
       "    </tr>\n",
       "    <tr>\n",
       "      <th>996</th>\n",
       "      <td>Gregorius</td>\n",
       "      <td>Plumb</td>\n",
       "      <td>Male</td>\n",
       "      <td>90</td>\n",
       "      <td>Quality Engineer</td>\n",
       "      <td>tea</td>\n",
       "      <td>rice</td>\n",
       "      <td>burger</td>\n",
       "      <td>cat</td>\n",
       "    </tr>\n",
       "    <tr>\n",
       "      <th>997</th>\n",
       "      <td>Quent</td>\n",
       "      <td>Kissell</td>\n",
       "      <td>Male</td>\n",
       "      <td>76</td>\n",
       "      <td>Software Engineer III</td>\n",
       "      <td>coffee</td>\n",
       "      <td>pasta</td>\n",
       "      <td>hot dog</td>\n",
       "      <td>cat</td>\n",
       "    </tr>\n",
       "    <tr>\n",
       "      <th>998</th>\n",
       "      <td>Mattheus</td>\n",
       "      <td>Hamill</td>\n",
       "      <td>Male</td>\n",
       "      <td>82</td>\n",
       "      <td>Tax Accountant</td>\n",
       "      <td>tea</td>\n",
       "      <td>pasta</td>\n",
       "      <td>hot dog</td>\n",
       "      <td>cat</td>\n",
       "    </tr>\n",
       "    <tr>\n",
       "      <th>999</th>\n",
       "      <td>Osgood</td>\n",
       "      <td>Morse</td>\n",
       "      <td>Male</td>\n",
       "      <td>57</td>\n",
       "      <td>Help Desk Operator</td>\n",
       "      <td>tea</td>\n",
       "      <td>pasta</td>\n",
       "      <td>hot dog</td>\n",
       "      <td>cat</td>\n",
       "    </tr>\n",
       "  </tbody>\n",
       "</table>\n",
       "</div>"
      ],
      "text/plain": [
       "    first_name last_name  gender  age                    job tea_or_coffee  \\\n",
       "995    Belinda   Briscow  Female   84               VP Sales        coffee   \n",
       "996  Gregorius     Plumb    Male   90       Quality Engineer           tea   \n",
       "997      Quent   Kissell    Male   76  Software Engineer III        coffee   \n",
       "998   Mattheus    Hamill    Male   82         Tax Accountant           tea   \n",
       "999     Osgood     Morse    Male   57     Help Desk Operator           tea   \n",
       "\n",
       "    rice_or_pasta hot_dog_or_burger cat_or_dog  \n",
       "995          rice           hot dog        dog  \n",
       "996          rice            burger        cat  \n",
       "997         pasta           hot dog        cat  \n",
       "998         pasta           hot dog        cat  \n",
       "999         pasta           hot dog        cat  "
      ]
     },
     "execution_count": 4,
     "metadata": {},
     "output_type": "execute_result"
    }
   ],
   "source": [
    "df.tail()"
   ]
  },
  {
   "cell_type": "code",
   "execution_count": 5,
   "id": "cdf43373-ed3a-4e15-ab88-431962dbb0f2",
   "metadata": {},
   "outputs": [
    {
     "name": "stdout",
     "output_type": "stream",
     "text": [
      "<class 'pandas.core.frame.DataFrame'>\n",
      "RangeIndex: 1000 entries, 0 to 999\n",
      "Data columns (total 9 columns):\n",
      " #   Column             Non-Null Count  Dtype \n",
      "---  ------             --------------  ----- \n",
      " 0   first_name         1000 non-null   object\n",
      " 1   last_name          1000 non-null   object\n",
      " 2   gender             1000 non-null   object\n",
      " 3   age                1000 non-null   int64 \n",
      " 4   job                1000 non-null   object\n",
      " 5   tea_or_coffee      1000 non-null   object\n",
      " 6   rice_or_pasta      1000 non-null   object\n",
      " 7   hot_dog_or_burger  1000 non-null   object\n",
      " 8   cat_or_dog         1000 non-null   object\n",
      "dtypes: int64(1), object(8)\n",
      "memory usage: 70.4+ KB\n"
     ]
    }
   ],
   "source": [
    "df.info()"
   ]
  },
  {
   "cell_type": "code",
   "execution_count": 6,
   "id": "ccb0d40c-2d9d-4462-9a67-bebd5bbb5290",
   "metadata": {},
   "outputs": [
    {
     "data": {
      "text/html": [
       "<div>\n",
       "<style scoped>\n",
       "    .dataframe tbody tr th:only-of-type {\n",
       "        vertical-align: middle;\n",
       "    }\n",
       "\n",
       "    .dataframe tbody tr th {\n",
       "        vertical-align: top;\n",
       "    }\n",
       "\n",
       "    .dataframe thead th {\n",
       "        text-align: right;\n",
       "    }\n",
       "</style>\n",
       "<table border=\"1\" class=\"dataframe\">\n",
       "  <thead>\n",
       "    <tr style=\"text-align: right;\">\n",
       "      <th></th>\n",
       "      <th>age</th>\n",
       "    </tr>\n",
       "  </thead>\n",
       "  <tbody>\n",
       "    <tr>\n",
       "      <th>count</th>\n",
       "      <td>1000.000000</td>\n",
       "    </tr>\n",
       "    <tr>\n",
       "      <th>mean</th>\n",
       "      <td>53.551000</td>\n",
       "    </tr>\n",
       "    <tr>\n",
       "      <th>std</th>\n",
       "      <td>20.745307</td>\n",
       "    </tr>\n",
       "    <tr>\n",
       "      <th>min</th>\n",
       "      <td>18.000000</td>\n",
       "    </tr>\n",
       "    <tr>\n",
       "      <th>25%</th>\n",
       "      <td>35.000000</td>\n",
       "    </tr>\n",
       "    <tr>\n",
       "      <th>50%</th>\n",
       "      <td>54.000000</td>\n",
       "    </tr>\n",
       "    <tr>\n",
       "      <th>75%</th>\n",
       "      <td>71.000000</td>\n",
       "    </tr>\n",
       "    <tr>\n",
       "      <th>max</th>\n",
       "      <td>90.000000</td>\n",
       "    </tr>\n",
       "  </tbody>\n",
       "</table>\n",
       "</div>"
      ],
      "text/plain": [
       "               age\n",
       "count  1000.000000\n",
       "mean     53.551000\n",
       "std      20.745307\n",
       "min      18.000000\n",
       "25%      35.000000\n",
       "50%      54.000000\n",
       "75%      71.000000\n",
       "max      90.000000"
      ]
     },
     "execution_count": 6,
     "metadata": {},
     "output_type": "execute_result"
    }
   ],
   "source": [
    "df.describe()"
   ]
  },
  {
   "cell_type": "code",
   "execution_count": 7,
   "id": "221239d9-fb8f-4317-89c2-a0a4b4a401b0",
   "metadata": {},
   "outputs": [
    {
     "data": {
      "text/plain": [
       "count     1000\n",
       "unique       2\n",
       "top        dog\n",
       "freq       525\n",
       "Name: cat_or_dog, dtype: object"
      ]
     },
     "execution_count": 7,
     "metadata": {},
     "output_type": "execute_result"
    }
   ],
   "source": [
    "df[\"cat_or_dog\"].describe()"
   ]
  },
  {
   "cell_type": "code",
   "execution_count": 8,
   "id": "b0cbb8c0-bd61-4c57-9b6e-78d3af24c3d5",
   "metadata": {},
   "outputs": [
    {
     "data": {
      "text/plain": [
       "count      1000\n",
       "unique        2\n",
       "top       pasta\n",
       "freq        507\n",
       "Name: rice_or_pasta, dtype: object"
      ]
     },
     "execution_count": 8,
     "metadata": {},
     "output_type": "execute_result"
    }
   ],
   "source": [
    "df[\"rice_or_pasta\"].describe()"
   ]
  },
  {
   "cell_type": "code",
   "execution_count": 9,
   "id": "a9b8027c-07f1-4d32-ba1d-c870a15cb97d",
   "metadata": {},
   "outputs": [
    {
     "data": {
      "text/plain": [
       "count          1000\n",
       "unique          179\n",
       "top       Librarian\n",
       "freq             17\n",
       "Name: job, dtype: object"
      ]
     },
     "execution_count": 9,
     "metadata": {},
     "output_type": "execute_result"
    }
   ],
   "source": [
    "df[\"job\"].describe()"
   ]
  }
 ],
 "metadata": {
  "kernelspec": {
   "display_name": "Python 3 (ipykernel)",
   "language": "python",
   "name": "python3"
  },
  "language_info": {
   "codemirror_mode": {
    "name": "ipython",
    "version": 3
   },
   "file_extension": ".py",
   "mimetype": "text/x-python",
   "name": "python",
   "nbconvert_exporter": "python",
   "pygments_lexer": "ipython3",
   "version": "3.10.2"
  }
 },
 "nbformat": 4,
 "nbformat_minor": 5
}
