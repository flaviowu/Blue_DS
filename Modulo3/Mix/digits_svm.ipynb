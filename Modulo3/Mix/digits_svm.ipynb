{
 "cells": [
  {
   "cell_type": "code",
   "execution_count": 2,
   "metadata": {},
   "outputs": [],
   "source": [
    "import pandas as pd\n",
    "import matplotlib.pyplot as plt"
   ]
  },
  {
   "cell_type": "code",
   "execution_count": 3,
   "metadata": {},
   "outputs": [],
   "source": [
    "from sklearn.datasets import load_digits"
   ]
  },
  {
   "cell_type": "code",
   "execution_count": 4,
   "metadata": {},
   "outputs": [],
   "source": [
    "digits = load_digits()\n",
    "X = load_digits().data\n",
    "y = load_digits().target"
   ]
  },
  {
   "cell_type": "code",
   "execution_count": 5,
   "metadata": {},
   "outputs": [
    {
     "data": {
      "image/png": "[encoded data removed]",
      "text/plain": [
       "<Figure size 432x288 with 1 Axes>"
      ]
     },
     "metadata": {
      "needs_background": "light"
     },
     "output_type": "display_data"
    }
   ],
   "source": [
    "fig = plt.figure()\n",
    "plt.imshow(digits.images[9],cmap = plt.cm.gray_r)\n",
    "txt = \"This is %d\"%digits.target[9]\n",
    "fig.text(0.1,0.1,txt)\n",
    "plt.show()"
   ]
  },
  {
   "cell_type": "code",
   "execution_count": 12,
   "metadata": {},
   "outputs": [],
   "source": [
    "from sklearn.model_selection import KFold\n",
    "from sklearn.svm import SVC\n",
    "from sklearn.tree import DecisionTreeClassifier, plot_tree\n",
    "from sklearn.model_selection import train_test_split, cross_val_score\n",
    "from sklearn.metrics import accuracy_score, precision_score,recall_score"
   ]
  },
  {
   "cell_type": "code",
   "execution_count": 28,
   "metadata": {},
   "outputs": [],
   "source": [
    "import seaborn as sns"
   ]
  },
  {
   "cell_type": "code",
   "execution_count": 42,
   "metadata": {},
   "outputs": [
    {
     "name": "stdout",
     "output_type": "stream",
     "text": [
      "C= 0.5\n",
      "Acurácia com SVM Linear: 0.9839 +/- 0.0078\n",
      "C= 0.3333\n",
      "Acurácia com SVM Linear: 0.9788 +/- 0.0063\n",
      "C= 0.25\n",
      "Acurácia com SVM Linear: 0.9744 +/- 0.0091\n",
      "C= 0.2\n",
      "Acurácia com SVM Linear: 0.9716 +/- 0.0098\n",
      "C= 0.1667\n",
      "Acurácia com SVM Linear: 0.9672 +/- 0.0087\n",
      "C= 0.1429\n",
      "Acurácia com SVM Linear: 0.9655 +/- 0.0084\n",
      "C= 0.125\n",
      "Acurácia com SVM Linear: 0.9621 +/- 0.0076\n",
      "C= 0.1111\n",
      "Acurácia com SVM Linear: 0.9605 +/- 0.0106\n",
      "C= 0.1\n",
      "Acurácia com SVM Linear: 0.9538 +/- 0.0102\n",
      "C= 0.0909\n",
      "Acurácia com SVM Linear: 0.9510 +/- 0.0067\n",
      "C= 0.0833\n",
      "Acurácia com SVM Linear: 0.9527 +/- 0.0139\n",
      "C= 0.0769\n",
      "Acurácia com SVM Linear: 0.9505 +/- 0.0173\n",
      "C= 0.0714\n",
      "Acurácia com SVM Linear: 0.9471 +/- 0.0068\n",
      "C= 0.0667\n",
      "Acurácia com SVM Linear: 0.9427 +/- 0.0112\n",
      "C= 0.0625\n",
      "Acurácia com SVM Linear: 0.9410 +/- 0.0122\n",
      "C= 0.0588\n",
      "Acurácia com SVM Linear: 0.9416 +/- 0.0134\n",
      "C= 0.0556\n",
      "Acurácia com SVM Linear: 0.9366 +/- 0.0096\n",
      "C= 0.0526\n",
      "Acurácia com SVM Linear: 0.9360 +/- 0.0080\n",
      "C= 0.05\n",
      "Acurácia com SVM Linear: 0.9366 +/- 0.0147\n"
     ]
    },
    {
     "data": {
      "text/plain": [
       "<AxesSubplot:>"
      ]
     },
     "execution_count": 42,
     "metadata": {},
     "output_type": "execute_result"
    },
    {
     "data": {
      "image/png": "[encoded data removed]",
      "text/plain": [
       "<Figure size 432x288 with 1 Axes>"
      ]
     },
     "metadata": {
      "needs_background": "light"
     },
     "output_type": "display_data"
    }
   ],
   "source": [
    "acuracia = []\n",
    "fold = list(range(2, 21))\n",
    "gamas = []\n",
    "for n in fold:\n",
    "    numeroFolds = 5\n",
    "    g = 1/n\n",
    "    kf = KFold(n_splits=numeroFolds, shuffle=True)\n",
    "\n",
    "    svm = SVC(kernel='rbf', C=g)\n",
    "    scores = cross_val_score(svm, X, y, cv=kf)\n",
    "    print(f'C= {round(g, 4)}')\n",
    "    print('Acurácia com SVM Linear: %0.4f +/- %0.4f' % (scores.mean(), scores.std()))\n",
    "\n",
    "    acuracia.append(scores.mean())\n",
    "    gamas.append(g)\n",
    "\n",
    "sns.lineplot(x=gamas, y=acuracia) \n"
   ]
  },
  {
   "cell_type": "code",
   "execution_count": 43,
   "metadata": {},
   "outputs": [],
   "source": [
    "X_train, X_test, y_train, y_test = train_test_split(X, y, test_size = 0.2, random_state=10)\n",
    "dt = DecisionTreeClassifier()\n",
    "dt.fit(X_train, y_train)\n",
    "y_pred = dt.predict(X_test)"
   ]
  },
  {
   "cell_type": "code",
   "execution_count": 44,
   "metadata": {},
   "outputs": [
    {
     "name": "stdout",
     "output_type": "stream",
     "text": [
      "Acurácia: 0.8555555555555555\n",
      "Precisão: 0.8562347068334242\n",
      "Sensitividade: 0.8545003099047218\n"
     ]
    }
   ],
   "source": [
    "print('Acurácia:', accuracy_score(y_test, y_pred))\n",
    "print('Precisão:',precision_score(y_test, y_pred, average='macro'))\n",
    "print('Sensitividade:',recall_score(y_test, y_pred, average='macro'))"
   ]
  }
 ],
 "metadata": {
  "interpreter": {
   "hash": "d0c898446e5d4f13e31e0d2cfe08fe39e9ed199f710d624d6ec54219410a0af5"
  },
  "kernelspec": {
   "display_name": "Python 3.9.7 ('base')",
   "language": "python",
   "name": "python3"
  },
  "language_info": {
   "codemirror_mode": {
    "name": "ipython",
    "version": 3
   },
   "file_extension": ".py",
   "mimetype": "text/x-python",
   "name": "python",
   "nbconvert_exporter": "python",
   "pygments_lexer": "ipython3",
   "version": "3.9.7"
  },
  "orig_nbformat": 4
 },
 "nbformat": 4,
 "nbformat_minor": 2
}
