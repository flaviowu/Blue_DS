{
  "nbformat": 4,
  "nbformat_minor": 0,
  "metadata": {
    "kernelspec": {
      "display_name": "Python 3",
      "language": "python",
      "name": "python3"
    },
    "language_info": {
      "codemirror_mode": {
        "name": "ipython",
        "version": 3
      },
      "file_extension": ".py",
      "mimetype": "text/x-python",
      "name": "python",
      "nbconvert_exporter": "python",
      "pygments_lexer": "ipython3",
      "version": "3.6.11"
    },
    "colab": {
      "name": "NaiveBayes.ipynb",
      "provenance": []
    }
  },
  "cells": [
    {
      "cell_type": "markdown",
      "metadata": {
        "id": "4Bsp3VAO1mg_"
      },
      "source": [
        "# **1 - Introdução:**\n",
        "\n",
        "Em aprendizado de máquina nós estamos interessados em determinar a melhor hipótese (modelo) para um conjunto de dados de treinamento. Então, **uma maneira natural para encontrar a melhor hipótese é determinar a hipótese mais provável**. Assim, o Teorema de Bayes provê o cálculo das probabilidades das hipóteses para os dados observados:\n",
        "- $P(h)$ denota a probabilidade de $h$ antes de observar os dados de treinamento (probabilidade a priori, baseando-se no conhecimento que temos sobre $h$ ser válido ou não);\n",
        "- se não temos este conhecimento a priori atribuimos a mesma probabilidade para todas as hipóteses candidatas;\n",
        "- $P(D)$ é a probabilidade de observar o conjunto de treinamento $D$;\n",
        "- $P(D|h)$ é a probabilidade de observar os dados $D$ na hipótese $h$;\n",
        "- $P(h|D)$ é a probabilidade posterior da hipótese $h$ após conhecer $D$.\n",
        "\n",
        "Assim, o **Teorema de Bayes** é dado por:\n",
        "\n",
        "$$P(h|D) = \\frac {P(D|h) P(h)}{P(D)}$$\n",
        "\n",
        "Assim, **informalmente**:\n",
        "\n",
        "$$posterior = \\frac{probabilidade * anterior}{evidência}$$\n",
        "\n",
        "**Generalizando para $n$ temos:**\n",
        "\n",
        "$$P(D) = \\sum_{i=1}^{n} P(D|h_i).P(h_i)$$\n",
        "\n",
        "\n",
        "Inicialmente, temos diversas hipóteses $h$ candidatas para o mesmo conjunto de dados $D$. Assim, queremos maximizar a hipótese mais provável (*Maximum a posteriori*)\n",
        "\n",
        "$$h_{MAP} = argmax ~~P(h|D) = argmax ~~\\frac{P(D|h) P(h)}{P(D)} = argmax~~ P(D|h)$$\n",
        "\n",
        "devido a $P(D)$ ser constante para todas as hipóteses e por assumir que $P(h_i)$ são equiprováveis.\n",
        "\n",
        "\n",
        "**Exemplo:**\n",
        "- $\\omega_1$ é a hipótese de um paciente estar doente;\n",
        "- $\\omega_2$ é a hipótese de um paciente não estar doente;\n",
        "- $x$ é um atributo qualquer da base de dados $D$;\n",
        "- supondo que o valor de $x$ para uma instância seja 10, esta instância possui maior probabilidade de pertencer à hipótese $\\omega_1$ do que à hipótese $\\omega_2$.\n",
        "- $\\theta_a$ estabelece um limiar para a separação das classes."
      ]
    },
    {
      "cell_type": "markdown",
      "source": [
        "![image.png](data:image/png;base64,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)"
      ],
      "metadata": {
        "id": "ivr9JDrzDNwP"
      }
    },
    {
      "cell_type": "markdown",
      "source": [
        "Ou seja, temos a **Regra de Decisão Bayesiana** para definir a melhor hipótese:\n",
        "\n",
        "$$\\omega_1 ~~if~~ P(\\omega_1|x) > P(\\omega_2|x); ~~caso~~contrário~~ \\omega_2$$\n",
        "\n",
        "Consequentemente, garantimos o **menor erro** e maximizamos a hipótese mais provável:\n",
        "\n",
        "$$P(erro|x) = min [P(\\omega_1|x),P(\\omega_2|x)]$$\n",
        "\n",
        " \n"
      ],
      "metadata": {
        "id": "s1phPw1UWlkx"
      }
    },
    {
      "cell_type": "markdown",
      "source": [
        "# **2 - Naive Bayes:**\n",
        "\n",
        "O classificador Naive-Bayes considera que cada instância $x$ é formado por um conjunto de atributos $a$ e que a função alvo $f(x)$ assume uma das respectivas hipóteses $h_i$ das classes disponíveis.\n",
        "\n",
        "Assim, para uma instância $x$ é atribuído a hipótese mais provável como rótulo de saída, em que:\n",
        "\n",
        "$$h_{MAP} = argmax P(h_i|a_1,...,a_n)$$\n",
        "\n",
        "Por meio do Teorema de Bayes obtemos:\n",
        "\n",
        "$$h_{MAP} = argmax P(a_1,...,a_n|h_i)~P(h_i)$$\n",
        "\n",
        "De forma geral:\n",
        "- $P(h_i)$ é a frequência de cada hipótese ocorrida no conjunto de treinamento\n",
        "- $P(a_1,...,a_n|h_i)$ muito complicado de obter pois não temos base para saber qual a probabilidade do conjunto de valores do atributos ocorrer para cada $h_i$.\n",
        "\n",
        "Devido à essa dificuldade, assume-se que os atributos são condicionalmente independentes de $h_i$ (abordagem ingênua!!!). Consequentemente:\n",
        "\n",
        "$$h_{NB} = argmax P(h_i) \\prod P(a_j|h_i)$$\n",
        "\n",
        "Assim, para cada hipótese $h$ calculamos apenas a probabilidade de cada atributo $a$. Isso torna o modelo menos complexo. Consequentemente, se os dados realmente forem condicionalmente independentes $h_{NB} = h_{MAP}$.\n",
        "\n",
        "Outra característica é que não há necessidade de estimar os parâmetros, apenas a contagem de frequência para estabelecer as probabilidades.\n",
        "\n",
        "**Algoritmo (dados de treinamento como entrada):**\n",
        "- para cada classe $C_j$:\n",
        "  - obter a probabilidade incondicional $P(C_j)$\n",
        "  - para cada atributo $A_i$:\n",
        "    - obter a probabilidade estimada $P(A_i|C_j)$\n",
        "\n",
        "A saída do modelo proporciona:\n",
        "- a probabilidade de cada classe no conjunto de dados de treino;\n",
        "- a probabilidade condicional de cada atributo dada a classe;\n",
        "\n",
        "**Exemplo:**\n",
        "\n",
        "Dados de Treinamento:\n",
        "\n",
        "Dia | Outlook | Temperature | Humidity | Wind | PlayTennis?\n",
        ":---|:---|:---|:---|:---|:---\n",
        "D1 | Sunny | Hot | High | Weak | No\n",
        "D2 | Sunny | Hot | High | Strong | No\n",
        "D3 | Overcast | Hot | High | Weak | Yes\n",
        "D4 | Rain | Mild | High | Weak | Yes\n",
        "D5 | Rain | Cool | Normal | Weak | Yes\n",
        "D6 | Rain | Cool | Normal | Strong | No\n",
        "D7 | Overcast | Cool | Normal | Strong | Yes\n",
        "D8 | Sunny | Mild | High | Weak | No\n",
        "D9 | Sunny | Cool | Normal | Weak | Yes\n",
        "D10 | Rain | Mild | Normal | Weak | Yes\n",
        "D11 | Sunny | Mild | Normal | Strong | Yes\n",
        "D12 | Overcast | Mild | High | Strong | Yes\n",
        "D13 | Overcast | Hot | Normal | Weak | Yes\n",
        "D14 | Rain | Mild | High | Strong | No\n",
        "\n",
        "Definição do Classificador Naive-Bayes:\n",
        "\n",
        "$$h_{NB}= argmax ~P(h_i) \\prod P(a_j|h_i)$$\n",
        "\n",
        "Classificar (PlayTennis) a seguinte instância (Sunny, Cool, High, Strong):\n",
        "\n",
        "$= P(Yes)~P(Sunny|Yes)~P(Cool|Yes)~P(High|Yes)~P(Strong|Yes) = \\frac{9}{14} . \\frac{2}{9} . \\frac{3}{9} . \\frac{3}{9} . \\frac{3}{9} = 0.0053$\n",
        "\n",
        "$= P(No)~~P(Sunny|No)~~~P(Cool|No)~~~P(High|No)~~~P(Strong|No) = \\frac{5}{14} . \\frac{3}{5} . \\frac{1}{5} . \\frac{2}{5} . \\frac{3}{5} = 0.0206$\n",
        "\n",
        "$h_{NB}= argmax \\{0.0053, 0.0206\\}$, ou seja, a saída é No\n",
        "\n",
        "Como estamos utilizando frequência absoluta o somátorio não é 1. Se usarmos frequência relativa a soma passará a ser 1.\n",
        "\n",
        "$\\frac{0.0206}{0.0206+0.0053} = 0.795$ para No\n",
        "\n",
        "$\\frac{0.0053}{0.0206+0.0053} = 0.205$ para Yes"
      ],
      "metadata": {
        "id": "H9irEcri64O6"
      }
    },
    {
      "cell_type": "code",
      "source": [
        "# carregando os datasets\n",
        "import numpy as np\n",
        "from sklearn.datasets import load_iris\n",
        "from sklearn.datasets import load_wine\n",
        "\n",
        "iris = load_iris()\n",
        "X_iris = iris.data\n",
        "Y_iris = iris.target\n",
        "print(\"Conjunto de dados IRIS\", X_iris.shape)\n",
        "print(\"Conjunto de rótulos IRIS\", Y_iris.shape)\n",
        "print(\"Classes\", np.unique(Y_iris))\n",
        "\n",
        "wines = load_wine()\n",
        "X_wines = wines.data\n",
        "Y_wines = wines.target\n",
        "print(\"\\nConjunto de dados WINES\", X_wines.shape)\n",
        "print(\"Conjunto de rótulos WINES\", Y_wines.shape)\n",
        "print(\"Classes\", np.unique(Y_wines))"
      ],
      "metadata": {
        "id": "9q6rDDuX7BUn",
        "colab": {
          "base_uri": "https://localhost:8080/"
        },
        "outputId": "945bd53a-4fef-475d-829c-5ba456431133"
      },
      "execution_count": null,
      "outputs": [
        {
          "output_type": "stream",
          "name": "stdout",
          "text": [
            "Conjunto de dados IRIS (150, 4)\n",
            "Conjunto de rótulos IRIS (150,)\n",
            "Classes [0 1 2]\n",
            "\n",
            "Conjunto de dados WINES (178, 13)\n",
            "Conjunto de rótulos WINES (178,)\n",
            "Classes [0 1 2]\n"
          ]
        }
      ]
    },
    {
      "cell_type": "code",
      "source": [
        "from sklearn.model_selection import train_test_split\n",
        "from sklearn.metrics import accuracy_score\n",
        "from sklearn.naive_bayes import GaussianNB\n",
        "\n",
        "# https://scikit-learn.org/stable/modules/naive_bayes.html\n",
        "\n",
        "# dataset iris\n",
        "xTrain, xTest, yTrain, yTest = train_test_split(X_iris, Y_iris, test_size=0.2)\n",
        "nbIris = GaussianNB().fit(xTrain, yTrain)\n",
        "predIris = nbIris.predict(xTest)\n",
        "\n",
        "print('Acurácia IRIS com NB: %0.4f' % accuracy_score(predIris, yTest))\n",
        "print('Probabilidade de cada classe:',nbIris.class_prior_)\n",
        "\n",
        "# dataset wines\n",
        "xTrain, xTest, yTrain, yTest = train_test_split(X_wines, Y_wines, test_size=0.2)\n",
        "nbWines = GaussianNB().fit(xTrain, yTrain)\n",
        "predWines = nbWines.predict(xTest)\n",
        "\n",
        "print('\\nAcurácia WINES com NB: %0.4f' % accuracy_score(predWines, yTest))\n",
        "print('Probabilidade de cada classe:',nbWines.class_prior_)"
      ],
      "metadata": {
        "id": "KNpi_Eux7GgM",
        "colab": {
          "base_uri": "https://localhost:8080/"
        },
        "outputId": "a9fe8c6c-68e1-4a56-b1cb-a4810ed7bc3f"
      },
      "execution_count": null,
      "outputs": [
        {
          "output_type": "stream",
          "name": "stdout",
          "text": [
            "Acurácia IRIS com NB: 0.9667\n",
            "Probabilidade de cada classe: [0.34166667 0.35833333 0.3       ]\n",
            "\n",
            "Acurácia IRIS com NB: 1.0000\n",
            "Probabilidade de cada classe: [0.33802817 0.41549296 0.24647887]\n"
          ]
        }
      ]
    }
  ]
}