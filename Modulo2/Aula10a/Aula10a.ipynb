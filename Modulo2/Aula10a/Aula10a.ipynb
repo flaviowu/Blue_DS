{
 "cells": [
  {
   "cell_type": "code",
   "execution_count": 48,
   "metadata": {},
   "outputs": [],
   "source": [
    "import numpy as np\n",
    "import pandas as pd\n",
    "\n",
    "from sklearn.preprocessing import StandardScaler\n",
    "\n",
    "from sklearn.model_selection import train_test_split\n",
    "from sklearn.linear_model import LogisticRegression\n",
    "\n",
    "# metricas usadas para classificacao\n",
    "from sklearn.metrics import confusion_matrix\n",
    "\n",
    "from sklearn.feature_selection import RFE\n",
    "\n",
    "import seaborn as sns\n",
    "import matplotlib.pyplot as plt"
   ]
  },
  {
   "cell_type": "code",
   "execution_count": 23,
   "metadata": {},
   "outputs": [
    {
     "data": {
      "text/html": [
       "<div>\n",
       "<style scoped>\n",
       "    .dataframe tbody tr th:only-of-type {\n",
       "        vertical-align: middle;\n",
       "    }\n",
       "\n",
       "    .dataframe tbody tr th {\n",
       "        vertical-align: top;\n",
       "    }\n",
       "\n",
       "    .dataframe thead th {\n",
       "        text-align: right;\n",
       "    }\n",
       "</style>\n",
       "<table border=\"1\" class=\"dataframe\">\n",
       "  <thead>\n",
       "    <tr style=\"text-align: right;\">\n",
       "      <th></th>\n",
       "      <th>idx</th>\n",
       "      <th>clump_thickness</th>\n",
       "      <th>uniformity_cell_size</th>\n",
       "      <th>uniformity_cell_shape</th>\n",
       "      <th>marginal_adhesion</th>\n",
       "      <th>single_epithelial_cell_size</th>\n",
       "      <th>bare_nuclei</th>\n",
       "      <th>bland_chromatin</th>\n",
       "      <th>normal_nucleoli</th>\n",
       "      <th>mitoses</th>\n",
       "      <th>class</th>\n",
       "    </tr>\n",
       "  </thead>\n",
       "  <tbody>\n",
       "    <tr>\n",
       "      <th>0</th>\n",
       "      <td>1000025</td>\n",
       "      <td>5</td>\n",
       "      <td>1</td>\n",
       "      <td>1</td>\n",
       "      <td>1</td>\n",
       "      <td>2</td>\n",
       "      <td>1</td>\n",
       "      <td>3</td>\n",
       "      <td>1</td>\n",
       "      <td>1</td>\n",
       "      <td>2</td>\n",
       "    </tr>\n",
       "    <tr>\n",
       "      <th>1</th>\n",
       "      <td>1002945</td>\n",
       "      <td>5</td>\n",
       "      <td>4</td>\n",
       "      <td>4</td>\n",
       "      <td>5</td>\n",
       "      <td>7</td>\n",
       "      <td>10</td>\n",
       "      <td>3</td>\n",
       "      <td>2</td>\n",
       "      <td>1</td>\n",
       "      <td>2</td>\n",
       "    </tr>\n",
       "    <tr>\n",
       "      <th>2</th>\n",
       "      <td>1015425</td>\n",
       "      <td>3</td>\n",
       "      <td>1</td>\n",
       "      <td>1</td>\n",
       "      <td>1</td>\n",
       "      <td>2</td>\n",
       "      <td>2</td>\n",
       "      <td>3</td>\n",
       "      <td>1</td>\n",
       "      <td>1</td>\n",
       "      <td>2</td>\n",
       "    </tr>\n",
       "    <tr>\n",
       "      <th>3</th>\n",
       "      <td>1016277</td>\n",
       "      <td>6</td>\n",
       "      <td>8</td>\n",
       "      <td>8</td>\n",
       "      <td>1</td>\n",
       "      <td>3</td>\n",
       "      <td>4</td>\n",
       "      <td>3</td>\n",
       "      <td>7</td>\n",
       "      <td>1</td>\n",
       "      <td>2</td>\n",
       "    </tr>\n",
       "    <tr>\n",
       "      <th>4</th>\n",
       "      <td>1017023</td>\n",
       "      <td>4</td>\n",
       "      <td>1</td>\n",
       "      <td>1</td>\n",
       "      <td>3</td>\n",
       "      <td>2</td>\n",
       "      <td>1</td>\n",
       "      <td>3</td>\n",
       "      <td>1</td>\n",
       "      <td>1</td>\n",
       "      <td>2</td>\n",
       "    </tr>\n",
       "  </tbody>\n",
       "</table>\n",
       "</div>"
      ],
      "text/plain": [
       "       idx  clump_thickness  uniformity_cell_size  uniformity_cell_shape  \\\n",
       "0  1000025                5                     1                      1   \n",
       "1  1002945                5                     4                      4   \n",
       "2  1015425                3                     1                      1   \n",
       "3  1016277                6                     8                      8   \n",
       "4  1017023                4                     1                      1   \n",
       "\n",
       "   marginal_adhesion  single_epithelial_cell_size bare_nuclei  \\\n",
       "0                  1                            2           1   \n",
       "1                  5                            7          10   \n",
       "2                  1                            2           2   \n",
       "3                  1                            3           4   \n",
       "4                  3                            2           1   \n",
       "\n",
       "   bland_chromatin  normal_nucleoli  mitoses  class  \n",
       "0                3                1        1      2  \n",
       "1                3                2        1      2  \n",
       "2                3                1        1      2  \n",
       "3                3                7        1      2  \n",
       "4                3                1        1      2  "
      ]
     },
     "execution_count": 23,
     "metadata": {},
     "output_type": "execute_result"
    }
   ],
   "source": [
    "colunas = [\"idx\",\n",
    "           \"clump_thickness\",            \n",
    "           \"uniformity_cell_size\",    \n",
    "           \"uniformity_cell_shape\",   \n",
    "           \"marginal_adhesion\",          \n",
    "           \"single_epithelial_cell_size\",\n",
    "           \"bare_nuclei\",                \n",
    "           \"bland_chromatin\",            \n",
    "           \"normal_nucleoli\",            \n",
    "           \"mitoses\",                    \n",
    "           \"class\"]\n",
    "\n",
    "dados = pd.read_csv('./breast-cancer-wisconsin.data', header=None, names = colunas)\n",
    "dados.head()"
   ]
  },
  {
   "cell_type": "code",
   "execution_count": 24,
   "metadata": {},
   "outputs": [
    {
     "data": {
      "text/html": [
       "<div>\n",
       "<style scoped>\n",
       "    .dataframe tbody tr th:only-of-type {\n",
       "        vertical-align: middle;\n",
       "    }\n",
       "\n",
       "    .dataframe tbody tr th {\n",
       "        vertical-align: top;\n",
       "    }\n",
       "\n",
       "    .dataframe thead th {\n",
       "        text-align: right;\n",
       "    }\n",
       "</style>\n",
       "<table border=\"1\" class=\"dataframe\">\n",
       "  <thead>\n",
       "    <tr style=\"text-align: right;\">\n",
       "      <th></th>\n",
       "      <th>idx</th>\n",
       "      <th>clump_thickness</th>\n",
       "      <th>uniformity_cell_size</th>\n",
       "      <th>uniformity_cell_shape</th>\n",
       "      <th>marginal_adhesion</th>\n",
       "      <th>single_epithelial_cell_size</th>\n",
       "      <th>bare_nuclei</th>\n",
       "      <th>bland_chromatin</th>\n",
       "      <th>normal_nucleoli</th>\n",
       "      <th>mitoses</th>\n",
       "      <th>maligno</th>\n",
       "    </tr>\n",
       "  </thead>\n",
       "  <tbody>\n",
       "    <tr>\n",
       "      <th>0</th>\n",
       "      <td>1000025</td>\n",
       "      <td>5</td>\n",
       "      <td>1</td>\n",
       "      <td>1</td>\n",
       "      <td>1</td>\n",
       "      <td>2</td>\n",
       "      <td>1</td>\n",
       "      <td>3</td>\n",
       "      <td>1</td>\n",
       "      <td>1</td>\n",
       "      <td>0</td>\n",
       "    </tr>\n",
       "    <tr>\n",
       "      <th>1</th>\n",
       "      <td>1002945</td>\n",
       "      <td>5</td>\n",
       "      <td>4</td>\n",
       "      <td>4</td>\n",
       "      <td>5</td>\n",
       "      <td>7</td>\n",
       "      <td>10</td>\n",
       "      <td>3</td>\n",
       "      <td>2</td>\n",
       "      <td>1</td>\n",
       "      <td>0</td>\n",
       "    </tr>\n",
       "    <tr>\n",
       "      <th>2</th>\n",
       "      <td>1015425</td>\n",
       "      <td>3</td>\n",
       "      <td>1</td>\n",
       "      <td>1</td>\n",
       "      <td>1</td>\n",
       "      <td>2</td>\n",
       "      <td>2</td>\n",
       "      <td>3</td>\n",
       "      <td>1</td>\n",
       "      <td>1</td>\n",
       "      <td>0</td>\n",
       "    </tr>\n",
       "    <tr>\n",
       "      <th>3</th>\n",
       "      <td>1016277</td>\n",
       "      <td>6</td>\n",
       "      <td>8</td>\n",
       "      <td>8</td>\n",
       "      <td>1</td>\n",
       "      <td>3</td>\n",
       "      <td>4</td>\n",
       "      <td>3</td>\n",
       "      <td>7</td>\n",
       "      <td>1</td>\n",
       "      <td>0</td>\n",
       "    </tr>\n",
       "    <tr>\n",
       "      <th>4</th>\n",
       "      <td>1017023</td>\n",
       "      <td>4</td>\n",
       "      <td>1</td>\n",
       "      <td>1</td>\n",
       "      <td>3</td>\n",
       "      <td>2</td>\n",
       "      <td>1</td>\n",
       "      <td>3</td>\n",
       "      <td>1</td>\n",
       "      <td>1</td>\n",
       "      <td>0</td>\n",
       "    </tr>\n",
       "    <tr>\n",
       "      <th>...</th>\n",
       "      <td>...</td>\n",
       "      <td>...</td>\n",
       "      <td>...</td>\n",
       "      <td>...</td>\n",
       "      <td>...</td>\n",
       "      <td>...</td>\n",
       "      <td>...</td>\n",
       "      <td>...</td>\n",
       "      <td>...</td>\n",
       "      <td>...</td>\n",
       "      <td>...</td>\n",
       "    </tr>\n",
       "    <tr>\n",
       "      <th>694</th>\n",
       "      <td>776715</td>\n",
       "      <td>3</td>\n",
       "      <td>1</td>\n",
       "      <td>1</td>\n",
       "      <td>1</td>\n",
       "      <td>3</td>\n",
       "      <td>2</td>\n",
       "      <td>1</td>\n",
       "      <td>1</td>\n",
       "      <td>1</td>\n",
       "      <td>0</td>\n",
       "    </tr>\n",
       "    <tr>\n",
       "      <th>695</th>\n",
       "      <td>841769</td>\n",
       "      <td>2</td>\n",
       "      <td>1</td>\n",
       "      <td>1</td>\n",
       "      <td>1</td>\n",
       "      <td>2</td>\n",
       "      <td>1</td>\n",
       "      <td>1</td>\n",
       "      <td>1</td>\n",
       "      <td>1</td>\n",
       "      <td>0</td>\n",
       "    </tr>\n",
       "    <tr>\n",
       "      <th>696</th>\n",
       "      <td>888820</td>\n",
       "      <td>5</td>\n",
       "      <td>10</td>\n",
       "      <td>10</td>\n",
       "      <td>3</td>\n",
       "      <td>7</td>\n",
       "      <td>3</td>\n",
       "      <td>8</td>\n",
       "      <td>10</td>\n",
       "      <td>2</td>\n",
       "      <td>1</td>\n",
       "    </tr>\n",
       "    <tr>\n",
       "      <th>697</th>\n",
       "      <td>897471</td>\n",
       "      <td>4</td>\n",
       "      <td>8</td>\n",
       "      <td>6</td>\n",
       "      <td>4</td>\n",
       "      <td>3</td>\n",
       "      <td>4</td>\n",
       "      <td>10</td>\n",
       "      <td>6</td>\n",
       "      <td>1</td>\n",
       "      <td>1</td>\n",
       "    </tr>\n",
       "    <tr>\n",
       "      <th>698</th>\n",
       "      <td>897471</td>\n",
       "      <td>4</td>\n",
       "      <td>8</td>\n",
       "      <td>8</td>\n",
       "      <td>5</td>\n",
       "      <td>4</td>\n",
       "      <td>5</td>\n",
       "      <td>10</td>\n",
       "      <td>4</td>\n",
       "      <td>1</td>\n",
       "      <td>1</td>\n",
       "    </tr>\n",
       "  </tbody>\n",
       "</table>\n",
       "<p>699 rows × 11 columns</p>\n",
       "</div>"
      ],
      "text/plain": [
       "         idx  clump_thickness  uniformity_cell_size  uniformity_cell_shape  \\\n",
       "0    1000025                5                     1                      1   \n",
       "1    1002945                5                     4                      4   \n",
       "2    1015425                3                     1                      1   \n",
       "3    1016277                6                     8                      8   \n",
       "4    1017023                4                     1                      1   \n",
       "..       ...              ...                   ...                    ...   \n",
       "694   776715                3                     1                      1   \n",
       "695   841769                2                     1                      1   \n",
       "696   888820                5                    10                     10   \n",
       "697   897471                4                     8                      6   \n",
       "698   897471                4                     8                      8   \n",
       "\n",
       "     marginal_adhesion  single_epithelial_cell_size bare_nuclei  \\\n",
       "0                    1                            2           1   \n",
       "1                    5                            7          10   \n",
       "2                    1                            2           2   \n",
       "3                    1                            3           4   \n",
       "4                    3                            2           1   \n",
       "..                 ...                          ...         ...   \n",
       "694                  1                            3           2   \n",
       "695                  1                            2           1   \n",
       "696                  3                            7           3   \n",
       "697                  4                            3           4   \n",
       "698                  5                            4           5   \n",
       "\n",
       "     bland_chromatin  normal_nucleoli  mitoses  maligno  \n",
       "0                  3                1        1        0  \n",
       "1                  3                2        1        0  \n",
       "2                  3                1        1        0  \n",
       "3                  3                7        1        0  \n",
       "4                  3                1        1        0  \n",
       "..               ...              ...      ...      ...  \n",
       "694                1                1        1        0  \n",
       "695                1                1        1        0  \n",
       "696                8               10        2        1  \n",
       "697               10                6        1        1  \n",
       "698               10                4        1        1  \n",
       "\n",
       "[699 rows x 11 columns]"
      ]
     },
     "execution_count": 24,
     "metadata": {},
     "output_type": "execute_result"
    }
   ],
   "source": [
    "dados['maligno'] = pd.get_dummies(dados['class'], drop_first=True)\n",
    "dados = dados.drop('class', axis=1)\n",
    "dados"
   ]
  },
  {
   "cell_type": "code",
   "execution_count": 25,
   "metadata": {},
   "outputs": [
    {
     "name": "stdout",
     "output_type": "stream",
     "text": [
      "<class 'pandas.core.frame.DataFrame'>\n",
      "RangeIndex: 699 entries, 0 to 698\n",
      "Data columns (total 11 columns):\n",
      " #   Column                       Non-Null Count  Dtype \n",
      "---  ------                       --------------  ----- \n",
      " 0   idx                          699 non-null    int64 \n",
      " 1   clump_thickness              699 non-null    int64 \n",
      " 2   uniformity_cell_size         699 non-null    int64 \n",
      " 3   uniformity_cell_shape        699 non-null    int64 \n",
      " 4   marginal_adhesion            699 non-null    int64 \n",
      " 5   single_epithelial_cell_size  699 non-null    int64 \n",
      " 6   bare_nuclei                  699 non-null    object\n",
      " 7   bland_chromatin              699 non-null    int64 \n",
      " 8   normal_nucleoli              699 non-null    int64 \n",
      " 9   mitoses                      699 non-null    int64 \n",
      " 10  maligno                      699 non-null    uint8 \n",
      "dtypes: int64(9), object(1), uint8(1)\n",
      "memory usage: 55.4+ KB\n"
     ]
    }
   ],
   "source": [
    "dados.info()"
   ]
  },
  {
   "cell_type": "code",
   "execution_count": 26,
   "metadata": {},
   "outputs": [],
   "source": [
    "# removendo as linhas com dados faltantes\n",
    "dados = dados.replace({'?': np.nan})\n",
    "dados = dados.dropna()\n",
    "\n",
    "# separando os dados\n",
    "X = dados.drop(['idx', 'maligno'], axis = 1)\n",
    "y = np.array(dados['maligno'])\n",
    "X_std = StandardScaler().fit_transform(X)"
   ]
  },
  {
   "cell_type": "code",
   "execution_count": 27,
   "metadata": {},
   "outputs": [],
   "source": [
    "X_train, X_test, y_train, y_test = train_test_split(X_std, y, test_size = 0.2, random_state=10)\n",
    "\n",
    "lr = LogisticRegression(random_state=42)\n",
    "lr.fit(X_train, y_train)\n",
    "y_pred = lr.predict(X_test)"
   ]
  },
  {
   "cell_type": "code",
   "execution_count": 28,
   "metadata": {},
   "outputs": [
    {
     "data": {
      "text/html": [
       "<div>\n",
       "<style scoped>\n",
       "    .dataframe tbody tr th:only-of-type {\n",
       "        vertical-align: middle;\n",
       "    }\n",
       "\n",
       "    .dataframe tbody tr th {\n",
       "        vertical-align: top;\n",
       "    }\n",
       "\n",
       "    .dataframe thead th {\n",
       "        text-align: right;\n",
       "    }\n",
       "</style>\n",
       "<table border=\"1\" class=\"dataframe\">\n",
       "  <thead>\n",
       "    <tr style=\"text-align: right;\">\n",
       "      <th></th>\n",
       "      <th>Predito benigno</th>\n",
       "      <th>Predito maligno</th>\n",
       "      <th>All</th>\n",
       "    </tr>\n",
       "  </thead>\n",
       "  <tbody>\n",
       "    <tr>\n",
       "      <th>Verdadeiro benigno</th>\n",
       "      <td>87</td>\n",
       "      <td>2</td>\n",
       "      <td>89</td>\n",
       "    </tr>\n",
       "    <tr>\n",
       "      <th>Verdadeiro maligno</th>\n",
       "      <td>3</td>\n",
       "      <td>45</td>\n",
       "      <td>48</td>\n",
       "    </tr>\n",
       "    <tr>\n",
       "      <th>All</th>\n",
       "      <td>90</td>\n",
       "      <td>47</td>\n",
       "      <td>137</td>\n",
       "    </tr>\n",
       "  </tbody>\n",
       "</table>\n",
       "</div>"
      ],
      "text/plain": [
       "                    Predito benigno  Predito maligno  All\n",
       "Verdadeiro benigno               87                2   89\n",
       "Verdadeiro maligno                3               45   48\n",
       "All                              90               47  137"
      ]
     },
     "execution_count": 28,
     "metadata": {},
     "output_type": "execute_result"
    }
   ],
   "source": [
    "_cm = pd.crosstab(y_test, y_pred, margins=True).reset_index()\n",
    "_cm.drop('row_0', axis=1, inplace=True)\n",
    "_cm.columns = [\"Predito benigno\", \"Predito maligno\", \"All\"]\n",
    "_cm.index = [\"Verdadeiro benigno\", \"Verdadeiro maligno\", \"All\"]\n",
    "_cm"
   ]
  },
  {
   "cell_type": "code",
   "execution_count": 29,
   "metadata": {},
   "outputs": [
    {
     "data": {
      "text/html": [
       "<div>\n",
       "<style scoped>\n",
       "    .dataframe tbody tr th:only-of-type {\n",
       "        vertical-align: middle;\n",
       "    }\n",
       "\n",
       "    .dataframe tbody tr th {\n",
       "        vertical-align: top;\n",
       "    }\n",
       "\n",
       "    .dataframe thead th {\n",
       "        text-align: right;\n",
       "    }\n",
       "</style>\n",
       "<table border=\"1\" class=\"dataframe\">\n",
       "  <thead>\n",
       "    <tr style=\"text-align: right;\">\n",
       "      <th></th>\n",
       "      <th>Predito benigno</th>\n",
       "      <th>Predito maligno</th>\n",
       "    </tr>\n",
       "  </thead>\n",
       "  <tbody>\n",
       "    <tr>\n",
       "      <th>Verdadeiro benigno</th>\n",
       "      <td>87</td>\n",
       "      <td>2</td>\n",
       "    </tr>\n",
       "    <tr>\n",
       "      <th>Verdadeiro maligno</th>\n",
       "      <td>3</td>\n",
       "      <td>45</td>\n",
       "    </tr>\n",
       "  </tbody>\n",
       "</table>\n",
       "</div>"
      ],
      "text/plain": [
       "                    Predito benigno  Predito maligno\n",
       "Verdadeiro benigno               87                2\n",
       "Verdadeiro maligno                3               45"
      ]
     },
     "execution_count": 29,
     "metadata": {},
     "output_type": "execute_result"
    }
   ],
   "source": [
    "# Usamos a estrutura dataframe da biblioteca pandas para melhor apresentar a matriz de confusao\n",
    "cm = pd.DataFrame(confusion_matrix(y_test, y_pred), \n",
    "             columns=[\"Predito benigno\",\"Predito maligno\",],\n",
    "             index  =[\"Verdadeiro benigno\", \"Verdadeiro maligno\"])\n",
    "cm"
   ]
  },
  {
   "cell_type": "code",
   "execution_count": 30,
   "metadata": {},
   "outputs": [
    {
     "data": {
      "text/plain": [
       "<AxesSubplot:>"
      ]
     },
     "execution_count": 30,
     "metadata": {},
     "output_type": "execute_result"
    },
    {
     "data": {
      "image/png": "[encoded data removed]",
      "text/plain": [
       "<Figure size 432x288 with 1 Axes>"
      ]
     },
     "metadata": {
      "needs_background": "light"
     },
     "output_type": "display_data"
    }
   ],
   "source": [
    "sns.heatmap(data=cm, annot=True, cbar=False)"
   ]
  },
  {
   "cell_type": "code",
   "execution_count": 31,
   "metadata": {},
   "outputs": [],
   "source": [
    "def get_metrics(data_frame):\n",
    "    TN = data_frame.iloc[0,0]\n",
    "    TP = data_frame.iloc[1,1]\n",
    "    FP = data_frame.iloc[0,1]\n",
    "    FN = data_frame.iloc[1,0]\n",
    "    \n",
    "    acuracia = (TP + TN)/(TP+TN+FP+FN)\n",
    "    precisao = TP/(TP+FP)\n",
    "    especificidade = TN/(TN+FP)\n",
    "    sensitividade = TP/(TP+FN)\n",
    "    \n",
    "    return { \n",
    "            \"acuracia\": acuracia,\n",
    "            \"precisao\": precisao,\n",
    "            \"especificidade\": precisao,\n",
    "            \"sensitividade\": precisao\n",
    "            }"
   ]
  },
  {
   "cell_type": "code",
   "execution_count": 32,
   "metadata": {},
   "outputs": [
    {
     "data": {
      "text/plain": [
       "{'acuracia': 0.9635036496350365,\n",
       " 'precisao': 0.9574468085106383,\n",
       " 'especificidade': 0.9574468085106383,\n",
       " 'sensitividade': 0.9574468085106383}"
      ]
     },
     "execution_count": 32,
     "metadata": {},
     "output_type": "execute_result"
    }
   ],
   "source": [
    "metrics = get_metrics(cm)\n",
    "metrics"
   ]
  },
  {
   "cell_type": "code",
   "execution_count": 39,
   "metadata": {},
   "outputs": [],
   "source": [
    "# separando os dados\n",
    "X2 = dados.drop(['idx', 'maligno'], axis = 1)\n",
    "y2 = dados['maligno']\n",
    "X2_std = StandardScaler().fit_transform(X2)\n",
    "\n",
    "lr2 = LogisticRegression(random_state=42)\n",
    "selector2 = RFE(estimator=lr2, n_features_to_select=3, step=1)\n",
    "selector2 = selector2.fit(X2_std, y2)\n",
    "\n",
    "X2 = X2[X2.columns[selector2.support_]]\n",
    "X2_std = StandardScaler().fit_transform(X2)\n",
    "X2_train, X2_test, y2_train, y2_test = train_test_split(X2_std, y2, test_size = 0.2, random_state=10)\n",
    "\n",
    "lr2.fit(X2_train, y2_train)\n",
    "y2_pred = lr2.predict(X2_test)"
   ]
  },
  {
   "cell_type": "code",
   "execution_count": 40,
   "metadata": {},
   "outputs": [
    {
     "data": {
      "text/plain": [
       "Index(['clump_thickness', 'uniformity_cell_shape', 'bare_nuclei'], dtype='object')"
      ]
     },
     "execution_count": 40,
     "metadata": {},
     "output_type": "execute_result"
    }
   ],
   "source": [
    "X2.columns"
   ]
  },
  {
   "cell_type": "code",
   "execution_count": 42,
   "metadata": {},
   "outputs": [],
   "source": [
    "# _cm2 = pd.crosstab(y2_test, y2_pred, margins=True).reset_index()\n",
    "# _cm2.drop('row_0', axis=1, inplace=True)\n",
    "# _cm2.columns = [\"Predito benigno\", \"Predito maligno\", \"All\"]\n",
    "# _cm2.index = [\"Verdadeiro benigno\", \"Verdadeiro maligno\", \"All\"]\n",
    "# _cm2"
   ]
  },
  {
   "cell_type": "code",
   "execution_count": 43,
   "metadata": {},
   "outputs": [
    {
     "data": {
      "text/html": [
       "<div>\n",
       "<style scoped>\n",
       "    .dataframe tbody tr th:only-of-type {\n",
       "        vertical-align: middle;\n",
       "    }\n",
       "\n",
       "    .dataframe tbody tr th {\n",
       "        vertical-align: top;\n",
       "    }\n",
       "\n",
       "    .dataframe thead th {\n",
       "        text-align: right;\n",
       "    }\n",
       "</style>\n",
       "<table border=\"1\" class=\"dataframe\">\n",
       "  <thead>\n",
       "    <tr style=\"text-align: right;\">\n",
       "      <th></th>\n",
       "      <th>Predito benigno</th>\n",
       "      <th>Predito maligno</th>\n",
       "    </tr>\n",
       "  </thead>\n",
       "  <tbody>\n",
       "    <tr>\n",
       "      <th>Verdadeiro benigno</th>\n",
       "      <td>88</td>\n",
       "      <td>1</td>\n",
       "    </tr>\n",
       "    <tr>\n",
       "      <th>Verdadeiro maligno</th>\n",
       "      <td>2</td>\n",
       "      <td>46</td>\n",
       "    </tr>\n",
       "  </tbody>\n",
       "</table>\n",
       "</div>"
      ],
      "text/plain": [
       "                    Predito benigno  Predito maligno\n",
       "Verdadeiro benigno               88                1\n",
       "Verdadeiro maligno                2               46"
      ]
     },
     "execution_count": 43,
     "metadata": {},
     "output_type": "execute_result"
    }
   ],
   "source": [
    "cm2 = pd.DataFrame(confusion_matrix(y2_test, y2_pred), \n",
    "             columns=[\"Predito benigno\",\"Predito maligno\",],\n",
    "             index  =[\"Verdadeiro benigno\", \"Verdadeiro maligno\"])\n",
    "cm2"
   ]
  },
  {
   "cell_type": "code",
   "execution_count": 44,
   "metadata": {},
   "outputs": [
    {
     "name": "stdout",
     "output_type": "stream",
     "text": [
      "{'acuracia': 0.9781021897810219, 'precisao': 0.9787234042553191, 'especificidade': 0.9787234042553191, 'sensitividade': 0.9787234042553191}\n",
      "{'acuracia': 0.9635036496350365, 'precisao': 0.9574468085106383, 'especificidade': 0.9574468085106383, 'sensitividade': 0.9574468085106383}\n"
     ]
    }
   ],
   "source": [
    "metrics2 = get_metrics(cm2)\n",
    "print(metrics2)\n",
    "print(metrics)"
   ]
  },
  {
   "cell_type": "code",
   "execution_count": 45,
   "metadata": {},
   "outputs": [
    {
     "name": "stdout",
     "output_type": "stream",
     "text": [
      "[-0.95464826] [[1.56753061 1.96522768 1.80774216]]\n"
     ]
    }
   ],
   "source": [
    "lr2.fit(X2_train, y2_train)\n",
    "print(lr2.intercept_, lr2.coef_)"
   ]
  },
  {
   "cell_type": "code",
   "execution_count": 49,
   "metadata": {},
   "outputs": [
    {
     "data": {
      "text/plain": [
       "<AxesSubplot:>"
      ]
     },
     "execution_count": 49,
     "metadata": {},
     "output_type": "execute_result"
    },
    {
     "data": {
      "image/png": "[encoded data removed]",
      "text/plain": [
       "<Figure size 432x288 with 2 Axes>"
      ]
     },
     "metadata": {
      "needs_background": "light"
     },
     "output_type": "display_data"
    }
   ],
   "source": [
    "plt.subplot(1,2,1)\n",
    "sns.heatmap(data=cm, annot=True, cbar=False)\n",
    "\n",
    "plt.subplot(1,2,2)\n",
    "sns.heatmap(data=cm2, annot=True, cbar=False)"
   ]
  }
 ],
 "metadata": {
  "interpreter": {
   "hash": "7afd59096244d97ef5c7934876c35506a498e2be4a7124990c4fad59e69abaf3"
  },
  "kernelspec": {
   "display_name": "Python 3.9.7 ('base')",
   "language": "python",
   "name": "python3"
  },
  "language_info": {
   "codemirror_mode": {
    "name": "ipython",
    "version": 3
   },
   "file_extension": ".py",
   "mimetype": "text/x-python",
   "name": "python",
   "nbconvert_exporter": "python",
   "pygments_lexer": "ipython3",
   "version": "3.9.7"
  },
  "orig_nbformat": 4
 },
 "nbformat": 4,
 "nbformat_minor": 2
}
