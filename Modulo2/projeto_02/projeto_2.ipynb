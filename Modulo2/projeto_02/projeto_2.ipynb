{
 "cells": [
  {
   "cell_type": "markdown",
   "metadata": {},
   "source": [
    "# Projeto 2 - Classificação usando dados de Cancer de Mama\n",
    "## Breast Cancer Coimbra Data Set - UCI"
   ]
  },
  {
   "cell_type": "markdown",
   "metadata": {},
   "source": [
    "## Introdução"
   ]
  },
  {
   "cell_type": "markdown",
   "metadata": {},
   "source": [
    "O conjunto de dados de Cancer Mama esta localizado na plataforma UCI no seguinte link - https://archive.ics.uci.edu/ml/datasets/Breast+Cancer+Coimbra. O objetivo deste conjunto de dados é classificar se um individuo possui ou não cancer de mama a partir destas variaveis obtidas através do exame de sangue.\n",
    "\n",
    "\n",
    "Segue a descrição das variaveis:\n",
    "- Age: idade em anos\n",
    "- BMI: indice de massa corporal (kg/m2)\n",
    "- Glucose: nivel de glicose no sangue (mg/dL)\n",
    "- Insulin: nivel de insulina no sangue (µU/mL)\n",
    "- HOMA: nivel de resistencia a insulina\n",
    "- Leptin: leptina (ng/mL)\n",
    "- Adiponectin: Adiponectina (µg/mL)\n",
    "- Resistin: Resistina (ng/mL)\n",
    "- MCP-1: nivel de proteina MCP-1 (pg/dL)\n",
    "- Classification: é classificado como 1 sem cancer (grupo controle) e 2 com cancer (grupo paciente)\n",
    "\n",
    "Para mais informações, segue o link do artigo: https://bmccancer.biomedcentral.com/articles/10.1186/s12885-017-3877-1\n",
    "\n",
    "#### referencia: \n",
    "Patrício, M., Pereira, J., Crisóstomo, J., Matafome, P., Gomes, M., Seiça, R., & Caramelo, F. (2018). Using Resistin, glucose, age and BMI to predict the presence of breast cancer. BMC Cancer, 18(1)."
   ]
  },
  {
   "cell_type": "markdown",
   "metadata": {},
   "source": [
    "# Sobre este projeto\n",
    "\n",
    "Neste projeto treine os conhecimentos aprendidos até o momento e que entenda algumas das dificuldades que pode ter quando for aplicar os mesmos. \n",
    "\n",
    "Os principais pontos que serão avaliados:\n",
    "\n",
    "- Levantamento de hipoteses\n",
    "- Manipulação de dados e criação de gráficos simples com o `Pandas`\n",
    "- Criar um modelo usando regressão logistica e justificar"
   ]
  },
  {
   "cell_type": "markdown",
   "metadata": {},
   "source": [
    "# Preparação do ambiente\n",
    "\n",
    "- Acessem o link - https://archive.ics.uci.edu/ml/machine-learning-databases/00451/dataR2.csv e faça o download do conjunto de dados."
   ]
  },
  {
   "cell_type": "code",
   "execution_count": 192,
   "metadata": {},
   "outputs": [],
   "source": [
    "import pandas as pd\n",
    "import numpy as np\n",
    "import matplotlib.pyplot as plt\n",
    "import seaborn as sns"
   ]
  },
  {
   "cell_type": "code",
   "execution_count": 193,
   "metadata": {},
   "outputs": [],
   "source": [
    "data = pd.read_csv('./dataR2.csv')"
   ]
  },
  {
   "cell_type": "code",
   "execution_count": 194,
   "metadata": {},
   "outputs": [
    {
     "data": {
      "text/html": [
       "<div>\n",
       "<style scoped>\n",
       "    .dataframe tbody tr th:only-of-type {\n",
       "        vertical-align: middle;\n",
       "    }\n",
       "\n",
       "    .dataframe tbody tr th {\n",
       "        vertical-align: top;\n",
       "    }\n",
       "\n",
       "    .dataframe thead th {\n",
       "        text-align: right;\n",
       "    }\n",
       "</style>\n",
       "<table border=\"1\" class=\"dataframe\">\n",
       "  <thead>\n",
       "    <tr style=\"text-align: right;\">\n",
       "      <th></th>\n",
       "      <th>Age</th>\n",
       "      <th>BMI</th>\n",
       "      <th>Glucose</th>\n",
       "      <th>Insulin</th>\n",
       "      <th>HOMA</th>\n",
       "      <th>Leptin</th>\n",
       "      <th>Adiponectin</th>\n",
       "      <th>Resistin</th>\n",
       "      <th>MCP.1</th>\n",
       "      <th>Classification</th>\n",
       "    </tr>\n",
       "  </thead>\n",
       "  <tbody>\n",
       "    <tr>\n",
       "      <th>0</th>\n",
       "      <td>48</td>\n",
       "      <td>23.500000</td>\n",
       "      <td>70</td>\n",
       "      <td>2.707</td>\n",
       "      <td>0.467409</td>\n",
       "      <td>8.8071</td>\n",
       "      <td>9.702400</td>\n",
       "      <td>7.99585</td>\n",
       "      <td>417.114</td>\n",
       "      <td>1</td>\n",
       "    </tr>\n",
       "    <tr>\n",
       "      <th>1</th>\n",
       "      <td>83</td>\n",
       "      <td>20.690495</td>\n",
       "      <td>92</td>\n",
       "      <td>3.115</td>\n",
       "      <td>0.706897</td>\n",
       "      <td>8.8438</td>\n",
       "      <td>5.429285</td>\n",
       "      <td>4.06405</td>\n",
       "      <td>468.786</td>\n",
       "      <td>1</td>\n",
       "    </tr>\n",
       "    <tr>\n",
       "      <th>2</th>\n",
       "      <td>82</td>\n",
       "      <td>23.124670</td>\n",
       "      <td>91</td>\n",
       "      <td>4.498</td>\n",
       "      <td>1.009651</td>\n",
       "      <td>17.9393</td>\n",
       "      <td>22.432040</td>\n",
       "      <td>9.27715</td>\n",
       "      <td>554.697</td>\n",
       "      <td>1</td>\n",
       "    </tr>\n",
       "    <tr>\n",
       "      <th>3</th>\n",
       "      <td>68</td>\n",
       "      <td>21.367521</td>\n",
       "      <td>77</td>\n",
       "      <td>3.226</td>\n",
       "      <td>0.612725</td>\n",
       "      <td>9.8827</td>\n",
       "      <td>7.169560</td>\n",
       "      <td>12.76600</td>\n",
       "      <td>928.220</td>\n",
       "      <td>1</td>\n",
       "    </tr>\n",
       "    <tr>\n",
       "      <th>4</th>\n",
       "      <td>86</td>\n",
       "      <td>21.111111</td>\n",
       "      <td>92</td>\n",
       "      <td>3.549</td>\n",
       "      <td>0.805386</td>\n",
       "      <td>6.6994</td>\n",
       "      <td>4.819240</td>\n",
       "      <td>10.57635</td>\n",
       "      <td>773.920</td>\n",
       "      <td>1</td>\n",
       "    </tr>\n",
       "  </tbody>\n",
       "</table>\n",
       "</div>"
      ],
      "text/plain": [
       "   Age        BMI  Glucose  Insulin      HOMA   Leptin  Adiponectin  Resistin  \\\n",
       "0   48  23.500000       70    2.707  0.467409   8.8071     9.702400   7.99585   \n",
       "1   83  20.690495       92    3.115  0.706897   8.8438     5.429285   4.06405   \n",
       "2   82  23.124670       91    4.498  1.009651  17.9393    22.432040   9.27715   \n",
       "3   68  21.367521       77    3.226  0.612725   9.8827     7.169560  12.76600   \n",
       "4   86  21.111111       92    3.549  0.805386   6.6994     4.819240  10.57635   \n",
       "\n",
       "     MCP.1  Classification  \n",
       "0  417.114               1  \n",
       "1  468.786               1  \n",
       "2  554.697               1  \n",
       "3  928.220               1  \n",
       "4  773.920               1  "
      ]
     },
     "execution_count": 194,
     "metadata": {},
     "output_type": "execute_result"
    }
   ],
   "source": [
    "data.head()"
   ]
  },
  {
   "cell_type": "code",
   "execution_count": 195,
   "metadata": {},
   "outputs": [
    {
     "data": {
      "text/html": [
       "<div>\n",
       "<style scoped>\n",
       "    .dataframe tbody tr th:only-of-type {\n",
       "        vertical-align: middle;\n",
       "    }\n",
       "\n",
       "    .dataframe tbody tr th {\n",
       "        vertical-align: top;\n",
       "    }\n",
       "\n",
       "    .dataframe thead th {\n",
       "        text-align: right;\n",
       "    }\n",
       "</style>\n",
       "<table border=\"1\" class=\"dataframe\">\n",
       "  <thead>\n",
       "    <tr style=\"text-align: right;\">\n",
       "      <th></th>\n",
       "      <th>Age</th>\n",
       "      <th>BMI</th>\n",
       "      <th>Glucose</th>\n",
       "      <th>Insulin</th>\n",
       "      <th>HOMA</th>\n",
       "      <th>Leptin</th>\n",
       "      <th>Adiponectin</th>\n",
       "      <th>Resistin</th>\n",
       "      <th>MCP.1</th>\n",
       "      <th>Classification</th>\n",
       "    </tr>\n",
       "  </thead>\n",
       "  <tbody>\n",
       "    <tr>\n",
       "      <th>113</th>\n",
       "      <td>65</td>\n",
       "      <td>32.05</td>\n",
       "      <td>97</td>\n",
       "      <td>5.73</td>\n",
       "      <td>1.370998</td>\n",
       "      <td>61.48</td>\n",
       "      <td>22.54</td>\n",
       "      <td>10.33</td>\n",
       "      <td>314.05</td>\n",
       "      <td>2</td>\n",
       "    </tr>\n",
       "    <tr>\n",
       "      <th>114</th>\n",
       "      <td>72</td>\n",
       "      <td>25.59</td>\n",
       "      <td>82</td>\n",
       "      <td>2.82</td>\n",
       "      <td>0.570392</td>\n",
       "      <td>24.96</td>\n",
       "      <td>33.75</td>\n",
       "      <td>3.27</td>\n",
       "      <td>392.46</td>\n",
       "      <td>2</td>\n",
       "    </tr>\n",
       "    <tr>\n",
       "      <th>115</th>\n",
       "      <td>86</td>\n",
       "      <td>27.18</td>\n",
       "      <td>138</td>\n",
       "      <td>19.91</td>\n",
       "      <td>6.777364</td>\n",
       "      <td>90.28</td>\n",
       "      <td>14.11</td>\n",
       "      <td>4.35</td>\n",
       "      <td>90.09</td>\n",
       "      <td>2</td>\n",
       "    </tr>\n",
       "  </tbody>\n",
       "</table>\n",
       "</div>"
      ],
      "text/plain": [
       "     Age    BMI  Glucose  Insulin      HOMA  Leptin  Adiponectin  Resistin  \\\n",
       "113   65  32.05       97     5.73  1.370998   61.48        22.54     10.33   \n",
       "114   72  25.59       82     2.82  0.570392   24.96        33.75      3.27   \n",
       "115   86  27.18      138    19.91  6.777364   90.28        14.11      4.35   \n",
       "\n",
       "      MCP.1  Classification  \n",
       "113  314.05               2  \n",
       "114  392.46               2  \n",
       "115   90.09               2  "
      ]
     },
     "execution_count": 195,
     "metadata": {},
     "output_type": "execute_result"
    }
   ],
   "source": [
    "data.tail(3)"
   ]
  },
  {
   "cell_type": "code",
   "execution_count": 196,
   "metadata": {},
   "outputs": [],
   "source": [
    "data['Classification'] = data['Classification'].apply(lambda x: 'Negativo' if x==1 else 'Positivo')"
   ]
  },
  {
   "cell_type": "code",
   "execution_count": 197,
   "metadata": {},
   "outputs": [
    {
     "data": {
      "text/html": [
       "<div>\n",
       "<style scoped>\n",
       "    .dataframe tbody tr th:only-of-type {\n",
       "        vertical-align: middle;\n",
       "    }\n",
       "\n",
       "    .dataframe tbody tr th {\n",
       "        vertical-align: top;\n",
       "    }\n",
       "\n",
       "    .dataframe thead th {\n",
       "        text-align: right;\n",
       "    }\n",
       "</style>\n",
       "<table border=\"1\" class=\"dataframe\">\n",
       "  <thead>\n",
       "    <tr style=\"text-align: right;\">\n",
       "      <th></th>\n",
       "      <th>Age</th>\n",
       "      <th>BMI</th>\n",
       "      <th>Glucose</th>\n",
       "      <th>Insulin</th>\n",
       "      <th>HOMA</th>\n",
       "      <th>Leptin</th>\n",
       "      <th>Adiponectin</th>\n",
       "      <th>Resistin</th>\n",
       "      <th>MCP.1</th>\n",
       "      <th>Classification</th>\n",
       "    </tr>\n",
       "  </thead>\n",
       "  <tbody>\n",
       "    <tr>\n",
       "      <th>111</th>\n",
       "      <td>45</td>\n",
       "      <td>26.85</td>\n",
       "      <td>92</td>\n",
       "      <td>3.33</td>\n",
       "      <td>0.755688</td>\n",
       "      <td>54.68</td>\n",
       "      <td>12.10</td>\n",
       "      <td>10.96</td>\n",
       "      <td>268.23</td>\n",
       "      <td>Positivo</td>\n",
       "    </tr>\n",
       "    <tr>\n",
       "      <th>112</th>\n",
       "      <td>62</td>\n",
       "      <td>26.84</td>\n",
       "      <td>100</td>\n",
       "      <td>4.53</td>\n",
       "      <td>1.117400</td>\n",
       "      <td>12.45</td>\n",
       "      <td>21.42</td>\n",
       "      <td>7.32</td>\n",
       "      <td>330.16</td>\n",
       "      <td>Positivo</td>\n",
       "    </tr>\n",
       "    <tr>\n",
       "      <th>113</th>\n",
       "      <td>65</td>\n",
       "      <td>32.05</td>\n",
       "      <td>97</td>\n",
       "      <td>5.73</td>\n",
       "      <td>1.370998</td>\n",
       "      <td>61.48</td>\n",
       "      <td>22.54</td>\n",
       "      <td>10.33</td>\n",
       "      <td>314.05</td>\n",
       "      <td>Positivo</td>\n",
       "    </tr>\n",
       "    <tr>\n",
       "      <th>114</th>\n",
       "      <td>72</td>\n",
       "      <td>25.59</td>\n",
       "      <td>82</td>\n",
       "      <td>2.82</td>\n",
       "      <td>0.570392</td>\n",
       "      <td>24.96</td>\n",
       "      <td>33.75</td>\n",
       "      <td>3.27</td>\n",
       "      <td>392.46</td>\n",
       "      <td>Positivo</td>\n",
       "    </tr>\n",
       "    <tr>\n",
       "      <th>115</th>\n",
       "      <td>86</td>\n",
       "      <td>27.18</td>\n",
       "      <td>138</td>\n",
       "      <td>19.91</td>\n",
       "      <td>6.777364</td>\n",
       "      <td>90.28</td>\n",
       "      <td>14.11</td>\n",
       "      <td>4.35</td>\n",
       "      <td>90.09</td>\n",
       "      <td>Positivo</td>\n",
       "    </tr>\n",
       "  </tbody>\n",
       "</table>\n",
       "</div>"
      ],
      "text/plain": [
       "     Age    BMI  Glucose  Insulin      HOMA  Leptin  Adiponectin  Resistin  \\\n",
       "111   45  26.85       92     3.33  0.755688   54.68        12.10     10.96   \n",
       "112   62  26.84      100     4.53  1.117400   12.45        21.42      7.32   \n",
       "113   65  32.05       97     5.73  1.370998   61.48        22.54     10.33   \n",
       "114   72  25.59       82     2.82  0.570392   24.96        33.75      3.27   \n",
       "115   86  27.18      138    19.91  6.777364   90.28        14.11      4.35   \n",
       "\n",
       "      MCP.1 Classification  \n",
       "111  268.23       Positivo  \n",
       "112  330.16       Positivo  \n",
       "113  314.05       Positivo  \n",
       "114  392.46       Positivo  \n",
       "115   90.09       Positivo  "
      ]
     },
     "execution_count": 197,
     "metadata": {},
     "output_type": "execute_result"
    }
   ],
   "source": [
    "data.tail()"
   ]
  },
  {
   "cell_type": "code",
   "execution_count": 198,
   "metadata": {},
   "outputs": [],
   "source": [
    "data.rename({\n",
    "        'Age': 'Idade', \n",
    "        'BMI': 'IMC', \n",
    "        'Glucose': 'Glicose', \n",
    "        'Insulin': 'Insulina', \n",
    "        'HOMA': 'Res_Insulina', \n",
    "        'Leptin': 'Leptina', \n",
    "        'Adiponectin': 'Adiponectina',\n",
    "        'Resistin': 'Resistina',\n",
    "        'Classification': 'Diagnóstico'\n",
    "    }, axis=1, inplace=True)"
   ]
  },
  {
   "cell_type": "code",
   "execution_count": 199,
   "metadata": {},
   "outputs": [
    {
     "data": {
      "text/html": [
       "<div>\n",
       "<style scoped>\n",
       "    .dataframe tbody tr th:only-of-type {\n",
       "        vertical-align: middle;\n",
       "    }\n",
       "\n",
       "    .dataframe tbody tr th {\n",
       "        vertical-align: top;\n",
       "    }\n",
       "\n",
       "    .dataframe thead th {\n",
       "        text-align: right;\n",
       "    }\n",
       "</style>\n",
       "<table border=\"1\" class=\"dataframe\">\n",
       "  <thead>\n",
       "    <tr style=\"text-align: right;\">\n",
       "      <th></th>\n",
       "      <th>Idade</th>\n",
       "      <th>IMC</th>\n",
       "      <th>Glicose</th>\n",
       "      <th>Insulina</th>\n",
       "      <th>Res_Insulina</th>\n",
       "      <th>Leptina</th>\n",
       "      <th>Adiponectina</th>\n",
       "      <th>Resistina</th>\n",
       "      <th>MCP.1</th>\n",
       "      <th>Diagnóstico</th>\n",
       "    </tr>\n",
       "  </thead>\n",
       "  <tbody>\n",
       "    <tr>\n",
       "      <th>0</th>\n",
       "      <td>48</td>\n",
       "      <td>23.500000</td>\n",
       "      <td>70</td>\n",
       "      <td>2.707</td>\n",
       "      <td>0.467409</td>\n",
       "      <td>8.8071</td>\n",
       "      <td>9.702400</td>\n",
       "      <td>7.99585</td>\n",
       "      <td>417.114</td>\n",
       "      <td>Negativo</td>\n",
       "    </tr>\n",
       "    <tr>\n",
       "      <th>1</th>\n",
       "      <td>83</td>\n",
       "      <td>20.690495</td>\n",
       "      <td>92</td>\n",
       "      <td>3.115</td>\n",
       "      <td>0.706897</td>\n",
       "      <td>8.8438</td>\n",
       "      <td>5.429285</td>\n",
       "      <td>4.06405</td>\n",
       "      <td>468.786</td>\n",
       "      <td>Negativo</td>\n",
       "    </tr>\n",
       "    <tr>\n",
       "      <th>2</th>\n",
       "      <td>82</td>\n",
       "      <td>23.124670</td>\n",
       "      <td>91</td>\n",
       "      <td>4.498</td>\n",
       "      <td>1.009651</td>\n",
       "      <td>17.9393</td>\n",
       "      <td>22.432040</td>\n",
       "      <td>9.27715</td>\n",
       "      <td>554.697</td>\n",
       "      <td>Negativo</td>\n",
       "    </tr>\n",
       "    <tr>\n",
       "      <th>3</th>\n",
       "      <td>68</td>\n",
       "      <td>21.367521</td>\n",
       "      <td>77</td>\n",
       "      <td>3.226</td>\n",
       "      <td>0.612725</td>\n",
       "      <td>9.8827</td>\n",
       "      <td>7.169560</td>\n",
       "      <td>12.76600</td>\n",
       "      <td>928.220</td>\n",
       "      <td>Negativo</td>\n",
       "    </tr>\n",
       "    <tr>\n",
       "      <th>4</th>\n",
       "      <td>86</td>\n",
       "      <td>21.111111</td>\n",
       "      <td>92</td>\n",
       "      <td>3.549</td>\n",
       "      <td>0.805386</td>\n",
       "      <td>6.6994</td>\n",
       "      <td>4.819240</td>\n",
       "      <td>10.57635</td>\n",
       "      <td>773.920</td>\n",
       "      <td>Negativo</td>\n",
       "    </tr>\n",
       "  </tbody>\n",
       "</table>\n",
       "</div>"
      ],
      "text/plain": [
       "   Idade        IMC  Glicose  Insulina  Res_Insulina  Leptina  Adiponectina  \\\n",
       "0     48  23.500000       70     2.707      0.467409   8.8071      9.702400   \n",
       "1     83  20.690495       92     3.115      0.706897   8.8438      5.429285   \n",
       "2     82  23.124670       91     4.498      1.009651  17.9393     22.432040   \n",
       "3     68  21.367521       77     3.226      0.612725   9.8827      7.169560   \n",
       "4     86  21.111111       92     3.549      0.805386   6.6994      4.819240   \n",
       "\n",
       "   Resistina    MCP.1 Diagnóstico  \n",
       "0    7.99585  417.114    Negativo  \n",
       "1    4.06405  468.786    Negativo  \n",
       "2    9.27715  554.697    Negativo  \n",
       "3   12.76600  928.220    Negativo  \n",
       "4   10.57635  773.920    Negativo  "
      ]
     },
     "execution_count": 199,
     "metadata": {},
     "output_type": "execute_result"
    }
   ],
   "source": [
    "data.head()"
   ]
  },
  {
   "cell_type": "code",
   "execution_count": 200,
   "metadata": {},
   "outputs": [
    {
     "name": "stdout",
     "output_type": "stream",
     "text": [
      "<class 'pandas.core.frame.DataFrame'>\n",
      "RangeIndex: 116 entries, 0 to 115\n",
      "Data columns (total 10 columns):\n",
      " #   Column        Non-Null Count  Dtype  \n",
      "---  ------        --------------  -----  \n",
      " 0   Idade         116 non-null    int64  \n",
      " 1   IMC           116 non-null    float64\n",
      " 2   Glicose       116 non-null    int64  \n",
      " 3   Insulina      116 non-null    float64\n",
      " 4   Res_Insulina  116 non-null    float64\n",
      " 5   Leptina       116 non-null    float64\n",
      " 6   Adiponectina  116 non-null    float64\n",
      " 7   Resistina     116 non-null    float64\n",
      " 8   MCP.1         116 non-null    float64\n",
      " 9   Diagnóstico   116 non-null    object \n",
      "dtypes: float64(7), int64(2), object(1)\n",
      "memory usage: 9.2+ KB\n"
     ]
    }
   ],
   "source": [
    "data.info()"
   ]
  },
  {
   "cell_type": "code",
   "execution_count": 202,
   "metadata": {},
   "outputs": [
    {
     "data": {
      "text/html": [
       "<div>\n",
       "<style scoped>\n",
       "    .dataframe tbody tr th:only-of-type {\n",
       "        vertical-align: middle;\n",
       "    }\n",
       "\n",
       "    .dataframe tbody tr th {\n",
       "        vertical-align: top;\n",
       "    }\n",
       "\n",
       "    .dataframe thead th {\n",
       "        text-align: right;\n",
       "    }\n",
       "</style>\n",
       "<table border=\"1\" class=\"dataframe\">\n",
       "  <thead>\n",
       "    <tr style=\"text-align: right;\">\n",
       "      <th></th>\n",
       "      <th>Idade</th>\n",
       "      <th>IMC</th>\n",
       "      <th>Glicose</th>\n",
       "      <th>Insulina</th>\n",
       "      <th>Res_Insulina</th>\n",
       "      <th>Leptina</th>\n",
       "      <th>Adiponectina</th>\n",
       "      <th>Resistina</th>\n",
       "      <th>MCP.1</th>\n",
       "    </tr>\n",
       "  </thead>\n",
       "  <tbody>\n",
       "    <tr>\n",
       "      <th>count</th>\n",
       "      <td>116.000000</td>\n",
       "      <td>116.000000</td>\n",
       "      <td>116.000000</td>\n",
       "      <td>116.000000</td>\n",
       "      <td>116.000000</td>\n",
       "      <td>116.000000</td>\n",
       "      <td>116.000000</td>\n",
       "      <td>116.000000</td>\n",
       "      <td>116.000000</td>\n",
       "    </tr>\n",
       "    <tr>\n",
       "      <th>mean</th>\n",
       "      <td>57.301724</td>\n",
       "      <td>27.582111</td>\n",
       "      <td>97.793103</td>\n",
       "      <td>10.012086</td>\n",
       "      <td>2.694988</td>\n",
       "      <td>26.615080</td>\n",
       "      <td>10.180874</td>\n",
       "      <td>14.725966</td>\n",
       "      <td>534.647000</td>\n",
       "    </tr>\n",
       "    <tr>\n",
       "      <th>std</th>\n",
       "      <td>16.112766</td>\n",
       "      <td>5.020136</td>\n",
       "      <td>22.525162</td>\n",
       "      <td>10.067768</td>\n",
       "      <td>3.642043</td>\n",
       "      <td>19.183294</td>\n",
       "      <td>6.843341</td>\n",
       "      <td>12.390646</td>\n",
       "      <td>345.912663</td>\n",
       "    </tr>\n",
       "    <tr>\n",
       "      <th>min</th>\n",
       "      <td>24.000000</td>\n",
       "      <td>18.370000</td>\n",
       "      <td>60.000000</td>\n",
       "      <td>2.432000</td>\n",
       "      <td>0.467409</td>\n",
       "      <td>4.311000</td>\n",
       "      <td>1.656020</td>\n",
       "      <td>3.210000</td>\n",
       "      <td>45.843000</td>\n",
       "    </tr>\n",
       "    <tr>\n",
       "      <th>25%</th>\n",
       "      <td>45.000000</td>\n",
       "      <td>22.973205</td>\n",
       "      <td>85.750000</td>\n",
       "      <td>4.359250</td>\n",
       "      <td>0.917966</td>\n",
       "      <td>12.313675</td>\n",
       "      <td>5.474283</td>\n",
       "      <td>6.881763</td>\n",
       "      <td>269.978250</td>\n",
       "    </tr>\n",
       "    <tr>\n",
       "      <th>50%</th>\n",
       "      <td>56.000000</td>\n",
       "      <td>27.662416</td>\n",
       "      <td>92.000000</td>\n",
       "      <td>5.924500</td>\n",
       "      <td>1.380939</td>\n",
       "      <td>20.271000</td>\n",
       "      <td>8.352692</td>\n",
       "      <td>10.827740</td>\n",
       "      <td>471.322500</td>\n",
       "    </tr>\n",
       "    <tr>\n",
       "      <th>75%</th>\n",
       "      <td>71.000000</td>\n",
       "      <td>31.241442</td>\n",
       "      <td>102.000000</td>\n",
       "      <td>11.189250</td>\n",
       "      <td>2.857787</td>\n",
       "      <td>37.378300</td>\n",
       "      <td>11.815970</td>\n",
       "      <td>17.755207</td>\n",
       "      <td>700.085000</td>\n",
       "    </tr>\n",
       "    <tr>\n",
       "      <th>max</th>\n",
       "      <td>89.000000</td>\n",
       "      <td>38.578759</td>\n",
       "      <td>201.000000</td>\n",
       "      <td>58.460000</td>\n",
       "      <td>25.050342</td>\n",
       "      <td>90.280000</td>\n",
       "      <td>38.040000</td>\n",
       "      <td>82.100000</td>\n",
       "      <td>1698.440000</td>\n",
       "    </tr>\n",
       "  </tbody>\n",
       "</table>\n",
       "</div>"
      ],
      "text/plain": [
       "            Idade         IMC     Glicose    Insulina  Res_Insulina  \\\n",
       "count  116.000000  116.000000  116.000000  116.000000    116.000000   \n",
       "mean    57.301724   27.582111   97.793103   10.012086      2.694988   \n",
       "std     16.112766    5.020136   22.525162   10.067768      3.642043   \n",
       "min     24.000000   18.370000   60.000000    2.432000      0.467409   \n",
       "25%     45.000000   22.973205   85.750000    4.359250      0.917966   \n",
       "50%     56.000000   27.662416   92.000000    5.924500      1.380939   \n",
       "75%     71.000000   31.241442  102.000000   11.189250      2.857787   \n",
       "max     89.000000   38.578759  201.000000   58.460000     25.050342   \n",
       "\n",
       "          Leptina  Adiponectina   Resistina        MCP.1  \n",
       "count  116.000000    116.000000  116.000000   116.000000  \n",
       "mean    26.615080     10.180874   14.725966   534.647000  \n",
       "std     19.183294      6.843341   12.390646   345.912663  \n",
       "min      4.311000      1.656020    3.210000    45.843000  \n",
       "25%     12.313675      5.474283    6.881763   269.978250  \n",
       "50%     20.271000      8.352692   10.827740   471.322500  \n",
       "75%     37.378300     11.815970   17.755207   700.085000  \n",
       "max     90.280000     38.040000   82.100000  1698.440000  "
      ]
     },
     "execution_count": 202,
     "metadata": {},
     "output_type": "execute_result"
    }
   ],
   "source": [
    "data.describe()"
   ]
  },
  {
   "cell_type": "markdown",
   "metadata": {},
   "source": [
    "# Exercicio 1. (2.0 pontos)\n",
    "\n",
    "Escreva em até quatro frases, uma breve apresentação sobre suas ideias do conjunto de dados e adicione qualquer contexto que possa ajudar os leitores a entendê-la."
   ]
  },
  {
   "cell_type": "markdown",
   "metadata": {},
   "source": [
    "**RESPOSTA** (VALE 2.0 pontos): (responda aqui, dê dois cliques para editar. Esta célula de texto esta escrito em Markdown, para renderizar o texto execute a célula com **Shift+Enter**)\n",
    "\n",
    "O conjunto de dados apresenta parâmetros cuja obtenção pode ser feita por um simples exame de sangue. Pesquisando sobre as variáveis, descobre-se que são parâmetros de disturbio metabólico que podem ou não ser relacionadas direta ou indiretamente à diabetes. Considerando que diabetes "
   ]
  },
  {
   "cell_type": "markdown",
   "metadata": {},
   "source": [
    "# Exercicio 2. (3.0 pontos)\n",
    "\n",
    "Explore seu conjunto de dados e crie uma história em torno deles! Pense sobre o objetivo que deseja transmitir para seus leitores."
   ]
  },
  {
   "cell_type": "markdown",
   "metadata": {},
   "source": [
    "**RESPOSTA** (VALE 0.6 pontos): (responda aqui, dê dois cliques para editar)"
   ]
  },
  {
   "cell_type": "markdown",
   "metadata": {},
   "source": [
    "Você precisa criar uma visualização explicativa, ajudando o leitor a identificar uma ou mais ideias-chave no conjunto de dados. Assim, qual visualização você acha interessante destacar?"
   ]
  },
  {
   "cell_type": "code",
   "execution_count": 203,
   "metadata": {},
   "outputs": [
    {
     "data": {
      "text/plain": [
       "count    116.000000\n",
       "mean      97.793103\n",
       "std       22.525162\n",
       "min       60.000000\n",
       "25%       85.750000\n",
       "50%       92.000000\n",
       "75%      102.000000\n",
       "max      201.000000\n",
       "Name: Glicose, dtype: float64"
      ]
     },
     "execution_count": 203,
     "metadata": {},
     "output_type": "execute_result"
    }
   ],
   "source": [
    "#### VALE 0.6 pontos\n",
    "#### CONSTRUA OS SEUS GRAFICOS ABAIXO, USE MAIS CELULAS SE NECESSARIO\n",
    "data['Glicose'].describe()"
   ]
  },
  {
   "cell_type": "code",
   "execution_count": 204,
   "metadata": {},
   "outputs": [],
   "source": [
    "def is_diabetic(x):\n",
    "    if x >= 126:\n",
    "        return 'Diabético'\n",
    "    elif 100 <= x <= 125:\n",
    "        return 'Pré-Diabético'\n",
    "    elif x < 100:\n",
    "        return 'Normal'"
   ]
  },
  {
   "cell_type": "code",
   "execution_count": 205,
   "metadata": {},
   "outputs": [],
   "source": [
    "data['diabetes'] = data['Glicose'].apply(is_diabetic)"
   ]
  },
  {
   "cell_type": "code",
   "execution_count": 206,
   "metadata": {},
   "outputs": [
    {
     "data": {
      "text/html": [
       "<div>\n",
       "<style scoped>\n",
       "    .dataframe tbody tr th:only-of-type {\n",
       "        vertical-align: middle;\n",
       "    }\n",
       "\n",
       "    .dataframe tbody tr th {\n",
       "        vertical-align: top;\n",
       "    }\n",
       "\n",
       "    .dataframe thead th {\n",
       "        text-align: right;\n",
       "    }\n",
       "</style>\n",
       "<table border=\"1\" class=\"dataframe\">\n",
       "  <thead>\n",
       "    <tr style=\"text-align: right;\">\n",
       "      <th></th>\n",
       "      <th>Idade</th>\n",
       "      <th>IMC</th>\n",
       "      <th>Glicose</th>\n",
       "      <th>Insulina</th>\n",
       "      <th>Res_Insulina</th>\n",
       "      <th>Leptina</th>\n",
       "      <th>Adiponectina</th>\n",
       "      <th>Resistina</th>\n",
       "      <th>MCP.1</th>\n",
       "      <th>Diagnóstico</th>\n",
       "      <th>diabetes</th>\n",
       "    </tr>\n",
       "  </thead>\n",
       "  <tbody>\n",
       "    <tr>\n",
       "      <th>0</th>\n",
       "      <td>48</td>\n",
       "      <td>23.500000</td>\n",
       "      <td>70</td>\n",
       "      <td>2.707</td>\n",
       "      <td>0.467409</td>\n",
       "      <td>8.8071</td>\n",
       "      <td>9.702400</td>\n",
       "      <td>7.99585</td>\n",
       "      <td>417.114</td>\n",
       "      <td>Negativo</td>\n",
       "      <td>Normal</td>\n",
       "    </tr>\n",
       "    <tr>\n",
       "      <th>1</th>\n",
       "      <td>83</td>\n",
       "      <td>20.690495</td>\n",
       "      <td>92</td>\n",
       "      <td>3.115</td>\n",
       "      <td>0.706897</td>\n",
       "      <td>8.8438</td>\n",
       "      <td>5.429285</td>\n",
       "      <td>4.06405</td>\n",
       "      <td>468.786</td>\n",
       "      <td>Negativo</td>\n",
       "      <td>Normal</td>\n",
       "    </tr>\n",
       "    <tr>\n",
       "      <th>2</th>\n",
       "      <td>82</td>\n",
       "      <td>23.124670</td>\n",
       "      <td>91</td>\n",
       "      <td>4.498</td>\n",
       "      <td>1.009651</td>\n",
       "      <td>17.9393</td>\n",
       "      <td>22.432040</td>\n",
       "      <td>9.27715</td>\n",
       "      <td>554.697</td>\n",
       "      <td>Negativo</td>\n",
       "      <td>Normal</td>\n",
       "    </tr>\n",
       "    <tr>\n",
       "      <th>3</th>\n",
       "      <td>68</td>\n",
       "      <td>21.367521</td>\n",
       "      <td>77</td>\n",
       "      <td>3.226</td>\n",
       "      <td>0.612725</td>\n",
       "      <td>9.8827</td>\n",
       "      <td>7.169560</td>\n",
       "      <td>12.76600</td>\n",
       "      <td>928.220</td>\n",
       "      <td>Negativo</td>\n",
       "      <td>Normal</td>\n",
       "    </tr>\n",
       "    <tr>\n",
       "      <th>4</th>\n",
       "      <td>86</td>\n",
       "      <td>21.111111</td>\n",
       "      <td>92</td>\n",
       "      <td>3.549</td>\n",
       "      <td>0.805386</td>\n",
       "      <td>6.6994</td>\n",
       "      <td>4.819240</td>\n",
       "      <td>10.57635</td>\n",
       "      <td>773.920</td>\n",
       "      <td>Negativo</td>\n",
       "      <td>Normal</td>\n",
       "    </tr>\n",
       "  </tbody>\n",
       "</table>\n",
       "</div>"
      ],
      "text/plain": [
       "   Idade        IMC  Glicose  Insulina  Res_Insulina  Leptina  Adiponectina  \\\n",
       "0     48  23.500000       70     2.707      0.467409   8.8071      9.702400   \n",
       "1     83  20.690495       92     3.115      0.706897   8.8438      5.429285   \n",
       "2     82  23.124670       91     4.498      1.009651  17.9393     22.432040   \n",
       "3     68  21.367521       77     3.226      0.612725   9.8827      7.169560   \n",
       "4     86  21.111111       92     3.549      0.805386   6.6994      4.819240   \n",
       "\n",
       "   Resistina    MCP.1 Diagnóstico diabetes  \n",
       "0    7.99585  417.114    Negativo   Normal  \n",
       "1    4.06405  468.786    Negativo   Normal  \n",
       "2    9.27715  554.697    Negativo   Normal  \n",
       "3   12.76600  928.220    Negativo   Normal  \n",
       "4   10.57635  773.920    Negativo   Normal  "
      ]
     },
     "execution_count": 206,
     "metadata": {},
     "output_type": "execute_result"
    }
   ],
   "source": [
    "data.head()"
   ]
  },
  {
   "cell_type": "code",
   "execution_count": 207,
   "metadata": {},
   "outputs": [
    {
     "data": {
      "text/html": [
       "<div>\n",
       "<style scoped>\n",
       "    .dataframe tbody tr th:only-of-type {\n",
       "        vertical-align: middle;\n",
       "    }\n",
       "\n",
       "    .dataframe tbody tr th {\n",
       "        vertical-align: top;\n",
       "    }\n",
       "\n",
       "    .dataframe thead th {\n",
       "        text-align: right;\n",
       "    }\n",
       "</style>\n",
       "<table border=\"1\" class=\"dataframe\">\n",
       "  <thead>\n",
       "    <tr style=\"text-align: right;\">\n",
       "      <th>Diagnóstico</th>\n",
       "      <th>Negativo</th>\n",
       "      <th>Positivo</th>\n",
       "      <th>All</th>\n",
       "    </tr>\n",
       "    <tr>\n",
       "      <th>diabetes</th>\n",
       "      <th></th>\n",
       "      <th></th>\n",
       "      <th></th>\n",
       "    </tr>\n",
       "  </thead>\n",
       "  <tbody>\n",
       "    <tr>\n",
       "      <th>Diabético</th>\n",
       "      <td>0</td>\n",
       "      <td>11</td>\n",
       "      <td>11</td>\n",
       "    </tr>\n",
       "    <tr>\n",
       "      <th>Normal</th>\n",
       "      <td>44</td>\n",
       "      <td>34</td>\n",
       "      <td>78</td>\n",
       "    </tr>\n",
       "    <tr>\n",
       "      <th>Pré-Diabético</th>\n",
       "      <td>8</td>\n",
       "      <td>19</td>\n",
       "      <td>27</td>\n",
       "    </tr>\n",
       "    <tr>\n",
       "      <th>All</th>\n",
       "      <td>52</td>\n",
       "      <td>64</td>\n",
       "      <td>116</td>\n",
       "    </tr>\n",
       "  </tbody>\n",
       "</table>\n",
       "</div>"
      ],
      "text/plain": [
       "Diagnóstico    Negativo  Positivo  All\n",
       "diabetes                              \n",
       "Diabético             0        11   11\n",
       "Normal               44        34   78\n",
       "Pré-Diabético         8        19   27\n",
       "All                  52        64  116"
      ]
     },
     "execution_count": 207,
     "metadata": {},
     "output_type": "execute_result"
    }
   ],
   "source": [
    "pd.crosstab(data['diabetes'], data['Diagnóstico'], margins=True)"
   ]
  },
  {
   "cell_type": "code",
   "execution_count": 208,
   "metadata": {},
   "outputs": [],
   "source": [
    " df_diabetes_classificacao = pd.crosstab(data['diabetes'], data['Diagnóstico'] )"
   ]
  },
  {
   "cell_type": "code",
   "execution_count": 213,
   "metadata": {},
   "outputs": [],
   "source": [
    "df_diabetes_classificacao = df_diabetes_classificacao.reindex([\"Normal\", \"Pré-Diabético\", \"Diabético\"])"
   ]
  },
  {
   "cell_type": "code",
   "execution_count": 214,
   "metadata": {},
   "outputs": [
    {
     "data": {
      "text/html": [
       "<div>\n",
       "<style scoped>\n",
       "    .dataframe tbody tr th:only-of-type {\n",
       "        vertical-align: middle;\n",
       "    }\n",
       "\n",
       "    .dataframe tbody tr th {\n",
       "        vertical-align: top;\n",
       "    }\n",
       "\n",
       "    .dataframe thead th {\n",
       "        text-align: right;\n",
       "    }\n",
       "</style>\n",
       "<table border=\"1\" class=\"dataframe\">\n",
       "  <thead>\n",
       "    <tr style=\"text-align: right;\">\n",
       "      <th>Diagnóstico</th>\n",
       "      <th>Negativo</th>\n",
       "      <th>Positivo</th>\n",
       "    </tr>\n",
       "    <tr>\n",
       "      <th>diabetes</th>\n",
       "      <th></th>\n",
       "      <th></th>\n",
       "    </tr>\n",
       "  </thead>\n",
       "  <tbody>\n",
       "    <tr>\n",
       "      <th>Normal</th>\n",
       "      <td>44</td>\n",
       "      <td>34</td>\n",
       "    </tr>\n",
       "    <tr>\n",
       "      <th>Pré-Diabético</th>\n",
       "      <td>8</td>\n",
       "      <td>19</td>\n",
       "    </tr>\n",
       "    <tr>\n",
       "      <th>Diabético</th>\n",
       "      <td>0</td>\n",
       "      <td>11</td>\n",
       "    </tr>\n",
       "  </tbody>\n",
       "</table>\n",
       "</div>"
      ],
      "text/plain": [
       "Diagnóstico    Negativo  Positivo\n",
       "diabetes                         \n",
       "Normal               44        34\n",
       "Pré-Diabético         8        19\n",
       "Diabético             0        11"
      ]
     },
     "execution_count": 214,
     "metadata": {},
     "output_type": "execute_result"
    }
   ],
   "source": [
    "df_diabetes_classificacao"
   ]
  },
  {
   "cell_type": "code",
   "execution_count": 218,
   "metadata": {},
   "outputs": [
    {
     "data": {
      "text/plain": [
       "<matplotlib.legend.Legend at 0x12e46563d60>"
      ]
     },
     "execution_count": 218,
     "metadata": {},
     "output_type": "execute_result"
    },
    {
     "data": {
      "image/png": "[encoded data removed]",
      "text/plain": [
       "<Figure size 1080x576 with 1 Axes>"
      ]
     },
     "metadata": {},
     "output_type": "display_data"
    }
   ],
   "source": [
    "df_diabetes_classificacao.plot(kind=\"bar\", stacked=True, rot=0)\n",
    "sns.set(rc = {'figure.figsize':(15,8)})\n",
    "plt.title('Quantidade de Pacientes x Diabetes')\n",
    "plt.xlabel('Diabetes')\n",
    "plt.ylabel('Quantidade')\n",
    "plt.legend(title='Diagnóstico', loc='upper right', labels=['Negativo', 'Positivo'])"
   ]
  },
  {
   "cell_type": "code",
   "execution_count": 13,
   "metadata": {},
   "outputs": [],
   "source": [
    "def classificate_imc(x):\n",
    "    if x <= 18.5:  # baixo peso\n",
    "        return -1  \n",
    "    elif 18.5 < x < 25:  # peso normal\n",
    "        return 0\n",
    "    elif 25 <= x < 30:  # sobrepeso\n",
    "        return 1\n",
    "    elif 30 <= x < 35:  # obesidade\n",
    "        return 2\n",
    "    elif 35 <= x < 40:  # obesidade grave\n",
    "        return 3\n",
    "    elif x >= 40:  # obesidade mórbida\n",
    "        return 4"
   ]
  },
  {
   "cell_type": "code",
   "execution_count": 14,
   "metadata": {},
   "outputs": [],
   "source": [
    "data['imc_class'] = data['IMC'].apply(classificate_imc)"
   ]
  },
  {
   "cell_type": "code",
   "execution_count": 15,
   "metadata": {},
   "outputs": [
    {
     "data": {
      "text/html": [
       "<div>\n",
       "<style scoped>\n",
       "    .dataframe tbody tr th:only-of-type {\n",
       "        vertical-align: middle;\n",
       "    }\n",
       "\n",
       "    .dataframe tbody tr th {\n",
       "        vertical-align: top;\n",
       "    }\n",
       "\n",
       "    .dataframe thead th {\n",
       "        text-align: right;\n",
       "    }\n",
       "</style>\n",
       "<table border=\"1\" class=\"dataframe\">\n",
       "  <thead>\n",
       "    <tr style=\"text-align: right;\">\n",
       "      <th>imc_class</th>\n",
       "      <th>-1</th>\n",
       "      <th>0</th>\n",
       "      <th>1</th>\n",
       "      <th>2</th>\n",
       "      <th>3</th>\n",
       "      <th>All</th>\n",
       "    </tr>\n",
       "    <tr>\n",
       "      <th>Classificação</th>\n",
       "      <th></th>\n",
       "      <th></th>\n",
       "      <th></th>\n",
       "      <th></th>\n",
       "      <th></th>\n",
       "      <th></th>\n",
       "    </tr>\n",
       "  </thead>\n",
       "  <tbody>\n",
       "    <tr>\n",
       "      <th>1</th>\n",
       "      <td>0</td>\n",
       "      <td>17</td>\n",
       "      <td>14</td>\n",
       "      <td>12</td>\n",
       "      <td>9</td>\n",
       "      <td>52</td>\n",
       "    </tr>\n",
       "    <tr>\n",
       "      <th>2</th>\n",
       "      <td>1</td>\n",
       "      <td>22</td>\n",
       "      <td>23</td>\n",
       "      <td>15</td>\n",
       "      <td>3</td>\n",
       "      <td>64</td>\n",
       "    </tr>\n",
       "    <tr>\n",
       "      <th>All</th>\n",
       "      <td>1</td>\n",
       "      <td>39</td>\n",
       "      <td>37</td>\n",
       "      <td>27</td>\n",
       "      <td>12</td>\n",
       "      <td>116</td>\n",
       "    </tr>\n",
       "  </tbody>\n",
       "</table>\n",
       "</div>"
      ],
      "text/plain": [
       "imc_class      -1   0   1   2   3  All\n",
       "Classificação                         \n",
       "1               0  17  14  12   9   52\n",
       "2               1  22  23  15   3   64\n",
       "All             1  39  37  27  12  116"
      ]
     },
     "execution_count": 15,
     "metadata": {},
     "output_type": "execute_result"
    }
   ],
   "source": [
    "df = pd.crosstab(data['Classificação'], data['imc_class'], margins=True)\n",
    "df"
   ]
  },
  {
   "cell_type": "code",
   "execution_count": 16,
   "metadata": {},
   "outputs": [
    {
     "data": {
      "text/plain": [
       "Index([-1, 0, 1, 2, 3, 'All'], dtype='object', name='imc_class')"
      ]
     },
     "execution_count": 16,
     "metadata": {},
     "output_type": "execute_result"
    }
   ],
   "source": [
    "df.columns"
   ]
  },
  {
   "cell_type": "markdown",
   "metadata": {},
   "source": [
    "Obtenha o feedback de suas ideias e de sua(s) visualização(ões), se possivel apresente esse grafico com pelo menos uma outra pessoa e questione:"
   ]
  },
  {
   "cell_type": "markdown",
   "metadata": {},
   "source": [
    "1. O que você percebe na visualização?\n",
    "2. Quais perguntas você tem sobre o conjunto de dados?\n",
    "3. Há algo que você não entende nas visualizações?"
   ]
  },
  {
   "cell_type": "markdown",
   "metadata": {},
   "source": [
    "**RESPOSTA** (VALE 0.6 pontos): (responda aqui, dê dois cliques para editar)"
   ]
  },
  {
   "cell_type": "markdown",
   "metadata": {},
   "source": [
    "Após o feedback, o que você mudaria?"
   ]
  },
  {
   "cell_type": "markdown",
   "metadata": {},
   "source": [
    "**RESPOSTA** (VALE 0.6 pontos): (responda aqui, dê dois cliques para editar)"
   ]
  },
  {
   "cell_type": "markdown",
   "metadata": {},
   "source": [
    "Apresente suas nova(s) visualização(ões) a partir do feedback:"
   ]
  },
  {
   "cell_type": "code",
   "execution_count": 17,
   "metadata": {},
   "outputs": [],
   "source": [
    "#### VALE 0.6 pontos\n",
    "#### CONSTRUA O SEU GRAFICO ABAIXO, USE MAIS CELULAS SE NECESSARIO\n",
    "\n",
    "#.\n",
    "#.\n",
    "#."
   ]
  },
  {
   "cell_type": "markdown",
   "metadata": {},
   "source": [
    "# Exercicio 3. (5.0 pontos)\n",
    "\n",
    "Construa um modelo de regressão logistica para predizer a variável **Classification** com **statsmodels.api**."
   ]
  },
  {
   "cell_type": "code",
   "execution_count": 18,
   "metadata": {},
   "outputs": [],
   "source": [
    "#### VALE 0.8 pontos\n",
    "#### EXECUTE OS COMANDOS ABAIXO, USE MAIS CELULAS SE NECESSARIO\n",
    "\n",
    "#.\n",
    "#.\n",
    "#."
   ]
  },
  {
   "cell_type": "markdown",
   "metadata": {},
   "source": [
    "Coloque abaixo a saida do seu modelo usando **seu_modelo.summary()**."
   ]
  },
  {
   "cell_type": "code",
   "execution_count": 19,
   "metadata": {},
   "outputs": [],
   "source": [
    "#### VALE 0.8 pontos\n",
    "#### EXECUTE O COMANDO ABAIXO\n",
    "\n",
    "#."
   ]
  },
  {
   "cell_type": "markdown",
   "metadata": {},
   "source": [
    "Faça outro modelo usando a biblioteca **sklearn** e usem o parametro **random_state** com valor 10."
   ]
  },
  {
   "cell_type": "code",
   "execution_count": 20,
   "metadata": {},
   "outputs": [],
   "source": [
    "#### VALE 0.8 pontos\n",
    "#### EXECUTE OS COMANDOS ABAIXO, USE MAIS CELULAS SE NECESSARIO\n",
    "\n",
    "#.\n",
    "#.\n",
    "#."
   ]
  },
  {
   "cell_type": "markdown",
   "metadata": {},
   "source": [
    "Coloque abaixo a matriz de confusão do modelo feito:"
   ]
  },
  {
   "cell_type": "code",
   "execution_count": 21,
   "metadata": {},
   "outputs": [],
   "source": [
    "#### VALE 0.8 pontos\n",
    "#### EXECUTE O COMANDO ABAIXO\n",
    "\n",
    "#."
   ]
  },
  {
   "cell_type": "markdown",
   "metadata": {},
   "source": [
    "Prencha as métricas a partir da matriz de confusão obtida (lembrando que a classe negativa é 1 - sem cancer e a classe positiva é 2 - com cancer)"
   ]
  },
  {
   "cell_type": "code",
   "execution_count": 22,
   "metadata": {},
   "outputs": [
    {
     "name": "stdout",
     "output_type": "stream",
     "text": [
      "acurácia: __\n",
      "precisão: __\n",
      "especificidade: __\n",
      "sensitividade: __\n"
     ]
    }
   ],
   "source": [
    "# VALE 0.8 pontos\n",
    "# Substitua __ pelos valores solicitados\n",
    "print('acurácia: {}'.format('__'))\n",
    "print('precisão: {}'.format('__'))\n",
    "print('especificidade: {}'.format('__'))\n",
    "print('sensitividade: {}'.format('__'))"
   ]
  },
  {
   "cell_type": "markdown",
   "metadata": {},
   "source": [
    "Observando a matriz de confusão, o seu modelo tende a obter mais erros do tipo I ou do tipo II?"
   ]
  },
  {
   "cell_type": "markdown",
   "metadata": {},
   "source": [
    "**RESPOSTA** (VALE 1.0 ponto): (responda aqui, dê dois cliques para editar)"
   ]
  }
 ],
 "metadata": {
  "kernelspec": {
   "display_name": "Python 3 (ipykernel)",
   "language": "python",
   "name": "python3"
  },
  "language_info": {
   "codemirror_mode": {
    "name": "ipython",
    "version": 3
   },
   "file_extension": ".py",
   "mimetype": "text/x-python",
   "name": "python",
   "nbconvert_exporter": "python",
   "pygments_lexer": "ipython3",
   "version": "3.9.6"
  }
 },
 "nbformat": 4,
 "nbformat_minor": 4
}
