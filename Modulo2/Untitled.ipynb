{
 "cells": [
  {
   "cell_type": "code",
   "execution_count": 1,
   "id": "6615c8d1-d4bc-4664-88ec-27d528cb73bf",
   "metadata": {},
   "outputs": [],
   "source": [
    "import statsmodels.api as sm\n",
    "import pandas as pd\n",
    "import matplotlib as plt\n",
    "import numpy as np\n",
    "\n",
    "ppm         = [52, 56, 69, 58, 61, 65, 51, 63, 63, 67]\n",
    "temperatura = [23.33, 25.0, 20.56, 22.78, 22.22, 21.67, 24.44, 22.78, 23.33, 22.22]\n",
    "umidade     = [51, 45, 42, 45, 45, 47, 41, 48, 44, 45]\n",
    "\n",
    "data = pd.DataFrame([temperatura, umidade, ppm]).T\n",
    "data.columns = ['temperatura', 'umidade', 'ppm']"
   ]
  },
  {
   "cell_type": "code",
   "execution_count": 2,
   "id": "f88c48d1-0c7d-4983-8425-cb5392e0b1a8",
   "metadata": {},
   "outputs": [
    {
     "name": "stderr",
     "output_type": "stream",
     "text": [
      "C:\\Users\\flavi\\AppData\\Local\\Programs\\Python\\Python310\\lib\\site-packages\\scipy\\stats\\_stats_py.py:1477: UserWarning: kurtosistest only valid for n>=20 ... continuing anyway, n=10\n",
      "  warnings.warn(\"kurtosistest only valid for n>=20 ... continuing \"\n"
     ]
    },
    {
     "data": {
      "text/html": [
       "<table class=\"simpletable\">\n",
       "<caption>OLS Regression Results</caption>\n",
       "<tr>\n",
       "  <th>Dep. Variable:</th>           <td>ppm</td>       <th>  R-squared:         </th> <td>   0.659</td>\n",
       "</tr>\n",
       "<tr>\n",
       "  <th>Model:</th>                   <td>OLS</td>       <th>  Adj. R-squared:    </th> <td>   0.562</td>\n",
       "</tr>\n",
       "<tr>\n",
       "  <th>Method:</th>             <td>Least Squares</td>  <th>  F-statistic:       </th> <td>   6.775</td>\n",
       "</tr>\n",
       "<tr>\n",
       "  <th>Date:</th>             <td>Mon, 11 Apr 2022</td> <th>  Prob (F-statistic):</th>  <td>0.0231</td> \n",
       "</tr>\n",
       "<tr>\n",
       "  <th>Time:</th>                 <td>22:05:13</td>     <th>  Log-Likelihood:    </th> <td> -26.384</td>\n",
       "</tr>\n",
       "<tr>\n",
       "  <th>No. Observations:</th>      <td>    10</td>      <th>  AIC:               </th> <td>   58.77</td>\n",
       "</tr>\n",
       "<tr>\n",
       "  <th>Df Residuals:</th>          <td>     7</td>      <th>  BIC:               </th> <td>   59.68</td>\n",
       "</tr>\n",
       "<tr>\n",
       "  <th>Df Model:</th>              <td>     2</td>      <th>                     </th>     <td> </td>   \n",
       "</tr>\n",
       "<tr>\n",
       "  <th>Covariance Type:</th>      <td>nonrobust</td>    <th>                     </th>     <td> </td>   \n",
       "</tr>\n",
       "</table>\n",
       "<table class=\"simpletable\">\n",
       "<tr>\n",
       "       <td></td>          <th>coef</th>     <th>std err</th>      <th>t</th>      <th>P>|t|</th>  <th>[0.025</th>    <th>0.975]</th>  \n",
       "</tr>\n",
       "<tr>\n",
       "  <th>const</th>       <td>  160.6423</td> <td>   31.790</td> <td>    5.053</td> <td> 0.001</td> <td>   85.471</td> <td>  235.814</td>\n",
       "</tr>\n",
       "<tr>\n",
       "  <th>temperatura</th> <td>   -3.7694</td> <td>    1.043</td> <td>   -3.613</td> <td> 0.009</td> <td>   -6.236</td> <td>   -1.303</td>\n",
       "</tr>\n",
       "<tr>\n",
       "  <th>umidade</th>     <td>   -0.3107</td> <td>    0.470</td> <td>   -0.661</td> <td> 0.530</td> <td>   -1.422</td> <td>    0.801</td>\n",
       "</tr>\n",
       "</table>\n",
       "<table class=\"simpletable\">\n",
       "<tr>\n",
       "  <th>Omnibus:</th>       <td> 3.026</td> <th>  Durbin-Watson:     </th> <td>   1.709</td>\n",
       "</tr>\n",
       "<tr>\n",
       "  <th>Prob(Omnibus):</th> <td> 0.220</td> <th>  Jarque-Bera (JB):  </th> <td>   0.987</td>\n",
       "</tr>\n",
       "<tr>\n",
       "  <th>Skew:</th>          <td>-0.117</td> <th>  Prob(JB):          </th> <td>   0.611</td>\n",
       "</tr>\n",
       "<tr>\n",
       "  <th>Kurtosis:</th>      <td> 1.479</td> <th>  Cond. No.          </th> <td>1.26e+03</td>\n",
       "</tr>\n",
       "</table><br/><br/>Notes:<br/>[1] Standard Errors assume that the covariance matrix of the errors is correctly specified.<br/>[2] The condition number is large, 1.26e+03. This might indicate that there are<br/>strong multicollinearity or other numerical problems."
      ],
      "text/plain": [
       "<class 'statsmodels.iolib.summary.Summary'>\n",
       "\"\"\"\n",
       "                            OLS Regression Results                            \n",
       "==============================================================================\n",
       "Dep. Variable:                    ppm   R-squared:                       0.659\n",
       "Model:                            OLS   Adj. R-squared:                  0.562\n",
       "Method:                 Least Squares   F-statistic:                     6.775\n",
       "Date:                Mon, 11 Apr 2022   Prob (F-statistic):             0.0231\n",
       "Time:                        22:05:13   Log-Likelihood:                -26.384\n",
       "No. Observations:                  10   AIC:                             58.77\n",
       "Df Residuals:                       7   BIC:                             59.68\n",
       "Df Model:                           2                                         \n",
       "Covariance Type:            nonrobust                                         \n",
       "===============================================================================\n",
       "                  coef    std err          t      P>|t|      [0.025      0.975]\n",
       "-------------------------------------------------------------------------------\n",
       "const         160.6423     31.790      5.053      0.001      85.471     235.814\n",
       "temperatura    -3.7694      1.043     -3.613      0.009      -6.236      -1.303\n",
       "umidade        -0.3107      0.470     -0.661      0.530      -1.422       0.801\n",
       "==============================================================================\n",
       "Omnibus:                        3.026   Durbin-Watson:                   1.709\n",
       "Prob(Omnibus):                  0.220   Jarque-Bera (JB):                0.987\n",
       "Skew:                          -0.117   Prob(JB):                        0.611\n",
       "Kurtosis:                       1.479   Cond. No.                     1.26e+03\n",
       "==============================================================================\n",
       "\n",
       "Notes:\n",
       "[1] Standard Errors assume that the covariance matrix of the errors is correctly specified.\n",
       "[2] The condition number is large, 1.26e+03. This might indicate that there are\n",
       "strong multicollinearity or other numerical problems.\n",
       "\"\"\""
      ]
     },
     "execution_count": 2,
     "metadata": {},
     "output_type": "execute_result"
    }
   ],
   "source": [
    "X = data[['temperatura', 'umidade']]\n",
    "X = sm.add_constant(X)\n",
    "y = data['ppm']\n",
    "\n",
    "model = sm.OLS(exog= X, endog= y)\n",
    "results = model.fit()\n",
    "results.summary()"
   ]
  }
 ],
 "metadata": {
  "kernelspec": {
   "display_name": "Python 3 (ipykernel)",
   "language": "python",
   "name": "python3"
  },
  "language_info": {
   "codemirror_mode": {
    "name": "ipython",
    "version": 3
   },
   "file_extension": ".py",
   "mimetype": "text/x-python",
   "name": "python",
   "nbconvert_exporter": "python",
   "pygments_lexer": "ipython3",
   "version": "3.10.4"
  }
 },
 "nbformat": 4,
 "nbformat_minor": 5
}
