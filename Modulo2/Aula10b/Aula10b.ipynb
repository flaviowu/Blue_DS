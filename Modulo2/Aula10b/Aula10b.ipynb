{
 "cells": [
  {
   "cell_type": "code",
   "execution_count": 1,
   "metadata": {},
   "outputs": [],
   "source": [
    "import pandas as pd\n",
    "import matplotlib.pyplot as plt\n",
    "import seaborn as sns\n",
    "\n",
    "from sklearn.linear_model import LogisticRegression\n",
    "from sklearn.metrics import confusion_matrix, classification_report\n",
    "from sklearn.preprocessing import StandardScaler\n",
    "from sklearn.model_selection import train_test_split\n",
    "from sklearn.feature_selection import RFE"
   ]
  },
  {
   "cell_type": "code",
   "execution_count": 2,
   "metadata": {},
   "outputs": [],
   "source": [
    "def get_metrics(data_frame):\n",
    "    TN = data_frame.iloc[0,0]\n",
    "    TP = data_frame.iloc[1,1]\n",
    "    FP = data_frame.iloc[0,1]\n",
    "    FN = data_frame.iloc[1,0]\n",
    "    \n",
    "    acuracia = (TP + TN)/(TP+TN+FP+FN)\n",
    "    precisao = TP/(TP+FP)\n",
    "    especificidade = TN/(TN+FP)\n",
    "    sensitividade = TP/(TP+FN)\n",
    "    \n",
    "    return { \n",
    "            \"acuracia\": acuracia,\n",
    "            \"precisao\": precisao,\n",
    "            \"especificidade\": especificidade,\n",
    "            \"sensitividade\": sensitividade\n",
    "            }"
   ]
  },
  {
   "cell_type": "code",
   "execution_count": 3,
   "metadata": {},
   "outputs": [
    {
     "data": {
      "text/html": [
       "<div>\n",
       "<style scoped>\n",
       "    .dataframe tbody tr th:only-of-type {\n",
       "        vertical-align: middle;\n",
       "    }\n",
       "\n",
       "    .dataframe tbody tr th {\n",
       "        vertical-align: top;\n",
       "    }\n",
       "\n",
       "    .dataframe thead th {\n",
       "        text-align: right;\n",
       "    }\n",
       "</style>\n",
       "<table border=\"1\" class=\"dataframe\">\n",
       "  <thead>\n",
       "    <tr style=\"text-align: right;\">\n",
       "      <th></th>\n",
       "      <th>Area</th>\n",
       "      <th>Perimeter</th>\n",
       "      <th>Major_Axis_Length</th>\n",
       "      <th>Minor_Axis_Length</th>\n",
       "      <th>Eccentricity</th>\n",
       "      <th>Convex_Area</th>\n",
       "      <th>Extent</th>\n",
       "      <th>Class</th>\n",
       "    </tr>\n",
       "  </thead>\n",
       "  <tbody>\n",
       "    <tr>\n",
       "      <th>0</th>\n",
       "      <td>15231</td>\n",
       "      <td>525.578979</td>\n",
       "      <td>229.749878</td>\n",
       "      <td>85.093788</td>\n",
       "      <td>0.928882</td>\n",
       "      <td>15617</td>\n",
       "      <td>0.572896</td>\n",
       "      <td>Cammeo</td>\n",
       "    </tr>\n",
       "    <tr>\n",
       "      <th>1</th>\n",
       "      <td>14656</td>\n",
       "      <td>494.311005</td>\n",
       "      <td>206.020065</td>\n",
       "      <td>91.730972</td>\n",
       "      <td>0.895405</td>\n",
       "      <td>15072</td>\n",
       "      <td>0.615436</td>\n",
       "      <td>Cammeo</td>\n",
       "    </tr>\n",
       "    <tr>\n",
       "      <th>2</th>\n",
       "      <td>14634</td>\n",
       "      <td>501.122009</td>\n",
       "      <td>214.106781</td>\n",
       "      <td>87.768288</td>\n",
       "      <td>0.912118</td>\n",
       "      <td>14954</td>\n",
       "      <td>0.693259</td>\n",
       "      <td>Cammeo</td>\n",
       "    </tr>\n",
       "    <tr>\n",
       "      <th>3</th>\n",
       "      <td>13176</td>\n",
       "      <td>458.342987</td>\n",
       "      <td>193.337387</td>\n",
       "      <td>87.448395</td>\n",
       "      <td>0.891861</td>\n",
       "      <td>13368</td>\n",
       "      <td>0.640669</td>\n",
       "      <td>Cammeo</td>\n",
       "    </tr>\n",
       "    <tr>\n",
       "      <th>4</th>\n",
       "      <td>14688</td>\n",
       "      <td>507.166992</td>\n",
       "      <td>211.743378</td>\n",
       "      <td>89.312454</td>\n",
       "      <td>0.906691</td>\n",
       "      <td>15262</td>\n",
       "      <td>0.646024</td>\n",
       "      <td>Cammeo</td>\n",
       "    </tr>\n",
       "  </tbody>\n",
       "</table>\n",
       "</div>"
      ],
      "text/plain": [
       "    Area   Perimeter  Major_Axis_Length  Minor_Axis_Length  Eccentricity  \\\n",
       "0  15231  525.578979         229.749878          85.093788      0.928882   \n",
       "1  14656  494.311005         206.020065          91.730972      0.895405   \n",
       "2  14634  501.122009         214.106781          87.768288      0.912118   \n",
       "3  13176  458.342987         193.337387          87.448395      0.891861   \n",
       "4  14688  507.166992         211.743378          89.312454      0.906691   \n",
       "\n",
       "   Convex_Area    Extent   Class  \n",
       "0        15617  0.572896  Cammeo  \n",
       "1        15072  0.615436  Cammeo  \n",
       "2        14954  0.693259  Cammeo  \n",
       "3        13368  0.640669  Cammeo  \n",
       "4        15262  0.646024  Cammeo  "
      ]
     },
     "execution_count": 3,
     "metadata": {},
     "output_type": "execute_result"
    }
   ],
   "source": [
    "dados = pd.read_excel('./Rice_Cammeo_Osmancik.xlsx')\n",
    "dados.head()"
   ]
  },
  {
   "cell_type": "code",
   "execution_count": 4,
   "metadata": {},
   "outputs": [
    {
     "data": {
      "text/html": [
       "<div>\n",
       "<style scoped>\n",
       "    .dataframe tbody tr th:only-of-type {\n",
       "        vertical-align: middle;\n",
       "    }\n",
       "\n",
       "    .dataframe tbody tr th {\n",
       "        vertical-align: top;\n",
       "    }\n",
       "\n",
       "    .dataframe thead th {\n",
       "        text-align: right;\n",
       "    }\n",
       "</style>\n",
       "<table border=\"1\" class=\"dataframe\">\n",
       "  <thead>\n",
       "    <tr style=\"text-align: right;\">\n",
       "      <th></th>\n",
       "      <th>Area</th>\n",
       "      <th>Perimeter</th>\n",
       "      <th>Major_Axis_Length</th>\n",
       "      <th>Minor_Axis_Length</th>\n",
       "      <th>Eccentricity</th>\n",
       "      <th>Convex_Area</th>\n",
       "      <th>Extent</th>\n",
       "      <th>Class</th>\n",
       "    </tr>\n",
       "  </thead>\n",
       "  <tbody>\n",
       "    <tr>\n",
       "      <th>3805</th>\n",
       "      <td>11441</td>\n",
       "      <td>415.858002</td>\n",
       "      <td>170.486771</td>\n",
       "      <td>85.756592</td>\n",
       "      <td>0.864280</td>\n",
       "      <td>11628</td>\n",
       "      <td>0.681012</td>\n",
       "      <td>Osmancik</td>\n",
       "    </tr>\n",
       "    <tr>\n",
       "      <th>3806</th>\n",
       "      <td>11625</td>\n",
       "      <td>421.390015</td>\n",
       "      <td>167.714798</td>\n",
       "      <td>89.462570</td>\n",
       "      <td>0.845850</td>\n",
       "      <td>11904</td>\n",
       "      <td>0.694279</td>\n",
       "      <td>Osmancik</td>\n",
       "    </tr>\n",
       "    <tr>\n",
       "      <th>3807</th>\n",
       "      <td>12437</td>\n",
       "      <td>442.498993</td>\n",
       "      <td>183.572922</td>\n",
       "      <td>86.801979</td>\n",
       "      <td>0.881144</td>\n",
       "      <td>12645</td>\n",
       "      <td>0.626739</td>\n",
       "      <td>Osmancik</td>\n",
       "    </tr>\n",
       "    <tr>\n",
       "      <th>3808</th>\n",
       "      <td>9882</td>\n",
       "      <td>392.296997</td>\n",
       "      <td>161.193985</td>\n",
       "      <td>78.210480</td>\n",
       "      <td>0.874406</td>\n",
       "      <td>10097</td>\n",
       "      <td>0.659064</td>\n",
       "      <td>Osmancik</td>\n",
       "    </tr>\n",
       "    <tr>\n",
       "      <th>3809</th>\n",
       "      <td>11434</td>\n",
       "      <td>404.709991</td>\n",
       "      <td>161.079269</td>\n",
       "      <td>90.868195</td>\n",
       "      <td>0.825692</td>\n",
       "      <td>11591</td>\n",
       "      <td>0.802949</td>\n",
       "      <td>Osmancik</td>\n",
       "    </tr>\n",
       "  </tbody>\n",
       "</table>\n",
       "</div>"
      ],
      "text/plain": [
       "       Area   Perimeter  Major_Axis_Length  Minor_Axis_Length  Eccentricity  \\\n",
       "3805  11441  415.858002         170.486771          85.756592      0.864280   \n",
       "3806  11625  421.390015         167.714798          89.462570      0.845850   \n",
       "3807  12437  442.498993         183.572922          86.801979      0.881144   \n",
       "3808   9882  392.296997         161.193985          78.210480      0.874406   \n",
       "3809  11434  404.709991         161.079269          90.868195      0.825692   \n",
       "\n",
       "      Convex_Area    Extent     Class  \n",
       "3805        11628  0.681012  Osmancik  \n",
       "3806        11904  0.694279  Osmancik  \n",
       "3807        12645  0.626739  Osmancik  \n",
       "3808        10097  0.659064  Osmancik  \n",
       "3809        11591  0.802949  Osmancik  "
      ]
     },
     "execution_count": 4,
     "metadata": {},
     "output_type": "execute_result"
    }
   ],
   "source": [
    "dados.tail()"
   ]
  },
  {
   "cell_type": "code",
   "execution_count": 5,
   "metadata": {},
   "outputs": [],
   "source": [
    "dados = pd.get_dummies(data=dados, columns=['Class'], drop_first=True)"
   ]
  },
  {
   "cell_type": "code",
   "execution_count": 6,
   "metadata": {},
   "outputs": [
    {
     "data": {
      "text/html": [
       "<div>\n",
       "<style scoped>\n",
       "    .dataframe tbody tr th:only-of-type {\n",
       "        vertical-align: middle;\n",
       "    }\n",
       "\n",
       "    .dataframe tbody tr th {\n",
       "        vertical-align: top;\n",
       "    }\n",
       "\n",
       "    .dataframe thead th {\n",
       "        text-align: right;\n",
       "    }\n",
       "</style>\n",
       "<table border=\"1\" class=\"dataframe\">\n",
       "  <thead>\n",
       "    <tr style=\"text-align: right;\">\n",
       "      <th></th>\n",
       "      <th>Area</th>\n",
       "      <th>Perimeter</th>\n",
       "      <th>Major_Axis_Length</th>\n",
       "      <th>Minor_Axis_Length</th>\n",
       "      <th>Eccentricity</th>\n",
       "      <th>Convex_Area</th>\n",
       "      <th>Extent</th>\n",
       "      <th>Class_Osmancik</th>\n",
       "    </tr>\n",
       "  </thead>\n",
       "  <tbody>\n",
       "    <tr>\n",
       "      <th>0</th>\n",
       "      <td>15231</td>\n",
       "      <td>525.578979</td>\n",
       "      <td>229.749878</td>\n",
       "      <td>85.093788</td>\n",
       "      <td>0.928882</td>\n",
       "      <td>15617</td>\n",
       "      <td>0.572896</td>\n",
       "      <td>0</td>\n",
       "    </tr>\n",
       "    <tr>\n",
       "      <th>1</th>\n",
       "      <td>14656</td>\n",
       "      <td>494.311005</td>\n",
       "      <td>206.020065</td>\n",
       "      <td>91.730972</td>\n",
       "      <td>0.895405</td>\n",
       "      <td>15072</td>\n",
       "      <td>0.615436</td>\n",
       "      <td>0</td>\n",
       "    </tr>\n",
       "    <tr>\n",
       "      <th>2</th>\n",
       "      <td>14634</td>\n",
       "      <td>501.122009</td>\n",
       "      <td>214.106781</td>\n",
       "      <td>87.768288</td>\n",
       "      <td>0.912118</td>\n",
       "      <td>14954</td>\n",
       "      <td>0.693259</td>\n",
       "      <td>0</td>\n",
       "    </tr>\n",
       "    <tr>\n",
       "      <th>3</th>\n",
       "      <td>13176</td>\n",
       "      <td>458.342987</td>\n",
       "      <td>193.337387</td>\n",
       "      <td>87.448395</td>\n",
       "      <td>0.891861</td>\n",
       "      <td>13368</td>\n",
       "      <td>0.640669</td>\n",
       "      <td>0</td>\n",
       "    </tr>\n",
       "    <tr>\n",
       "      <th>4</th>\n",
       "      <td>14688</td>\n",
       "      <td>507.166992</td>\n",
       "      <td>211.743378</td>\n",
       "      <td>89.312454</td>\n",
       "      <td>0.906691</td>\n",
       "      <td>15262</td>\n",
       "      <td>0.646024</td>\n",
       "      <td>0</td>\n",
       "    </tr>\n",
       "  </tbody>\n",
       "</table>\n",
       "</div>"
      ],
      "text/plain": [
       "    Area   Perimeter  Major_Axis_Length  Minor_Axis_Length  Eccentricity  \\\n",
       "0  15231  525.578979         229.749878          85.093788      0.928882   \n",
       "1  14656  494.311005         206.020065          91.730972      0.895405   \n",
       "2  14634  501.122009         214.106781          87.768288      0.912118   \n",
       "3  13176  458.342987         193.337387          87.448395      0.891861   \n",
       "4  14688  507.166992         211.743378          89.312454      0.906691   \n",
       "\n",
       "   Convex_Area    Extent  Class_Osmancik  \n",
       "0        15617  0.572896               0  \n",
       "1        15072  0.615436               0  \n",
       "2        14954  0.693259               0  \n",
       "3        13368  0.640669               0  \n",
       "4        15262  0.646024               0  "
      ]
     },
     "execution_count": 6,
     "metadata": {},
     "output_type": "execute_result"
    }
   ],
   "source": [
    "rice_classes = ['Cammeo', 'Osmancik']\n",
    "dados.head()"
   ]
  },
  {
   "cell_type": "code",
   "execution_count": 7,
   "metadata": {},
   "outputs": [],
   "source": [
    "dados = dados.sample(frac=1, random_state=10).reset_index(drop=True)\n",
    "\n",
    "X = dados.drop('Class_Osmancik', axis = 1)\n",
    "y = dados.Class_Osmancik\n",
    "X_std = StandardScaler().fit_transform(X)\n",
    "\n",
    "X_train, X_test, y_train, y_test = train_test_split(X_std, y, test_size = 0.3, random_state=10)\n",
    "lr = LogisticRegression(random_state=42)\n",
    "lr.fit(X_train, y_train)\n",
    "y_pred = lr.predict(X_test)\n"
   ]
  },
  {
   "cell_type": "code",
   "execution_count": 8,
   "metadata": {},
   "outputs": [
    {
     "data": {
      "text/html": [
       "<div>\n",
       "<style scoped>\n",
       "    .dataframe tbody tr th:only-of-type {\n",
       "        vertical-align: middle;\n",
       "    }\n",
       "\n",
       "    .dataframe tbody tr th {\n",
       "        vertical-align: top;\n",
       "    }\n",
       "\n",
       "    .dataframe thead th {\n",
       "        text-align: right;\n",
       "    }\n",
       "</style>\n",
       "<table border=\"1\" class=\"dataframe\">\n",
       "  <thead>\n",
       "    <tr style=\"text-align: right;\">\n",
       "      <th></th>\n",
       "      <th>Pred Cammeo</th>\n",
       "      <th>Pred Osmancik</th>\n",
       "    </tr>\n",
       "  </thead>\n",
       "  <tbody>\n",
       "    <tr>\n",
       "      <th>Ver Cammeo</th>\n",
       "      <td>0.932790</td>\n",
       "      <td>0.067210</td>\n",
       "    </tr>\n",
       "    <tr>\n",
       "      <th>Ver Osmancik</th>\n",
       "      <td>0.070552</td>\n",
       "      <td>0.929448</td>\n",
       "    </tr>\n",
       "  </tbody>\n",
       "</table>\n",
       "</div>"
      ],
      "text/plain": [
       "              Pred Cammeo  Pred Osmancik\n",
       "Ver Cammeo       0.932790       0.067210\n",
       "Ver Osmancik     0.070552       0.929448"
      ]
     },
     "execution_count": 8,
     "metadata": {},
     "output_type": "execute_result"
    }
   ],
   "source": [
    "cfmatrix = pd.DataFrame(confusion_matrix(y_test, y_pred, normalize='true'), columns=[\"Pred Cammeo\", \"Pred Osmancik\"], index=[\"Ver Cammeo\", \"Ver Osmancik\"])\n",
    "#cfmatrix = pd.DataFrame(confusion_matrix(y_test, y_pred), columns=[\"Pred Cammeo\", \"Pred Osmancik\"], index=[\"Ver Cammeo\", \"Ver Osmancik\"])\n",
    "cfmatrix"
   ]
  },
  {
   "cell_type": "code",
   "execution_count": 9,
   "metadata": {},
   "outputs": [
    {
     "name": "stdout",
     "output_type": "stream",
     "text": [
      "              precision    recall  f1-score   support\n",
      "\n",
      "           0       0.91      0.93      0.92       491\n",
      "           1       0.95      0.93      0.94       652\n",
      "\n",
      "    accuracy                           0.93      1143\n",
      "   macro avg       0.93      0.93      0.93      1143\n",
      "weighted avg       0.93      0.93      0.93      1143\n",
      "\n"
     ]
    }
   ],
   "source": [
    "print(classification_report(y_test, y_pred))"
   ]
  },
  {
   "cell_type": "code",
   "execution_count": 10,
   "metadata": {},
   "outputs": [
    {
     "data": {
      "text/plain": [
       "{'acuracia': 0.9311190383966614,\n",
       " 'precisao': 0.9325648306598718,\n",
       " 'especificidade': 0.9327902240325866,\n",
       " 'sensitividade': 0.9294478527607362}"
      ]
     },
     "execution_count": 10,
     "metadata": {},
     "output_type": "execute_result"
    }
   ],
   "source": [
    "metrics = get_metrics(cfmatrix)\n",
    "metrics"
   ]
  },
  {
   "cell_type": "code",
   "execution_count": 11,
   "metadata": {},
   "outputs": [
    {
     "data": {
      "text/html": [
       "<div>\n",
       "<style scoped>\n",
       "    .dataframe tbody tr th:only-of-type {\n",
       "        vertical-align: middle;\n",
       "    }\n",
       "\n",
       "    .dataframe tbody tr th {\n",
       "        vertical-align: top;\n",
       "    }\n",
       "\n",
       "    .dataframe thead th {\n",
       "        text-align: right;\n",
       "    }\n",
       "</style>\n",
       "<table border=\"1\" class=\"dataframe\">\n",
       "  <thead>\n",
       "    <tr style=\"text-align: right;\">\n",
       "      <th></th>\n",
       "      <th>Class_Osmancik</th>\n",
       "    </tr>\n",
       "  </thead>\n",
       "  <tbody>\n",
       "    <tr>\n",
       "      <th>Major_Axis_Length</th>\n",
       "      <td>-0.827824</td>\n",
       "    </tr>\n",
       "    <tr>\n",
       "      <th>Perimeter</th>\n",
       "      <td>-0.806572</td>\n",
       "    </tr>\n",
       "    <tr>\n",
       "      <th>Convex_Area</th>\n",
       "      <td>-0.750424</td>\n",
       "    </tr>\n",
       "    <tr>\n",
       "      <th>Area</th>\n",
       "      <td>-0.746400</td>\n",
       "    </tr>\n",
       "    <tr>\n",
       "      <th>Eccentricity</th>\n",
       "      <td>-0.588916</td>\n",
       "    </tr>\n",
       "    <tr>\n",
       "      <th>Minor_Axis_Length</th>\n",
       "      <td>-0.370355</td>\n",
       "    </tr>\n",
       "    <tr>\n",
       "      <th>Extent</th>\n",
       "      <td>0.117727</td>\n",
       "    </tr>\n",
       "    <tr>\n",
       "      <th>Class_Osmancik</th>\n",
       "      <td>1.000000</td>\n",
       "    </tr>\n",
       "  </tbody>\n",
       "</table>\n",
       "</div>"
      ],
      "text/plain": [
       "                   Class_Osmancik\n",
       "Major_Axis_Length       -0.827824\n",
       "Perimeter               -0.806572\n",
       "Convex_Area             -0.750424\n",
       "Area                    -0.746400\n",
       "Eccentricity            -0.588916\n",
       "Minor_Axis_Length       -0.370355\n",
       "Extent                   0.117727\n",
       "Class_Osmancik           1.000000"
      ]
     },
     "execution_count": 11,
     "metadata": {},
     "output_type": "execute_result"
    }
   ],
   "source": [
    "correlation = dados.corr()[['Class_Osmancik']].sort_values(by='Class_Osmancik')\n",
    "correlation"
   ]
  },
  {
   "cell_type": "code",
   "execution_count": 12,
   "metadata": {},
   "outputs": [],
   "source": [
    "X2 = dados.drop('Class_Osmancik', axis = 1)\n",
    "y2 = dados.Class_Osmancik\n",
    "X2_std = StandardScaler().fit_transform(X2)\n",
    "\n",
    "lr = LogisticRegression(random_state=42)\n",
    "selector = RFE(estimator=lr, n_features_to_select=3, step=1)\n",
    "selector = selector.fit(X2_std, y2)\n",
    "\n",
    "X2 = X2[X2.columns[selector.support_]]\n",
    "X2_std = StandardScaler().fit_transform(X2)\n",
    "X2_train, X2_test, y2_train, y2_test = train_test_split(X2_std, y2, test_size = 0.3, random_state=10)\n",
    "\n",
    "lr.fit(X2_train, y2_train)\n",
    "y2_pred = lr.predict(X2_test)"
   ]
  },
  {
   "cell_type": "code",
   "execution_count": 13,
   "metadata": {},
   "outputs": [
    {
     "data": {
      "text/html": [
       "<div>\n",
       "<style scoped>\n",
       "    .dataframe tbody tr th:only-of-type {\n",
       "        vertical-align: middle;\n",
       "    }\n",
       "\n",
       "    .dataframe tbody tr th {\n",
       "        vertical-align: top;\n",
       "    }\n",
       "\n",
       "    .dataframe thead th {\n",
       "        text-align: right;\n",
       "    }\n",
       "</style>\n",
       "<table border=\"1\" class=\"dataframe\">\n",
       "  <thead>\n",
       "    <tr style=\"text-align: right;\">\n",
       "      <th></th>\n",
       "      <th>Pred Cammeo</th>\n",
       "      <th>Pred Osmancik</th>\n",
       "    </tr>\n",
       "  </thead>\n",
       "  <tbody>\n",
       "    <tr>\n",
       "      <th>Ver Cammeo</th>\n",
       "      <td>0.932790</td>\n",
       "      <td>0.067210</td>\n",
       "    </tr>\n",
       "    <tr>\n",
       "      <th>Ver Osmancik</th>\n",
       "      <td>0.067485</td>\n",
       "      <td>0.932515</td>\n",
       "    </tr>\n",
       "  </tbody>\n",
       "</table>\n",
       "</div>"
      ],
      "text/plain": [
       "              Pred Cammeo  Pred Osmancik\n",
       "Ver Cammeo       0.932790       0.067210\n",
       "Ver Osmancik     0.067485       0.932515"
      ]
     },
     "execution_count": 13,
     "metadata": {},
     "output_type": "execute_result"
    }
   ],
   "source": [
    "cfmatrix2 = pd.DataFrame(confusion_matrix(y2_test, y2_pred, normalize='true'), columns=[\"Pred Cammeo\", \"Pred Osmancik\"], index=[\"Ver Cammeo\", \"Ver Osmancik\"])\n",
    "#cfmatrix2 = pd.DataFrame(confusion_matrix(y2_test, y2_pred), columns=[\"Pred Cammeo\", \"Pred Osmancik\"], index=[\"Ver Cammeo\", \"Ver Osmancik\"])\n",
    "cfmatrix2"
   ]
  },
  {
   "cell_type": "code",
   "execution_count": 14,
   "metadata": {},
   "outputs": [
    {
     "data": {
      "text/plain": [
       "Index(['Perimeter', 'Eccentricity', 'Convex_Area'], dtype='object')"
      ]
     },
     "execution_count": 14,
     "metadata": {},
     "output_type": "execute_result"
    }
   ],
   "source": [
    "X2.columns"
   ]
  },
  {
   "cell_type": "code",
   "execution_count": 15,
   "metadata": {},
   "outputs": [
    {
     "data": {
      "image/png": "[encoded data removed]",
      "text/plain": [
       "<Figure size 1000x500 with 4 Axes>"
      ]
     },
     "metadata": {
      "needs_background": "light"
     },
     "output_type": "display_data"
    }
   ],
   "source": [
    "plt.figure(figsize=(10, 5), dpi=100)\n",
    "\n",
    "plt.subplot(1,2,1)\n",
    "sns.heatmap(data=cfmatrix, annot=True)\n",
    "\n",
    "plt.subplot(1,2,2)\n",
    "sns.heatmap(data=cfmatrix2, annot=True);"
   ]
  },
  {
   "cell_type": "code",
   "execution_count": 16,
   "metadata": {},
   "outputs": [
    {
     "name": "stdout",
     "output_type": "stream",
     "text": [
      "              precision    recall  f1-score   support\n",
      "\n",
      "      Cammeo       0.91      0.93      0.92       491\n",
      "    Osmancik       0.95      0.93      0.94       652\n",
      "\n",
      "    accuracy                           0.93      1143\n",
      "   macro avg       0.93      0.93      0.93      1143\n",
      "weighted avg       0.93      0.93      0.93      1143\n",
      "\n"
     ]
    }
   ],
   "source": [
    "print(classification_report(y_test, y_pred, target_names=rice_classes))"
   ]
  },
  {
   "cell_type": "code",
   "execution_count": 17,
   "metadata": {},
   "outputs": [
    {
     "data": {
      "text/plain": [
       "{'acuracia': 0.9311190383966614,\n",
       " 'precisao': 0.9325648306598718,\n",
       " 'especificidade': 0.9327902240325866,\n",
       " 'sensitividade': 0.9294478527607362}"
      ]
     },
     "execution_count": 17,
     "metadata": {},
     "output_type": "execute_result"
    }
   ],
   "source": [
    "metrics"
   ]
  },
  {
   "cell_type": "code",
   "execution_count": 18,
   "metadata": {},
   "outputs": [
    {
     "name": "stdout",
     "output_type": "stream",
     "text": [
      "              precision    recall  f1-score   support\n",
      "\n",
      "      Cammeo       0.91      0.93      0.92       491\n",
      "    Osmancik       0.95      0.93      0.94       652\n",
      "\n",
      "    accuracy                           0.93      1143\n",
      "   macro avg       0.93      0.93      0.93      1143\n",
      "weighted avg       0.93      0.93      0.93      1143\n",
      "\n"
     ]
    }
   ],
   "source": [
    "print(classification_report(y2_test, y2_pred, target_names=rice_classes))"
   ]
  },
  {
   "cell_type": "code",
   "execution_count": 19,
   "metadata": {},
   "outputs": [
    {
     "data": {
      "text/plain": [
       "{'acuracia': 0.9326527807279497,\n",
       " 'precisao': 0.9327717438852158,\n",
       " 'especificidade': 0.9327902240325866,\n",
       " 'sensitividade': 0.9325153374233128}"
      ]
     },
     "execution_count": 19,
     "metadata": {},
     "output_type": "execute_result"
    }
   ],
   "source": [
    "metrics2 = get_metrics(cfmatrix2)\n",
    "metrics2"
   ]
  }
 ],
 "metadata": {
  "interpreter": {
   "hash": "7afd59096244d97ef5c7934876c35506a498e2be4a7124990c4fad59e69abaf3"
  },
  "kernelspec": {
   "display_name": "Python 3 (ipykernel)",
   "language": "python",
   "name": "python3"
  },
  "language_info": {
   "codemirror_mode": {
    "name": "ipython",
    "version": 3
   },
   "file_extension": ".py",
   "mimetype": "text/x-python",
   "name": "python",
   "nbconvert_exporter": "python",
   "pygments_lexer": "ipython3",
   "version": "3.10.4"
  }
 },
 "nbformat": 4,
 "nbformat_minor": 4
}
